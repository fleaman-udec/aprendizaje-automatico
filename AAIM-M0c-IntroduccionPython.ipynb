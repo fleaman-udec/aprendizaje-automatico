{
 "cells": [
  {
   "cell_type": "markdown",
   "metadata": {
    "slideshow": {
     "slide_type": "slide"
    }
   },
   "source": [
    "# Aprendizaje Automático Ingeniería Mecánica (AAIM)\n",
    "## Introducción a Python\n",
    "\n",
    "<center>\n",
    "    <img src=\"figures/python.jpg\" width=\"500\" />\n",
    "</center>"
   ]
  },
  {
   "cell_type": "markdown",
   "metadata": {
    "slideshow": {
     "slide_type": "slide"
    }
   },
   "source": [
    "# Objetivos de la clase\n",
    "- Conocer del lenguaje de programación Python\n",
    "- Dar los primeros pasos en Anaconda y Jupiter Notebook\n",
    "- Aprender sintaxis, módulos y objetos básicos en Python\n"
   ]
  },
  {
   "cell_type": "markdown",
   "metadata": {
    "slideshow": {
     "slide_type": "slide"
    }
   },
   "source": [
    "# Filosofía Python\n",
    "- Bello es mejor que feo.\n",
    "- Explícito es mejor que implícito.\n",
    "- Simple es mejor que complejo.\n",
    "- Complejo es mejor que complicado.\n",
    "- Plano es mejor que anidado.\n",
    "- La legibilidad cuenta.\n",
    "- Lo práctico gana a lo puro.\n",
    "- Los errores nunca deberían dejarse pasar silenciosamente.\n",
    "- A menos que hayan sido silenciados explícitamente."
   ]
  },
  {
   "cell_type": "markdown",
   "metadata": {
    "slideshow": {
     "slide_type": "slide"
    }
   },
   "source": [
    "# Orientado al objeto vs funcional\n",
    "<br>\n",
    "<center>\n",
    "    <img src=\"figures/programming.jpg\" width=\"800\" />\n",
    "</center>"
   ]
  },
  {
   "cell_type": "markdown",
   "metadata": {
    "slideshow": {
     "slide_type": "slide"
    }
   },
   "source": [
    "# Modularidad\n",
    "<br>\n",
    "<center>\n",
    "    <img src=\"figures/modules.jpg\" width=\"800\" />\n",
    "</center>"
   ]
  },
  {
   "cell_type": "markdown",
   "metadata": {
    "slideshow": {
     "slide_type": "slide"
    }
   },
   "source": [
    "# Anaconda\n",
    "Es una distribución (paquete) de Python con los módulos fundamentales\n",
    "<center>\n",
    "    <img src=\"figures/anaconda.jpg\" width=\"1000\" />\n",
    "</center>"
   ]
  },
  {
   "cell_type": "markdown",
   "metadata": {
    "slideshow": {
     "slide_type": "subslide"
    }
   },
   "source": [
    "**Instalación y uso**\n",
    "\n",
    "- https://www.anaconda.com/products/individual (Instalar siguiendo opciones por defecto)\n",
    "- Desde Windows: buscar Anaconda Prompt\n",
    "- Dentro de Anaconda Prompt ejecutar \"python <name.py>\", donde <name.py> es el nombre del script a ejecutar\n",
    "- La consola de Anaconda debe estar apuntando al directorio donde está el script <name.py>. \n",
    "- Esto se consigue ejecutando antes el comando \"cd <my.path>\", donde <my.path> es la carpeta de trabajo\n",
    "\n"
   ]
  },
  {
   "cell_type": "markdown",
   "metadata": {
    "slideshow": {
     "slide_type": "slide"
    }
   },
   "source": [
    "# Jupyter Notebook\n",
    "Es un ambiente computacional  interactivo que soporta los lenguajes de programación: Julia, Python y R.\n",
    "\n",
    "Es para crear documentos tipo cuaderno con celdas de código, de texto (markdown) y otras.\n",
    "\n",
    "<center>\n",
    "    <img src=\"figures/jupyter-1.png\" width=\"700\" />\n",
    "</center>\n",
    "\n",
    "Se realizan impresiones de variables/gráficos dentro del mismo cuaderno.\n"
   ]
  },
  {
   "cell_type": "markdown",
   "metadata": {
    "slideshow": {
     "slide_type": "subslide"
    }
   },
   "source": [
    "**Instalación y uso**\n",
    "- Viene incluido dentro de Anaconda.\n",
    "- Desde el Anaconda Prompt se ejecuta \"jupyter notebook\" para abrir el ambiente dentro del explorador web.\n",
    "- Esto abre el ambiente Jupyter usualmente en el directorio C:\\Users\\myuser\n",
    "- Para abrirlo en otro directorio ejecutar antes un cambio de directorio."
   ]
  },
  {
   "cell_type": "code",
   "execution_count": 2,
   "metadata": {
    "slideshow": {
     "slide_type": "subslide"
    }
   },
   "outputs": [
    {
     "name": "stdout",
     "output_type": "stream",
     "text": [
      "hoaaala!!\n"
     ]
    }
   ],
   "source": [
    "print('hoaaala!!')"
   ]
  },
  {
   "cell_type": "markdown",
   "metadata": {
    "slideshow": {
     "slide_type": "slide"
    }
   },
   "source": [
    "# Sintaxis básica, estructuras y algunos objetos"
   ]
  },
  {
   "cell_type": "code",
   "execution_count": 6,
   "metadata": {
    "slideshow": {
     "slide_type": "subslide"
    }
   },
   "outputs": [
    {
     "name": "stdout",
     "output_type": "stream",
     "text": [
      "3\n",
      "El resultado es:  6\n",
      "c, d\n"
     ]
    }
   ],
   "source": [
    "# Asignación de variables, operaciones matemáticas, impresión en pantalla\n",
    "a = 3\n",
    "b = a + 3\n",
    "c = a*b\n",
    "d = a/b\n",
    "print(a)\n",
    "print('El resultado es: ', b)\n",
    "print('c, d')"
   ]
  },
  {
   "cell_type": "code",
   "execution_count": 21,
   "metadata": {
    "slideshow": {
     "slide_type": "subslide"
    }
   },
   "outputs": [
    {
     "name": "stdout",
     "output_type": "stream",
     "text": [
      "a es igual a 2\n"
     ]
    }
   ],
   "source": [
    "# if+else\n",
    "a = 2\n",
    "b = 6\n",
    "if a == 2:\n",
    "    # kjbnkdfnskndfs\n",
    "    print('a es igual a 2')\n",
    "    if b == 1:\n",
    "        print('b es un0')\n",
    "else:\n",
    "    print('a NO es igual a 2')\n",
    "    print('hola')"
   ]
  },
  {
   "cell_type": "code",
   "execution_count": 12,
   "metadata": {
    "slideshow": {
     "slide_type": "subslide"
    }
   },
   "outputs": [
    {
     "name": "stdout",
     "output_type": "stream",
     "text": [
      "a es igual a 3\n"
     ]
    }
   ],
   "source": [
    "# if+elif+else\n",
    "if a == 3:\n",
    "    print('a es igual a 3')\n",
    "elif a == 2:\n",
    "    print('a es igual a 2')\n",
    "elif a == 1:\n",
    "    print('a es igual a 1')\n",
    "else:\n",
    "    print('a es igual a otro número')"
   ]
  },
  {
   "cell_type": "code",
   "execution_count": 31,
   "metadata": {
    "slideshow": {
     "slide_type": "subslide"
    }
   },
   "outputs": [
    {
     "name": "stdout",
     "output_type": "stream",
     "text": [
      "rojo verde\n",
      "3\n"
     ]
    }
   ],
   "source": [
    "# Strings, listas\n",
    "x = 'perro'\n",
    "y = [1, 2, 4]\n",
    "z = ['rojo', 'azul', 'verde']\n",
    "w = [9, 'amarillo']\n",
    "print(z[0], z[2])\n",
    "#print(y)\n",
    "#print(x+x)\n",
    "#print(y+z)\n",
    "#print(z[0])\n",
    "#print(z[1])\n",
    "print(len(z))"
   ]
  },
  {
   "cell_type": "code",
   "execution_count": 36,
   "metadata": {
    "slideshow": {
     "slide_type": "subslide"
    }
   },
   "outputs": [
    {
     "name": "stdout",
     "output_type": "stream",
     "text": [
      "+++++primer for\n",
      "rojo\n",
      "azul\n",
      "verde\n",
      "verde\n",
      "+++++segundo for\n",
      "0\n",
      "1\n",
      "2\n",
      "+++++tercer for\n",
      "rojo\n",
      "azul\n",
      "verde\n"
     ]
    }
   ],
   "source": [
    "# for\n",
    "z = ['rojo', 'azul', 'verde']\n",
    "print('+++++primer for')\n",
    "for hola in z:\n",
    "    print(hola)\n",
    "print(hola)\n",
    "print('+++++segundo for')\n",
    "for i in range(len(z)):\n",
    "    print(i)\n",
    "\n",
    "print('+++++tercer for')\n",
    "for i in range(len(z)):\n",
    "    print(z[i])"
   ]
  },
  {
   "cell_type": "code",
   "execution_count": 38,
   "metadata": {
    "slideshow": {
     "slide_type": "subslide"
    }
   },
   "outputs": [
    {
     "name": "stdout",
     "output_type": "stream",
     "text": [
      "+++++primer while\n",
      "0\n",
      "1\n",
      "2\n",
      "3\n",
      "+++++segundo while\n",
      "0\n",
      "1\n",
      "2\n",
      "3\n",
      "4\n",
      "5\n"
     ]
    }
   ],
   "source": [
    "# while\n",
    "print('+++++primer while')\n",
    "a = 0\n",
    "while a <= 3:\n",
    "    print(a)\n",
    "    a = a + 1\n",
    "\n",
    "print('+++++segundo while')\n",
    "a = 0\n",
    "b = 'yes'\n",
    "while b != 'no' and a < 10:\n",
    "    print(a)\n",
    "    a = a + 1\n",
    "    if a == 6:\n",
    "        b = 'no'"
   ]
  },
  {
   "cell_type": "code",
   "execution_count": 46,
   "metadata": {
    "slideshow": {
     "slide_type": "subslide"
    }
   },
   "outputs": [
    {
     "name": "stdout",
     "output_type": "stream",
     "text": [
      "[0, 10, 20, 30, 40, 50, 60, 70, 80, 90]\n",
      "[50, 60, 70, 80]\n",
      "90\n",
      "[20, 30, 40, 50, 60, 70, 80, 90]\n",
      "[0, 10, 20, 30, 40]\n"
     ]
    }
   ],
   "source": [
    "#Indexación de listas\n",
    "a = []\n",
    "for i in range(10):\n",
    "    a = a + [i*10]\n",
    "print(a)\n",
    "print(a[5:9])\n",
    "print(a[-1])\n",
    "print(a[2:])\n",
    "print(a[:5])"
   ]
  },
  {
   "cell_type": "code",
   "execution_count": 57,
   "metadata": {
    "scrolled": true,
    "slideshow": {
     "slide_type": "subslide"
    }
   },
   "outputs": [
    {
     "name": "stdout",
     "output_type": "stream",
     "text": [
      "{'nombre': 'juan', 'edad': 25, 'padres': ['jorge', 'camila'], 'peso': 78}\n",
      "['jorge', 'camila']\n",
      "26\n",
      "dict_keys(['nombre', 'edad', 'padres', 'peso'])\n",
      "dict_values(['juan', 26, ['jorge', 'camila'], 78])\n"
     ]
    }
   ],
   "source": [
    "# Diccionarios\n",
    "mydict = {'nombre':'juan', 'edad':25, 'padres':['jorge', 'camila'], 'peso':78}\n",
    "print(mydict)\n",
    "print(mydict['padres'])\n",
    "#print(mydict['padres'])\n",
    "mydict['edad'] = mydict['edad'] + 1\n",
    "print(mydict['edad'])\n",
    "print(mydict.keys())\n",
    "print(mydict.values())"
   ]
  },
  {
   "cell_type": "code",
   "execution_count": 58,
   "metadata": {
    "slideshow": {
     "slide_type": "subslide"
    }
   },
   "outputs": [
    {
     "name": "stdout",
     "output_type": "stream",
     "text": [
      "1\n",
      "[4, 5]\n"
     ]
    },
    {
     "ename": "TypeError",
     "evalue": "'tuple' object does not support item assignment",
     "output_type": "error",
     "traceback": [
      "\u001b[1;31m---------------------------------------------------------------------------\u001b[0m",
      "\u001b[1;31mTypeError\u001b[0m                                 Traceback (most recent call last)",
      "Cell \u001b[1;32mIn[58], line 5\u001b[0m\n\u001b[0;32m      3\u001b[0m \u001b[38;5;28mprint\u001b[39m(tupla[\u001b[38;5;241m0\u001b[39m])\n\u001b[0;32m      4\u001b[0m \u001b[38;5;28mprint\u001b[39m(tupla[\u001b[38;5;241m2\u001b[39m])\n\u001b[1;32m----> 5\u001b[0m tupla[\u001b[38;5;241m1\u001b[39m] \u001b[38;5;241m=\u001b[39m \u001b[38;5;124m'\u001b[39m\u001b[38;5;124mdef\u001b[39m\u001b[38;5;124m'\u001b[39m\n",
      "\u001b[1;31mTypeError\u001b[0m: 'tuple' object does not support item assignment"
     ]
    }
   ],
   "source": [
    "# Tuplas\n",
    "tupla = (1, 'abc', [4, 5])\n",
    "print(tupla[0])\n",
    "print(tupla[2])\n",
    "tupla[1] = 'def'"
   ]
  },
  {
   "cell_type": "code",
   "execution_count": 77,
   "metadata": {
    "slideshow": {
     "slide_type": "subslide"
    }
   },
   "outputs": [
    {
     "name": "stdout",
     "output_type": "stream",
     "text": [
      "gatoblanco\n"
     ]
    }
   ],
   "source": [
    "# funciones\n",
    "m = 'perro'\n",
    "n = 'blanco'\n",
    "def sumastringhola(str1, str2):\n",
    "    suma = 'hola ' + str1 + ' ' + str2\n",
    "    gato = 'gato' + n\n",
    "    return suma, gato\n",
    "a1, a2 = sumastringhola(m, n)\n",
    "print(a2)"
   ]
  },
  {
   "cell_type": "markdown",
   "metadata": {
    "slideshow": {
     "slide_type": "slide"
    }
   },
   "source": [
    "# Algunos módulos"
   ]
  },
  {
   "cell_type": "markdown",
   "metadata": {
    "slideshow": {
     "slide_type": "slide"
    }
   },
   "source": [
    "## Numpy\n",
    "- Operaciones matemáticas con arreglos (arrays) y matrices\n",
    "- https://numpy.org/doc/stable/reference/index.html"
   ]
  },
  {
   "cell_type": "code",
   "execution_count": 70,
   "metadata": {
    "slideshow": {
     "slide_type": "subslide"
    }
   },
   "outputs": [
    {
     "name": "stdout",
     "output_type": "stream",
     "text": [
      "<class 'numpy.ndarray'>\n",
      "<class 'list'>\n"
     ]
    }
   ],
   "source": [
    "import numpy as np\n",
    "a = np.arange(10)\n",
    "suma = np.sum(a)\n",
    "print( type(a) )\n",
    "b = [1, 5, 9]\n",
    "print( type(b) )\n"
   ]
  },
  {
   "cell_type": "code",
   "execution_count": 71,
   "metadata": {
    "slideshow": {
     "slide_type": "subslide"
    }
   },
   "outputs": [
    {
     "name": "stdout",
     "output_type": "stream",
     "text": [
      "[1 1 6 5 7 0 6 3 1 5 6 5 0 2 2 4 1 2 6 5]\n",
      "0.9999999999999999\n",
      "[0. 0. 0. 0. 0.]\n",
      "5.0\n",
      "5.0\n"
     ]
    }
   ],
   "source": [
    "print( np.random.randint(10, size=(20)) )\n",
    "print( np.tan( np.deg2rad(45) ) )\n",
    "print( np.zeros(5) )\n",
    "print( np.floor(5.6) )\n",
    "print( np.floor(5.1) )"
   ]
  },
  {
   "cell_type": "code",
   "execution_count": 73,
   "metadata": {
    "slideshow": {
     "slide_type": "subslide"
    }
   },
   "outputs": [
    {
     "name": "stdout",
     "output_type": "stream",
     "text": [
      "[[2 4 8]\n",
      " [5 7 9]]\n",
      "4\n",
      "[4 7]\n",
      "[5 7 9]\n"
     ]
    }
   ],
   "source": [
    "m = np.array( [[2, 4, 8], [5, 7, 9]] )\n",
    "print(m)\n",
    "print(m[0,1])\n",
    "print(m[:,1])\n",
    "print(m[1,:])"
   ]
  },
  {
   "cell_type": "markdown",
   "metadata": {
    "slideshow": {
     "slide_type": "slide"
    }
   },
   "source": [
    "## Matplotlib\n",
    "- Visualización de datos (listas o arrays)\n",
    "- https://matplotlib.org/"
   ]
  },
  {
   "cell_type": "code",
   "execution_count": 80,
   "metadata": {
    "slideshow": {
     "slide_type": "subslide"
    }
   },
   "outputs": [
    {
     "data": {
      "image/png": "[encoded data removed]",
      "text/plain": [
       "<Figure size 640x480 with 1 Axes>"
      ]
     },
     "metadata": {},
     "output_type": "display_data"
    }
   ],
   "source": [
    "import matplotlib.pyplot as plt\n",
    "plt.plot(a)\n",
    "plt.show()"
   ]
  },
  {
   "cell_type": "code",
   "execution_count": 82,
   "metadata": {
    "slideshow": {
     "slide_type": "subslide"
    }
   },
   "outputs": [
    {
     "data": {
      "image/png": "[encoded data removed]",
      "text/plain": [
       "<Figure size 640x480 with 1 Axes>"
      ]
     },
     "metadata": {},
     "output_type": "display_data"
    }
   ],
   "source": [
    "x = np.arange(100)*0.01\n",
    "fun = np.cos(2*np.pi*x)\n",
    "plt.plot(x, fun, color='blue', marker='o')\n",
    "plt.xlabel('tiempo s')\n",
    "plt.ylabel('amplitud V')\n",
    "plt.show()"
   ]
  },
  {
   "cell_type": "code",
   "execution_count": 83,
   "metadata": {
    "slideshow": {
     "slide_type": "subslide"
    }
   },
   "outputs": [
    {
     "data": {
      "image/png": "[encoded data removed]",
      "text/plain": [
       "<Figure size 640x480 with 1 Axes>"
      ]
     },
     "metadata": {},
     "output_type": "display_data"
    }
   ],
   "source": [
    "a = np.random.rand(10)\n",
    "b = np.random.rand(10)\n",
    "plt.scatter(a, b, marker='s', label='puntos')\n",
    "plt.legend()\n",
    "plt.show()"
   ]
  },
  {
   "cell_type": "markdown",
   "metadata": {
    "slideshow": {
     "slide_type": "slide"
    }
   },
   "source": [
    "## Pandas\n",
    "- Manipulación y análisis de datos\n",
    "- https://pandas.pydata.org/"
   ]
  },
  {
   "cell_type": "code",
   "execution_count": 85,
   "metadata": {
    "slideshow": {
     "slide_type": "subslide"
    }
   },
   "outputs": [
    {
     "data": {
      "text/html": [
       "<div>\n",
       "<style scoped>\n",
       "    .dataframe tbody tr th:only-of-type {\n",
       "        vertical-align: middle;\n",
       "    }\n",
       "\n",
       "    .dataframe tbody tr th {\n",
       "        vertical-align: top;\n",
       "    }\n",
       "\n",
       "    .dataframe thead th {\n",
       "        text-align: right;\n",
       "    }\n",
       "</style>\n",
       "<table border=\"1\" class=\"dataframe\">\n",
       "  <thead>\n",
       "    <tr style=\"text-align: right;\">\n",
       "      <th></th>\n",
       "      <th>hora</th>\n",
       "      <th>temp</th>\n",
       "      <th>acel</th>\n",
       "    </tr>\n",
       "  </thead>\n",
       "  <tbody>\n",
       "    <tr>\n",
       "      <th>lu</th>\n",
       "      <td>18:00</td>\n",
       "      <td>47.3</td>\n",
       "      <td>{'x': 10, 'y': 12}</td>\n",
       "    </tr>\n",
       "    <tr>\n",
       "      <th>ma</th>\n",
       "      <td>18:00</td>\n",
       "      <td>48.1</td>\n",
       "      <td>{'x': 11, 'y': 13}</td>\n",
       "    </tr>\n",
       "    <tr>\n",
       "      <th>mi</th>\n",
       "      <td>11:00</td>\n",
       "      <td>52.3</td>\n",
       "      <td>{'x': 10, 'y': 12}</td>\n",
       "    </tr>\n",
       "    <tr>\n",
       "      <th>ju</th>\n",
       "      <td>11:00</td>\n",
       "      <td>51.1</td>\n",
       "      <td>{'x': 13, 'y': 13}</td>\n",
       "    </tr>\n",
       "    <tr>\n",
       "      <th>vi</th>\n",
       "      <td>10:00</td>\n",
       "      <td>47.8</td>\n",
       "      <td>{'x': 15, 'y': 17}</td>\n",
       "    </tr>\n",
       "  </tbody>\n",
       "</table>\n",
       "</div>"
      ],
      "text/plain": [
       "     hora  temp                acel\n",
       "lu  18:00  47.3  {'x': 10, 'y': 12}\n",
       "ma  18:00  48.1  {'x': 11, 'y': 13}\n",
       "mi  11:00  52.3  {'x': 10, 'y': 12}\n",
       "ju  11:00  51.1  {'x': 13, 'y': 13}\n",
       "vi  10:00  47.8  {'x': 15, 'y': 17}"
      ]
     },
     "execution_count": 85,
     "metadata": {},
     "output_type": "execute_result"
    }
   ],
   "source": [
    "#dataframe\n",
    "import pandas as pd\n",
    "dic = {'hora': ['18:00', '18:00', '11:00', '11:00', '10:00'], 'temp': [47.3, 48.1, 52.3, 51.1, 47.8], \n",
    "       'acel':[{'x':10, 'y':12}, {'x':11, 'y':13}, {'x':10, 'y':12}, {'x':13, 'y':13}, {'x':15, 'y':17}] }\n",
    "df = pd.DataFrame(dic, index=['lu', 'ma', 'mi', 'ju', 'vi'])\n",
    "df"
   ]
  },
  {
   "cell_type": "code",
   "execution_count": 86,
   "metadata": {
    "slideshow": {
     "slide_type": "subslide"
    }
   },
   "outputs": [
    {
     "name": "stdout",
     "output_type": "stream",
     "text": [
      "lu    47.3\n",
      "ma    48.1\n",
      "mi    52.3\n",
      "ju    51.1\n",
      "vi    47.8\n",
      "Name: temp, dtype: float64\n",
      "+++++\n",
      "<class 'pandas.core.series.Series'>\n",
      "+++++\n",
      "[47.3, 48.1, 52.3, 51.1, 47.8]\n"
     ]
    }
   ],
   "source": [
    "print(df.temp)\n",
    "print('+++++')\n",
    "print(type(df.temp))\n",
    "print('+++++')\n",
    "print(list(df.temp))"
   ]
  },
  {
   "cell_type": "code",
   "execution_count": 4,
   "metadata": {
    "slideshow": {
     "slide_type": "subslide"
    }
   },
   "outputs": [
    {
     "data": {
      "text/html": [
       "<div>\n",
       "<style scoped>\n",
       "    .dataframe tbody tr th:only-of-type {\n",
       "        vertical-align: middle;\n",
       "    }\n",
       "\n",
       "    .dataframe tbody tr th {\n",
       "        vertical-align: top;\n",
       "    }\n",
       "\n",
       "    .dataframe thead th {\n",
       "        text-align: right;\n",
       "    }\n",
       "</style>\n",
       "<table border=\"1\" class=\"dataframe\">\n",
       "  <thead>\n",
       "    <tr style=\"text-align: right;\">\n",
       "      <th></th>\n",
       "      <th>hora</th>\n",
       "      <th>temp</th>\n",
       "      <th>acel</th>\n",
       "    </tr>\n",
       "  </thead>\n",
       "  <tbody>\n",
       "    <tr>\n",
       "      <th>mi</th>\n",
       "      <td>11:00</td>\n",
       "      <td>52.3</td>\n",
       "      <td>{'x': 10, 'y': 12}</td>\n",
       "    </tr>\n",
       "    <tr>\n",
       "      <th>ju</th>\n",
       "      <td>11:00</td>\n",
       "      <td>51.1</td>\n",
       "      <td>{'x': 13, 'y': 13}</td>\n",
       "    </tr>\n",
       "  </tbody>\n",
       "</table>\n",
       "</div>"
      ],
      "text/plain": [
       "     hora  temp                acel\n",
       "mi  11:00  52.3  {'x': 10, 'y': 12}\n",
       "ju  11:00  51.1  {'x': 13, 'y': 13}"
      ]
     },
     "execution_count": 4,
     "metadata": {},
     "output_type": "execute_result"
    }
   ],
   "source": [
    "df[df.temp>50.0]"
   ]
  },
  {
   "cell_type": "code",
   "execution_count": 87,
   "metadata": {
    "slideshow": {
     "slide_type": "subslide"
    }
   },
   "outputs": [
    {
     "data": {
      "text/html": [
       "<div>\n",
       "<style scoped>\n",
       "    .dataframe tbody tr th:only-of-type {\n",
       "        vertical-align: middle;\n",
       "    }\n",
       "\n",
       "    .dataframe tbody tr th {\n",
       "        vertical-align: top;\n",
       "    }\n",
       "\n",
       "    .dataframe thead th {\n",
       "        text-align: right;\n",
       "    }\n",
       "</style>\n",
       "<table border=\"1\" class=\"dataframe\">\n",
       "  <thead>\n",
       "    <tr style=\"text-align: right;\">\n",
       "      <th></th>\n",
       "      <th>hora</th>\n",
       "      <th>temp</th>\n",
       "      <th>acel</th>\n",
       "    </tr>\n",
       "  </thead>\n",
       "  <tbody>\n",
       "    <tr>\n",
       "      <th>ju</th>\n",
       "      <td>11:00</td>\n",
       "      <td>51.1</td>\n",
       "      <td>{'x': 13, 'y': 13}</td>\n",
       "    </tr>\n",
       "  </tbody>\n",
       "</table>\n",
       "</div>"
      ],
      "text/plain": [
       "     hora  temp                acel\n",
       "ju  11:00  51.1  {'x': 13, 'y': 13}"
      ]
     },
     "execution_count": 87,
     "metadata": {},
     "output_type": "execute_result"
    }
   ],
   "source": [
    "df[(df.temp>50.0) & (df.temp<52.0)]"
   ]
  },
  {
   "cell_type": "code",
   "execution_count": 10,
   "metadata": {
    "slideshow": {
     "slide_type": "subslide"
    }
   },
   "outputs": [
    {
     "data": {
      "text/html": [
       "<div>\n",
       "<style scoped>\n",
       "    .dataframe tbody tr th:only-of-type {\n",
       "        vertical-align: middle;\n",
       "    }\n",
       "\n",
       "    .dataframe tbody tr th {\n",
       "        vertical-align: top;\n",
       "    }\n",
       "\n",
       "    .dataframe thead th {\n",
       "        text-align: right;\n",
       "    }\n",
       "</style>\n",
       "<table border=\"1\" class=\"dataframe\">\n",
       "  <thead>\n",
       "    <tr style=\"text-align: right;\">\n",
       "      <th></th>\n",
       "      <th>hora</th>\n",
       "      <th>temp</th>\n",
       "      <th>x</th>\n",
       "      <th>y</th>\n",
       "    </tr>\n",
       "  </thead>\n",
       "  <tbody>\n",
       "    <tr>\n",
       "      <th>lu</th>\n",
       "      <td>18:00</td>\n",
       "      <td>47.3</td>\n",
       "      <td>10</td>\n",
       "      <td>12</td>\n",
       "    </tr>\n",
       "    <tr>\n",
       "      <th>ma</th>\n",
       "      <td>18:00</td>\n",
       "      <td>48.1</td>\n",
       "      <td>11</td>\n",
       "      <td>13</td>\n",
       "    </tr>\n",
       "    <tr>\n",
       "      <th>mi</th>\n",
       "      <td>11:00</td>\n",
       "      <td>52.3</td>\n",
       "      <td>10</td>\n",
       "      <td>12</td>\n",
       "    </tr>\n",
       "    <tr>\n",
       "      <th>ju</th>\n",
       "      <td>11:00</td>\n",
       "      <td>51.1</td>\n",
       "      <td>13</td>\n",
       "      <td>13</td>\n",
       "    </tr>\n",
       "    <tr>\n",
       "      <th>vi</th>\n",
       "      <td>10:00</td>\n",
       "      <td>47.8</td>\n",
       "      <td>15</td>\n",
       "      <td>17</td>\n",
       "    </tr>\n",
       "  </tbody>\n",
       "</table>\n",
       "</div>"
      ],
      "text/plain": [
       "     hora  temp   x   y\n",
       "lu  18:00  47.3  10  12\n",
       "ma  18:00  48.1  11  13\n",
       "mi  11:00  52.3  10  12\n",
       "ju  11:00  51.1  13  13\n",
       "vi  10:00  47.8  15  17"
      ]
     },
     "execution_count": 10,
     "metadata": {},
     "output_type": "execute_result"
    }
   ],
   "source": [
    "aceldf = df.acel.to_dict()\n",
    "aceldf = pd.DataFrame(aceldf)\n",
    "newdf = df.join(aceldf.T)\n",
    "newdf = newdf.drop(columns=['acel'])\n",
    "newdf"
   ]
  },
  {
   "cell_type": "code",
   "execution_count": 97,
   "metadata": {
    "slideshow": {
     "slide_type": "subslide"
    }
   },
   "outputs": [
    {
     "data": {
      "text/html": [
       "<div>\n",
       "<style scoped>\n",
       "    .dataframe tbody tr th:only-of-type {\n",
       "        vertical-align: middle;\n",
       "    }\n",
       "\n",
       "    .dataframe tbody tr th {\n",
       "        vertical-align: top;\n",
       "    }\n",
       "\n",
       "    .dataframe thead th {\n",
       "        text-align: right;\n",
       "    }\n",
       "</style>\n",
       "<table border=\"1\" class=\"dataframe\">\n",
       "  <thead>\n",
       "    <tr style=\"text-align: right;\">\n",
       "      <th></th>\n",
       "      <th>hora</th>\n",
       "      <th>temp</th>\n",
       "      <th>acel</th>\n",
       "      <th>x</th>\n",
       "      <th>y</th>\n",
       "    </tr>\n",
       "  </thead>\n",
       "  <tbody>\n",
       "    <tr>\n",
       "      <th>mi</th>\n",
       "      <td>11:00</td>\n",
       "      <td>52.3</td>\n",
       "      <td>{'x': 10, 'y': 12}</td>\n",
       "      <td>10</td>\n",
       "      <td>12</td>\n",
       "    </tr>\n",
       "  </tbody>\n",
       "</table>\n",
       "</div>"
      ],
      "text/plain": [
       "     hora  temp                acel   x   y\n",
       "mi  11:00  52.3  {'x': 10, 'y': 12}  10  12"
      ]
     },
     "execution_count": 97,
     "metadata": {},
     "output_type": "execute_result"
    }
   ],
   "source": [
    "newdf[(newdf.temp>50.0) & (newdf.y<13)]"
   ]
  },
  {
   "cell_type": "markdown",
   "metadata": {
    "slideshow": {
     "slide_type": "slide"
    }
   },
   "source": [
    "# ¡Gracias por su atención!"
   ]
  }
 ],
 "metadata": {
  "celltoolbar": "Slideshow",
  "kernelspec": {
   "display_name": "Python 3 (ipykernel)",
   "language": "python",
   "name": "python3"
  },
  "language_info": {
   "codemirror_mode": {
    "name": "ipython",
    "version": 3
   },
   "file_extension": ".py",
   "mimetype": "text/x-python",
   "name": "python",
   "nbconvert_exporter": "python",
   "pygments_lexer": "ipython3",
   "version": "3.11.5"
  }
 },
 "nbformat": 4,
 "nbformat_minor": 4
}
