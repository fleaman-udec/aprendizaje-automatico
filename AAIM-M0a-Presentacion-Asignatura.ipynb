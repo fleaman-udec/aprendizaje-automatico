{
 "cells": [
  {
   "cell_type": "markdown",
   "metadata": {
    "slideshow": {
     "slide_type": "slide"
    }
   },
   "source": [
    "# Aprendizaje Automático Ingeniería Mecánica (AAIM)\n",
    "## Presentación Curso"
   ]
  },
  {
   "cell_type": "markdown",
   "metadata": {
    "slideshow": {
     "slide_type": "slide"
    }
   },
   "source": [
    "# Objetivos de la clase\n",
    "- Presentar al docente a cargo del curso\n",
    "- Aprender sobre la motivación del curso\n",
    "- Presentar los objetivos y estructura del curso\n",
    "- Conocer la metodología, el tipo de evaluación y calendarización"
   ]
  },
  {
   "cell_type": "markdown",
   "metadata": {
    "slideshow": {
     "slide_type": "slide"
    }
   },
   "source": [
    "# Docente\n",
    "- **Prof. Félix Leaman W.**\n",
    "- Ingeniero Civil Mecánico, M.Sc. Ingeniería Mecánica (UdeC)\n",
    "- Dr.-Ing. (RWTH-Aachen, Alemania)\n",
    "- Líneas de investigación y desarrollo:\n",
    "    - Mantenimiento predictivo\n",
    "    - Análisis de emisiones acústicas en materiales\n",
    "    - Aprendizaje automático\n",
    "    - Sistemas de medición y sensores\n",
    "- Correo: fleaman@udec.cl; Oficina: 340 Facultad Ingeniería"
   ]
  },
  {
   "cell_type": "markdown",
   "metadata": {
    "slideshow": {
     "slide_type": "slide"
    }
   },
   "source": [
    "# Asignatura\n",
    "- **Aprendizaje Automático en Ingeniería Mecánica** (y Aeroespacial)\n",
    "- Calidad = electivo; Créditos UdeC = 3; Créditos SCT  = 4\n",
    "- Carga horaria\n",
    "    - Teóricas = 2; Prácticas = 1; Laboratorio = 1\n",
    "    - Total trabajo semanal = 7 horas\n",
    "- Pre-requisito = Lenguaje de programación"
   ]
  },
  {
   "cell_type": "markdown",
   "metadata": {
    "slideshow": {
     "slide_type": "slide"
    }
   },
   "source": [
    "# Motivación\n",
    "- Cada vez a un mayor ritmo, la ingeniería mecánica adopta técnicas de **inteligencia artificial (AI)** para implementar o mejorar cálculos o procesos que serían demasiado complejos con técnicas tradicionales.\n",
    "- Una razón detrás de esto es la mayor **disponibilidad de datos** producida por la sensorización, el internet de las cosas y la computación en la nube.\n",
    "\n",
    "<center>\n",
    "    <img src=\"figures/ai-4.jpeg\" width=\"500\" />\n",
    "</center>"
   ]
  },
  {
   "cell_type": "markdown",
   "metadata": {
    "slideshow": {
     "slide_type": "subslide"
    }
   },
   "source": [
    "- La AI trata con programas computacionales con capacidad de **decisión propia** para resolver un problema imitando la expertiz de un humano.\n",
    "- Las técnicas de la AI, como el **aprendizaje automático**, ya se implementan ampliamente en varias áreas de la ingeniería mecánica.\n",
    "- Algunas **aplicaciones** son reconocimiento de patrones, automatización, visión de máquinas, realidad virtual y aumentada, diseño, diagnóstico y pronóstico, robótica y sistemas de control, entre otros.\n",
    "\n",
    "<center>\n",
    "    <img src=\"figures/ai-3.jpeg\" width=\"600\" />\n",
    "</center>"
   ]
  },
  {
   "cell_type": "markdown",
   "metadata": {
    "slideshow": {
     "slide_type": "subslide"
    }
   },
   "source": [
    "## Aplicación: mantenimiento de máquinas\n",
    "Contribuye a modernizar la gestión del mantenimiento, con el objetivo de evolucionar desde el mantenimiento preventivo, al mantenimiento predictivo hasta llegar al mantenimiento prescriptivo.\n",
    "\n",
    "<br><center>\n",
    "    <img src=\"figures/maintenance-1.png\" width=\"800\" />\n",
    "</center>"
   ]
  },
  {
   "cell_type": "markdown",
   "metadata": {
    "slideshow": {
     "slide_type": "subslide"
    }
   },
   "source": [
    "## Aplicación: visión de máquinas\n",
    "Se refiere a la integración de técnicas de inspección industriales basadas en imágenes con modelos de aprendizaje automático (generalmente redes neuronales)-\n",
    "\n",
    "<br><center>\n",
    "    <img src=\"figures/vision-1.png\" width=\"600\">\n",
    "</center>"
   ]
  },
  {
   "cell_type": "markdown",
   "metadata": {
    "slideshow": {
     "slide_type": "slide"
    }
   },
   "source": [
    "# Resultados de aprendizaje\n",
    "Al finalizar la asignatura los estudiantes podrán:\n",
    "1. Definir los conceptos fundamentales del aprendizaje automático.\n",
    "2. Diferenciar los distintos tipos de modelos y seleccionar el tipo de modelo más adecuado para una determinada aplicación.\n",
    "3. Comprender los fundamentos matemáticos a través de los cuáles se construyen los modelos.\n",
    "4. Extraer, seleccionar y evaluar atributos significativos para la construcción de modelos a partir de datos brutos.\n",
    "5. Entrenar, validar y evaluar modelos de clasificación y regresión para distintas aplicaciones en ingeniería mecánica."
   ]
  },
  {
   "cell_type": "markdown",
   "metadata": {
    "slideshow": {
     "slide_type": "slide"
    }
   },
   "source": [
    "# Estructura de la asignatura\n",
    "Se divide en los siguientes módulos:\n",
    "- (M0: Introducción a la asignatura y a Python)\n",
    "- M1: Conceptos fundamentales\n",
    "- M2: Aprendizaje supervisado\n",
    "- M3: Aprendizaje no supervisado\n",
    "- M4: Otros tópicos del aprendizaje automático\n",
    "- M5: Integración y aplicaciones"
   ]
  },
  {
   "cell_type": "markdown",
   "metadata": {
    "slideshow": {
     "slide_type": "subslide"
    }
   },
   "source": [
    "## M1: Conceptos fundamentales\n",
    "- Definiciones básicas\n",
    "- Tipos de aprendizaje automático\n",
    "- Tipos de atributos\n",
    "- Construcción y evaluación de modelos\n",
    "- Errores de sesgo y varianza\n",
    "\n",
    "<center>\n",
    "    <img src=\"figures/pres-learning-1.jpg\" width=\"500\" />\n",
    "</center>"
   ]
  },
  {
   "cell_type": "markdown",
   "metadata": {
    "slideshow": {
     "slide_type": "subslide"
    }
   },
   "source": [
    "## M2: Aprendizaje supervisado\n",
    "- Modelos lineales\n",
    "- Regresión logística\n",
    "- Árboles de decisión\n",
    "- Máquina de soporte de vectores (SVM)\n",
    "- Redes neuronales artificiales (ANN)\n",
    "\n",
    "<center>\n",
    "    <img src=\"figures/pres-super-1.jpg\" width=\"500\" />\n",
    "</center>"
   ]
  },
  {
   "cell_type": "markdown",
   "metadata": {
    "slideshow": {
     "slide_type": "subslide"
    }
   },
   "source": [
    "## M3: Aprendizaje no supervisado\n",
    "- Técnicas de agrupamiento\n",
    "- Reducción de dimensionalidad\n",
    "- Detección de anomalías y novedades\n",
    "\n",
    "<center>\n",
    "    <img src=\"figures/pres-cluster-1.jpg\" width=\"500\" />\n",
    "</center>"
   ]
  },
  {
   "cell_type": "markdown",
   "metadata": {
    "slideshow": {
     "slide_type": "subslide"
    }
   },
   "source": [
    "## M4: Otros tópicos del aprendizaje automático\n",
    "- Algoritmos evolutivos\n",
    "- Aprendizaje por refuerzo\n",
    "- Aprendizaje profundo\n",
    "\n",
    "<center>\n",
    "    <img src=\"figures/pres-deep-1.jpeg\" width=\"500\" />\n",
    "</center>"
   ]
  },
  {
   "cell_type": "markdown",
   "metadata": {
    "slideshow": {
     "slide_type": "subslide"
    }
   },
   "source": [
    "## M5: Integración y aplicaciones\n",
    "\n",
    "<br><center>\n",
    "    <img src=\"figures/pres-int-1.png\" width=\"600\" />\n",
    "</center>"
   ]
  },
  {
   "cell_type": "markdown",
   "metadata": {
    "slideshow": {
     "slide_type": "slide"
    }
   },
   "source": [
    "# Evaluaciones\n",
    "## Laboratorios\n",
    "- Hay 7 laboratorios de carácter obligatorio.\n",
    "- En total ponderan 70% de la nota final, todos ponderando lo mismo.\n",
    "- Se trabajarán en grupos de 3 estudiantes.\n",
    "- Se realizarán normalmente durante las clases de los días jueves.\n",
    "    "
   ]
  },
  {
   "cell_type": "markdown",
   "metadata": {
    "slideshow": {
     "slide_type": "subslide"
    }
   },
   "source": [
    "## Proyecto\n",
    "- Evaluación obligatoria con ponderación 30% en la nota final.\n",
    "- Los grupos deberán trabajar algún tema del ámbito de la ingeniería mecánica (o aeroespacial).\n",
    "- Se contempla un avance durante el semestre y luego una presentación final.\n",
    "- El avance no es calificado, pero es requisito para realizar la presentación final.\n",
    "- La evaluación contempla una parte grupal (30%) y una parte individual (70%)"
   ]
  },
  {
   "cell_type": "markdown",
   "metadata": {
    "slideshow": {
     "slide_type": "subslide"
    }
   },
   "source": [
    "- Avance: \n",
    "    - Consiste en una presentación verbal corta (3 minutos + feedback).\n",
    "    - Se define el tema del proyecto y cómo se obtendrán los datos.\n",
    "- Presentación final:\n",
    "    - Exposición de todo el trabajo desarrollado.\n",
    "    - Presentación de duración entre 15 y 20 minutos más ronda de preguntas.\n",
    "    - Se considera además revisión del código."
   ]
  },
  {
   "cell_type": "markdown",
   "metadata": {
    "slideshow": {
     "slide_type": "subslide"
    }
   },
   "source": [
    "- Alcances del proyecto:\n",
    "    - Definición de objetivo (o problema a enfrentar).\n",
    "    - Recopilación o generación de datos a utilizar.\n",
    "    - Diseño e implementación de estrategia de aprendizaje automático.\n",
    "    - Evaluación y eventual operación de la estrategia.\n",
    "- Criterios de evaluación\n",
    "    - Justificación de la relevancia del tema a tratar.\n",
    "    - Grado de complejidad u originalidad del tema a tratar o de la estrategia planteada.\n",
    "    - Calidad en fondo y forma de las presentaciones.\n",
    "    - Ronda de preguntas individuales."
   ]
  },
  {
   "cell_type": "markdown",
   "metadata": {
    "slideshow": {
     "slide_type": "slide"
    }
   },
   "source": [
    "# Calendarización\n",
    "<br>\n",
    "<center>\n",
    "    <img src=\"figures/calendar-1.png\" width=\"1000\" />\n",
    "</center>"
   ]
  },
  {
   "cell_type": "markdown",
   "metadata": {
    "slideshow": {
     "slide_type": "slide"
    }
   },
   "source": [
    "# Materiales y recursos\n",
    "- Scripts teórico-prácticos en Jupyter\n",
    "- Sets de datos\n",
    "- Github https://github.com/fleaman-udec/aprendizaje-automatico\n",
    "- Grupo en Microsoft Teams\n",
    "- Lenguaje de programación Python"
   ]
  }
 ],
 "metadata": {
  "celltoolbar": "Slideshow",
  "kernelspec": {
   "display_name": "Python 3",
   "language": "python",
   "name": "python3"
  },
  "language_info": {
   "codemirror_mode": {
    "name": "ipython",
    "version": 3
   },
   "file_extension": ".py",
   "mimetype": "text/x-python",
   "name": "python",
   "nbconvert_exporter": "python",
   "pygments_lexer": "ipython3",
   "version": "3.8.5"
  }
 },
 "nbformat": 4,
 "nbformat_minor": 4
}
