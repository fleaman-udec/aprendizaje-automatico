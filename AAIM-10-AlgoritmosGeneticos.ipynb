{
 "cells": [
  {
   "cell_type": "markdown",
   "id": "4cecec7a",
   "metadata": {
    "slideshow": {
     "slide_type": "slide"
    }
   },
   "source": [
    "# Algoritmos Genéticos"
   ]
  },
  {
   "cell_type": "markdown",
   "id": "af658d2b",
   "metadata": {
    "slideshow": {
     "slide_type": "slide"
    }
   },
   "source": [
    "## Motivación\n",
    "\n",
    "<center>\n",
    "    <img src=\"figures/dog-1.png\" width=\"900\"/>\n",
    "</center>"
   ]
  },
  {
   "cell_type": "markdown",
   "id": "654ae307",
   "metadata": {
    "slideshow": {
     "slide_type": "subslide"
    }
   },
   "source": [
    "<center>\n",
    "    <img src=\"figures/dog-2.png\" width=\"1100\"/>\n",
    "</center>"
   ]
  },
  {
   "cell_type": "markdown",
   "id": "f21c087e",
   "metadata": {
    "slideshow": {
     "slide_type": "slide"
    }
   },
   "source": [
    "## Técnicas evolutivas\n",
    "- Algoritmos genéticos\n",
    "- Programación genética\n",
    "- Evolución diferencial\n",
    "- Programación evolutiva\n",
    "- Estrategias evolutivas\n",
    "\n",
    "<center>\n",
    "    <img src=\"figures/genetic-2.jpg\" width=\"400\"/>\n",
    "</center>"
   ]
  },
  {
   "cell_type": "markdown",
   "id": "8f476ce6",
   "metadata": {
    "slideshow": {
     "slide_type": "slide"
    }
   },
   "source": [
    "# Algoritmos genéticos"
   ]
  },
  {
   "cell_type": "markdown",
   "id": "2e26b80c",
   "metadata": {
    "slideshow": {
     "slide_type": "slide"
    }
   },
   "source": [
    "## Generalidades\n",
    "Son técnicas de optimización y descubrimiento de soluciones a problemas basadas en la teoría de la evolución de las especies\n",
    "\n",
    "<center>\n",
    "    <img src=\"figures/genetic-1.png\" width=\"500\"/>\n",
    "</center>\n",
    "\n",
    "Reflejan el proceso de selección natural en donde los mejores individuos (soluciones) son elegidos para traspasar sus genes a la siguiente generación"
   ]
  },
  {
   "cell_type": "markdown",
   "id": "326649f5",
   "metadata": {
    "slideshow": {
     "slide_type": "subslide"
    }
   },
   "source": [
    "Una población de potenciales soluciones a un problema (individuos) se evoluciona a través de varias generaciones para obtener mejores soluciones\n",
    "\n",
    "<center>\n",
    "    <img src=\"figures/genetic-gif.gif\" width=\"800\"/>\n",
    "</center>"
   ]
  },
  {
   "cell_type": "markdown",
   "id": "12be86ad",
   "metadata": {
    "slideshow": {
     "slide_type": "subslide"
    }
   },
   "source": [
    "Los individuos son caracterizados por su carga genética, cromosomas o fenotipo\n",
    "\n",
    "Nuevos individuos van surgiendo de mezclar y alterar los genes de la generación anterior.\n",
    "\n",
    "<center>\n",
    "    <img src=\"figures/genetic-3.png\" width=\"700\"/>\n",
    "</center>"
   ]
  },
  {
   "cell_type": "markdown",
   "id": "34049548",
   "metadata": {
    "slideshow": {
     "slide_type": "slide"
    }
   },
   "source": [
    "## Metodología\n",
    "\n",
    "&#10148; Se comienza con una población aleatoria de individuos (generación inicial).\n",
    "\n",
    "&#10148; En cada generación se evalúa la aptitud (fitness) de cada individuo mediante una función asociada al problema a optimizar.\n",
    "\n",
    "<br><center>\n",
    "    <img src=\"figures/genetic-5.png\" width=\"400\"/>\n",
    "</center>"
   ]
  },
  {
   "cell_type": "markdown",
   "id": "fb6c2bcc",
   "metadata": {
    "slideshow": {
     "slide_type": "subslide"
    }
   },
   "source": [
    "&#10148; Se eligen los individuos más aptos (padres) para crear una nueva generación (hijos).\n",
    "\n",
    "&#10148; El proceso continúa creando sucesivas generaciones hasta cumplir algún criterio de convergencia para seleccionar el individuo más apto (solución final).\n",
    "\n",
    "<br><center>\n",
    "    <img src=\"figures/genetic-4.jpg\" width=\"400\"/>\n",
    "</center>"
   ]
  },
  {
   "cell_type": "markdown",
   "id": "9019da32",
   "metadata": {
    "slideshow": {
     "slide_type": "slide"
    }
   },
   "source": [
    "## Operadores genéticos\n",
    "Los operadores genéticos son las técnicas usadas para crear nuevos individuos a partir de los mejores individuos de una generación \n",
    "\n",
    "<center>\n",
    "    <img src=\"figures/genetic-6.png\" width=\"600\"/>\n",
    "</center>\n"
   ]
  },
  {
   "cell_type": "markdown",
   "id": "c4aa76ae",
   "metadata": {
    "slideshow": {
     "slide_type": "subslide"
    }
   },
   "source": [
    "**Recombinación (cross-over)**\n",
    "\n",
    "Se mezcla información de los padres para crear hijos\n",
    "\n",
    "<center>\n",
    "    <img src=\"figures/crossover-1.png\" width=\"700\"/>\n",
    "</center>"
   ]
  },
  {
   "cell_type": "markdown",
   "id": "a4487cab",
   "metadata": {
    "slideshow": {
     "slide_type": "subslide"
    }
   },
   "source": [
    "**Mutación**\n",
    "\n",
    "Aleatoriamente se altera parte de los genes de los hijos\n",
    "\n",
    "<center>\n",
    "    <img src=\"figures/mutation-1.png\" width=\"400\"/>\n",
    "</center>"
   ]
  },
  {
   "cell_type": "markdown",
   "id": "4af59f3c",
   "metadata": {
    "slideshow": {
     "slide_type": "slide"
    }
   },
   "source": [
    "## Limitaciones\n",
    "\n",
    "- Los algoritmos genéticos no escalan bien con la complejidad de un problema, ya que comúnmente hay un incremento exponencial del tamaño del espacio de búsqueda.\n",
    "- La repetiva evaluación de la función de aptitud puede ser computacionalmente costoso para problemas complejos.\n",
    "- El criterio de término puede ser ambiguo, ya que las soluciones solo son mejores en comparación a las otras.\n",
    "- Puede ocurrir convergencia hacia una solución de mínimo local.\n",
    "- Dependiendo del problema, pueden haber otros métodos de optimización más eficientes."
   ]
  },
  {
   "cell_type": "markdown",
   "id": "f6713f3f",
   "metadata": {
    "slideshow": {
     "slide_type": "slide"
    }
   },
   "source": [
    "## Ejemplo\n",
    "\n",
    "Usamos un algoritmo genético para, a partir de una población de 4 puntos en el plano, acercarnos lo más posible al punto (-0.4, 0.3)\n",
    "\n",
    "<center>\n",
    "    <img src=\"figures/genetic-example-1.png\" width=\"500\"/>\n",
    "</center>"
   ]
  },
  {
   "cell_type": "code",
   "execution_count": 1,
   "id": "386b0d60",
   "metadata": {
    "slideshow": {
     "slide_type": "subslide"
    }
   },
   "outputs": [],
   "source": [
    "import numpy as np\n",
    "import matplotlib.pyplot as plt\n",
    "\n",
    "np.random.seed(1)\n",
    "\n",
    "def fun_fitness(individual):\n",
    "    return 1./np.linalg.norm(individual - np.array([-0.4, 0.3]))\n",
    "\n",
    "def select_parents(population):\n",
    "    all_fitness = np.array([fun_fitness(individual) for individual in population])\n",
    "    max_fitness = np.max(all_fitness)\n",
    "    \n",
    "    sort_idx = np.argsort(all_fitness)\n",
    "    idx_max1 = sort_idx[-1]\n",
    "    idx_max2 = sort_idx[-2]\n",
    "    return np.array([population[idx_max1], population[idx_max2]]), max_fitness\n",
    "\n",
    "def crossover(parent1, parent2):\n",
    "    flip = np.random.randint(2)\n",
    "    if flip == 0:\n",
    "        child = [parent1[0], parent2[1]]\n",
    "    else:\n",
    "        child = [parent2[0], parent1[1]]        \n",
    "    return np.array(child)"
   ]
  },
  {
   "cell_type": "code",
   "execution_count": 2,
   "id": "7a2aca07",
   "metadata": {
    "slideshow": {
     "slide_type": "subslide"
    }
   },
   "outputs": [],
   "source": [
    "def mutation(child): \n",
    "    flip = np.random.randint(4)    \n",
    "    if flip == 0:\n",
    "        mut_child = [child[0]*1.15, child[1]]\n",
    "    elif flip == 1:\n",
    "        mut_child = [-child[0]*1.15, child[1]]\n",
    "    elif flip == 2:\n",
    "        mut_child = [child[0], child[1]*1.15]\n",
    "    else:\n",
    "        mut_child = [child[0], -child[1]*1.15]\n",
    "    return np.array(mut_child)\n",
    "\n",
    "def offspring(parents, n_children):\n",
    "    offspring = []\n",
    "    for n in range(n_children):\n",
    "        child = crossover(parents[0], parents[1])\n",
    "        mut_child = mutation(child)\n",
    "        offspring.append(mut_child)\n",
    "    return np.array(offspring)"
   ]
  },
  {
   "cell_type": "code",
   "execution_count": 3,
   "id": "3aa88a9d",
   "metadata": {
    "scrolled": false,
    "slideshow": {
     "slide_type": "subslide"
    }
   },
   "outputs": [
    {
     "name": "stdout",
     "output_type": "stream",
     "text": [
      "La mejor solución es:  [-0.46261215  0.30590229]\n"
     ]
    },
    {
     "data": {
      "image/png": "[encoded data removed]",
      "text/plain": [
       "<Figure size 640x480 with 1 Axes>"
      ]
     },
     "metadata": {},
     "output_type": "display_data"
    }
   ],
   "source": [
    "population = np.array([[0.1, -0.1], [0.3, 0.5], [-0.2, -0.3], [0.2, -0.5]])\n",
    "n_generations = 500\n",
    "scores = []\n",
    "best_gen = []\n",
    "for gen in range(n_generations):\n",
    "    parents, max_fitness = select_parents(population)    \n",
    "    scores.append(max_fitness)\n",
    "    best_gen.append(parents[0])\n",
    "    children = offspring(parents=parents, n_children=2)\n",
    "    population = np.concatenate((parents, children), axis=0)\n",
    "\n",
    "print('La mejor solución es: ', best_gen[-1])\n",
    "     \n",
    "plt.plot(scores, linewidth=2)\n",
    "plt.xlabel('Generación',fontsize=13), plt.ylabel('Fitness', fontsize=13), plt.grid()\n",
    "plt.show()"
   ]
  },
  {
   "cell_type": "code",
   "execution_count": 4,
   "id": "d0730e85",
   "metadata": {
    "slideshow": {
     "slide_type": "subslide"
    }
   },
   "outputs": [
    {
     "data": {
      "image/png": "[encoded data removed]",
      "text/plain": [
       "<Figure size 640x480 with 2 Axes>"
      ]
     },
     "metadata": {},
     "output_type": "display_data"
    }
   ],
   "source": [
    "best_gen = np.array(best_gen)\n",
    "plt.scatter(best_gen[:,0], best_gen[:,1], c=np.arange(len(best_gen)).astype(float))\n",
    "plt.colorbar(), plt.grid()\n",
    "plt.show()"
   ]
  },
  {
   "cell_type": "markdown",
   "id": "d8d68a58",
   "metadata": {
    "slideshow": {
     "slide_type": "slide"
    }
   },
   "source": [
    "# Aplicación: selección de hiperparámetros de clasificador"
   ]
  },
  {
   "cell_type": "code",
   "execution_count": 30,
   "id": "00c2631c",
   "metadata": {
    "slideshow": {
     "slide_type": "subslide"
    }
   },
   "outputs": [
    {
     "data": {
      "text/html": [
       "<div>\n",
       "<style scoped>\n",
       "    .dataframe tbody tr th:only-of-type {\n",
       "        vertical-align: middle;\n",
       "    }\n",
       "\n",
       "    .dataframe tbody tr th {\n",
       "        vertical-align: top;\n",
       "    }\n",
       "\n",
       "    .dataframe thead th {\n",
       "        text-align: right;\n",
       "    }\n",
       "</style>\n",
       "<table border=\"1\" class=\"dataframe\">\n",
       "  <thead>\n",
       "    <tr style=\"text-align: right;\">\n",
       "      <th></th>\n",
       "      <th>pwm1</th>\n",
       "      <th>pwm2</th>\n",
       "      <th>pwm3</th>\n",
       "      <th>pwm4</th>\n",
       "      <th>depth</th>\n",
       "      <th>press</th>\n",
       "      <th>voltage</th>\n",
       "      <th>roll</th>\n",
       "      <th>pitch</th>\n",
       "      <th>yaw</th>\n",
       "      <th>a_x</th>\n",
       "      <th>a_y</th>\n",
       "      <th>a_z</th>\n",
       "      <th>w_row</th>\n",
       "      <th>w_pitch</th>\n",
       "      <th>w_yaw</th>\n",
       "      <th>label</th>\n",
       "    </tr>\n",
       "  </thead>\n",
       "  <tbody>\n",
       "    <tr>\n",
       "      <th>0</th>\n",
       "      <td>1100</td>\n",
       "      <td>1100</td>\n",
       "      <td>1100</td>\n",
       "      <td>1100</td>\n",
       "      <td>0.06</td>\n",
       "      <td>617</td>\n",
       "      <td>11.84</td>\n",
       "      <td>4.01</td>\n",
       "      <td>0.53</td>\n",
       "      <td>102.15</td>\n",
       "      <td>-0.19</td>\n",
       "      <td>0.57</td>\n",
       "      <td>8.73</td>\n",
       "      <td>2.3</td>\n",
       "      <td>0.2</td>\n",
       "      <td>0.1</td>\n",
       "      <td>0</td>\n",
       "    </tr>\n",
       "    <tr>\n",
       "      <th>1</th>\n",
       "      <td>1100</td>\n",
       "      <td>1100</td>\n",
       "      <td>1100</td>\n",
       "      <td>1100</td>\n",
       "      <td>0.03</td>\n",
       "      <td>614</td>\n",
       "      <td>11.80</td>\n",
       "      <td>4.14</td>\n",
       "      <td>0.55</td>\n",
       "      <td>102.16</td>\n",
       "      <td>-0.09</td>\n",
       "      <td>0.65</td>\n",
       "      <td>8.48</td>\n",
       "      <td>2.8</td>\n",
       "      <td>-0.1</td>\n",
       "      <td>0.2</td>\n",
       "      <td>0</td>\n",
       "    </tr>\n",
       "    <tr>\n",
       "      <th>2</th>\n",
       "      <td>1195</td>\n",
       "      <td>1195</td>\n",
       "      <td>1195</td>\n",
       "      <td>1195</td>\n",
       "      <td>0.01</td>\n",
       "      <td>612</td>\n",
       "      <td>11.80</td>\n",
       "      <td>4.29</td>\n",
       "      <td>0.53</td>\n",
       "      <td>102.17</td>\n",
       "      <td>0.02</td>\n",
       "      <td>0.46</td>\n",
       "      <td>8.44</td>\n",
       "      <td>3.4</td>\n",
       "      <td>0.4</td>\n",
       "      <td>0.2</td>\n",
       "      <td>0</td>\n",
       "    </tr>\n",
       "    <tr>\n",
       "      <th>3</th>\n",
       "      <td>1195</td>\n",
       "      <td>1195</td>\n",
       "      <td>1195</td>\n",
       "      <td>1195</td>\n",
       "      <td>-0.01</td>\n",
       "      <td>610</td>\n",
       "      <td>11.77</td>\n",
       "      <td>4.60</td>\n",
       "      <td>0.50</td>\n",
       "      <td>102.19</td>\n",
       "      <td>3.51</td>\n",
       "      <td>0.35</td>\n",
       "      <td>6.49</td>\n",
       "      <td>7.4</td>\n",
       "      <td>8.1</td>\n",
       "      <td>0.4</td>\n",
       "      <td>0</td>\n",
       "    </tr>\n",
       "    <tr>\n",
       "      <th>4</th>\n",
       "      <td>1195</td>\n",
       "      <td>1195</td>\n",
       "      <td>1195</td>\n",
       "      <td>1195</td>\n",
       "      <td>0.07</td>\n",
       "      <td>618</td>\n",
       "      <td>11.72</td>\n",
       "      <td>5.11</td>\n",
       "      <td>1.03</td>\n",
       "      <td>102.26</td>\n",
       "      <td>-6.60</td>\n",
       "      <td>1.30</td>\n",
       "      <td>10.15</td>\n",
       "      <td>13.7</td>\n",
       "      <td>22.3</td>\n",
       "      <td>-0.7</td>\n",
       "      <td>0</td>\n",
       "    </tr>\n",
       "    <tr>\n",
       "      <th>...</th>\n",
       "      <td>...</td>\n",
       "      <td>...</td>\n",
       "      <td>...</td>\n",
       "      <td>...</td>\n",
       "      <td>...</td>\n",
       "      <td>...</td>\n",
       "      <td>...</td>\n",
       "      <td>...</td>\n",
       "      <td>...</td>\n",
       "      <td>...</td>\n",
       "      <td>...</td>\n",
       "      <td>...</td>\n",
       "      <td>...</td>\n",
       "      <td>...</td>\n",
       "      <td>...</td>\n",
       "      <td>...</td>\n",
       "      <td>...</td>\n",
       "    </tr>\n",
       "    <tr>\n",
       "      <th>17858</th>\n",
       "      <td>1202</td>\n",
       "      <td>1202</td>\n",
       "      <td>1202</td>\n",
       "      <td>1202</td>\n",
       "      <td>0.74</td>\n",
       "      <td>689</td>\n",
       "      <td>11.96</td>\n",
       "      <td>3.10</td>\n",
       "      <td>3.14</td>\n",
       "      <td>-22.97</td>\n",
       "      <td>-0.37</td>\n",
       "      <td>-0.41</td>\n",
       "      <td>8.74</td>\n",
       "      <td>7.5</td>\n",
       "      <td>2.1</td>\n",
       "      <td>-13.6</td>\n",
       "      <td>1</td>\n",
       "    </tr>\n",
       "    <tr>\n",
       "      <th>17859</th>\n",
       "      <td>1202</td>\n",
       "      <td>1202</td>\n",
       "      <td>1202</td>\n",
       "      <td>1202</td>\n",
       "      <td>0.70</td>\n",
       "      <td>685</td>\n",
       "      <td>11.95</td>\n",
       "      <td>3.40</td>\n",
       "      <td>2.81</td>\n",
       "      <td>-23.51</td>\n",
       "      <td>-5.05</td>\n",
       "      <td>-2.85</td>\n",
       "      <td>14.09</td>\n",
       "      <td>8.1</td>\n",
       "      <td>5.0</td>\n",
       "      <td>-10.0</td>\n",
       "      <td>1</td>\n",
       "    </tr>\n",
       "    <tr>\n",
       "      <th>17860</th>\n",
       "      <td>1202</td>\n",
       "      <td>1202</td>\n",
       "      <td>1202</td>\n",
       "      <td>1202</td>\n",
       "      <td>0.69</td>\n",
       "      <td>684</td>\n",
       "      <td>11.97</td>\n",
       "      <td>3.87</td>\n",
       "      <td>3.01</td>\n",
       "      <td>-24.01</td>\n",
       "      <td>-7.94</td>\n",
       "      <td>0.05</td>\n",
       "      <td>11.19</td>\n",
       "      <td>8.2</td>\n",
       "      <td>-0.4</td>\n",
       "      <td>-9.0</td>\n",
       "      <td>1</td>\n",
       "    </tr>\n",
       "    <tr>\n",
       "      <th>17861</th>\n",
       "      <td>1202</td>\n",
       "      <td>1202</td>\n",
       "      <td>1202</td>\n",
       "      <td>1202</td>\n",
       "      <td>0.73</td>\n",
       "      <td>688</td>\n",
       "      <td>11.96</td>\n",
       "      <td>3.83</td>\n",
       "      <td>3.13</td>\n",
       "      <td>-24.50</td>\n",
       "      <td>6.04</td>\n",
       "      <td>0.10</td>\n",
       "      <td>7.42</td>\n",
       "      <td>2.6</td>\n",
       "      <td>-3.2</td>\n",
       "      <td>-7.6</td>\n",
       "      <td>1</td>\n",
       "    </tr>\n",
       "    <tr>\n",
       "      <th>17862</th>\n",
       "      <td>1202</td>\n",
       "      <td>1202</td>\n",
       "      <td>1202</td>\n",
       "      <td>1202</td>\n",
       "      <td>0.73</td>\n",
       "      <td>688</td>\n",
       "      <td>11.97</td>\n",
       "      <td>3.90</td>\n",
       "      <td>2.67</td>\n",
       "      <td>-24.83</td>\n",
       "      <td>-2.59</td>\n",
       "      <td>5.54</td>\n",
       "      <td>5.60</td>\n",
       "      <td>3.7</td>\n",
       "      <td>3.3</td>\n",
       "      <td>-7.0</td>\n",
       "      <td>1</td>\n",
       "    </tr>\n",
       "  </tbody>\n",
       "</table>\n",
       "<p>17863 rows × 17 columns</p>\n",
       "</div>"
      ],
      "text/plain": [
       "       pwm1  pwm2  pwm3  pwm4  depth  press  voltage  roll  pitch     yaw  \\\n",
       "0      1100  1100  1100  1100   0.06    617    11.84  4.01   0.53  102.15   \n",
       "1      1100  1100  1100  1100   0.03    614    11.80  4.14   0.55  102.16   \n",
       "2      1195  1195  1195  1195   0.01    612    11.80  4.29   0.53  102.17   \n",
       "3      1195  1195  1195  1195  -0.01    610    11.77  4.60   0.50  102.19   \n",
       "4      1195  1195  1195  1195   0.07    618    11.72  5.11   1.03  102.26   \n",
       "...     ...   ...   ...   ...    ...    ...      ...   ...    ...     ...   \n",
       "17858  1202  1202  1202  1202   0.74    689    11.96  3.10   3.14  -22.97   \n",
       "17859  1202  1202  1202  1202   0.70    685    11.95  3.40   2.81  -23.51   \n",
       "17860  1202  1202  1202  1202   0.69    684    11.97  3.87   3.01  -24.01   \n",
       "17861  1202  1202  1202  1202   0.73    688    11.96  3.83   3.13  -24.50   \n",
       "17862  1202  1202  1202  1202   0.73    688    11.97  3.90   2.67  -24.83   \n",
       "\n",
       "        a_x   a_y    a_z  w_row  w_pitch  w_yaw  label  \n",
       "0     -0.19  0.57   8.73    2.3      0.2    0.1      0  \n",
       "1     -0.09  0.65   8.48    2.8     -0.1    0.2      0  \n",
       "2      0.02  0.46   8.44    3.4      0.4    0.2      0  \n",
       "3      3.51  0.35   6.49    7.4      8.1    0.4      0  \n",
       "4     -6.60  1.30  10.15   13.7     22.3   -0.7      0  \n",
       "...     ...   ...    ...    ...      ...    ...    ...  \n",
       "17858 -0.37 -0.41   8.74    7.5      2.1  -13.6      1  \n",
       "17859 -5.05 -2.85  14.09    8.1      5.0  -10.0      1  \n",
       "17860 -7.94  0.05  11.19    8.2     -0.4   -9.0      1  \n",
       "17861  6.04  0.10   7.42    2.6     -3.2   -7.6      1  \n",
       "17862 -2.59  5.54   5.60    3.7      3.3   -7.0      1  \n",
       "\n",
       "[17863 rows x 17 columns]"
      ]
     },
     "metadata": {},
     "output_type": "display_data"
    }
   ],
   "source": [
    "from sklearn.preprocessing import StandardScaler\n",
    "import pandas as pd\n",
    "\n",
    "df = pd.read_excel('others/uw-vehicle.xlsx', index_col=0)\n",
    "X = df.values[:, 0:16]\n",
    "y = df.values[:, 16]\n",
    "display(df) #set de datos"
   ]
  },
  {
   "cell_type": "code",
   "execution_count": 31,
   "id": "5955c9c2",
   "metadata": {
    "slideshow": {
     "slide_type": "subslide"
    }
   },
   "outputs": [],
   "source": [
    "solvers_ = ['lbfgs', 'sgd', 'adam']\n",
    "activations_ = ['tanh', 'logistic', 'relu']\n",
    "alphas_ = [1.e-2, 1.e0, 1.e2]\n",
    "hidden_layer_sizes_ = [(4,), (10,), (40,)]\n",
    "max_iters_ = [100, 500, 1000]\n",
    "\n",
    "def gen_sample():\n",
    "    flip = np.random.randint(3, size=5)\n",
    "    return (solvers_[flip[0]], activations_[flip[1]], alphas_[flip[2]], hidden_layer_sizes_[flip[3]], max_iters_[flip[4]])\n",
    "\n",
    "def gen_population(n_samples):\n",
    "    return [gen_sample() for i in range(n_samples)]\n",
    "\n"
   ]
  },
  {
   "cell_type": "code",
   "execution_count": 32,
   "id": "fc7492fa",
   "metadata": {
    "slideshow": {
     "slide_type": "subslide"
    }
   },
   "outputs": [],
   "source": [
    "def fun_fitness(data, labels, hparams):\n",
    "    clf = MLPClassifier(solver=hparams[0], activation=hparams[1], alpha=hparams[2], hidden_layer_sizes=hparams[3], max_iter=hparams[4], random_state=0)\n",
    "    cv = cross_validate(estimator=clf, X=data, y=labels, cv=2, scoring='accuracy')\n",
    "    return np.mean(cv['test_score'])\n",
    "\n",
    "def select_parents(data, labels, population):\n",
    "    all_fitness = np.array([fun_fitness(data, labels, hparams) for hparams in population])\n",
    "    max_fitness = np.max(all_fitness)\n",
    "    idx1 = np.argmax(all_fitness)    \n",
    "    all_fitness[idx1] = -999\n",
    "    idx2 = np.argmax(all_fitness)\n",
    "    return [population[idx1], population[idx2]], max_fitness\n",
    "\n",
    "def crossover(parent1, parent2):\n",
    "    flip = np.random.randint(3)\n",
    "    if flip == 0:\n",
    "        child = (parent1[0], parent1[1], parent2[2], parent2[3], parent2[4])\n",
    "    elif flip == 1:\n",
    "        child = (parent2[0], parent2[1], parent1[2], parent1[3], parent1[4])\n",
    "    elif flip == 2:\n",
    "        child = (parent1[0], parent2[1], parent1[2], parent2[3], parent1[4])\n",
    "    return child"
   ]
  },
  {
   "cell_type": "code",
   "execution_count": 33,
   "id": "7801b818",
   "metadata": {
    "slideshow": {
     "slide_type": "subslide"
    }
   },
   "outputs": [],
   "source": [
    "def mutation(child): \n",
    "    mut_child = list(child)\n",
    "    flip = np.random.randint(5)\n",
    "    if (flip == 0) or (flip == 1): #solver o activacion\n",
    "        mut = gen_sample()\n",
    "        mut_child[flip] = mut[flip]\n",
    "    elif flip == 3: #neuronas capa oculta\n",
    "        foo = int(mut_child[flip][0]*(np.random.uniform(-0.2, 0.2)+1))\n",
    "        mut_child[flip] = (foo,)\n",
    "    elif flip == 4: #iteraciones (epocas)\n",
    "        mut_child[flip] = int(mut_child[flip]*(np.random.uniform(-0.2, 0.2)+1))\n",
    "    else: #otros\n",
    "        mut_child[flip] = mut_child[flip]*(np.random.uniform(-0.2, 0.2)+1)\n",
    "    return tuple(mut_child)\n",
    "\n",
    "def offspring(parents, n_children):\n",
    "    offspring = []\n",
    "    for n in range(n_children):\n",
    "        child = crossover(parents[0], parents[1])\n",
    "        mut_child = mutation(child)\n",
    "        offspring.append(mut_child)\n",
    "    return offspring"
   ]
  },
  {
   "cell_type": "code",
   "execution_count": 34,
   "id": "e0575d01",
   "metadata": {
    "scrolled": true,
    "slideshow": {
     "slide_type": "subslide"
    }
   },
   "outputs": [
    {
     "name": "stdout",
     "output_type": "stream",
     "text": [
      "[('lbfgs', 'logistic', 1.0, (40,), 1000), ('lbfgs', 'tanh', 0.01, (10,), 100), ('sgd', 'relu', 100.0, (4,), 100), ('sgd', 'tanh', 100.0, (10,), 100)]\n"
     ]
    }
   ],
   "source": [
    "from sklearn.model_selection import train_test_split\n",
    "\n",
    "#covtype = fetch_covtype(as_frame=False)\n",
    "#X = covtype.data[:1000]\n",
    "#y = covtype.target[:1000]\n",
    "X_train, X_test, y_train, y_test = train_test_split(X, y, test_size=0.3, stratify=y, random_state=11)\n",
    "scaler = StandardScaler().fit(X_train)\n",
    "X_train = scaler.transform(X_train)\n",
    "X_test = scaler.transform(X_test)\n",
    "ini_population = gen_population(n_samples=4)\n",
    "print(ini_population)"
   ]
  },
  {
   "cell_type": "code",
   "execution_count": 35,
   "id": "abcac733",
   "metadata": {
    "scrolled": false,
    "slideshow": {
     "slide_type": "subslide"
    }
   },
   "outputs": [
    {
     "name": "stderr",
     "output_type": "stream",
     "text": [
      "C:\\Users\\felea\\anaconda3\\Lib\\site-packages\\sklearn\\neural_network\\_multilayer_perceptron.py:545: ConvergenceWarning: lbfgs failed to converge (status=1):\n",
      "STOP: TOTAL NO. of ITERATIONS REACHED LIMIT.\n",
      "\n",
      "Increase the number of iterations (max_iter) or scale the data as shown in:\n",
      "    https://scikit-learn.org/stable/modules/preprocessing.html\n",
      "  self.n_iter_ = _check_optimize_result(\"lbfgs\", opt_res, self.max_iter)\n",
      "C:\\Users\\felea\\anaconda3\\Lib\\site-packages\\sklearn\\neural_network\\_multilayer_perceptron.py:545: ConvergenceWarning: lbfgs failed to converge (status=1):\n",
      "STOP: TOTAL NO. of ITERATIONS REACHED LIMIT.\n",
      "\n",
      "Increase the number of iterations (max_iter) or scale the data as shown in:\n",
      "    https://scikit-learn.org/stable/modules/preprocessing.html\n",
      "  self.n_iter_ = _check_optimize_result(\"lbfgs\", opt_res, self.max_iter)\n"
     ]
    },
    {
     "name": "stdout",
     "output_type": "stream",
     "text": [
      "('lbfgs', 'logistic', 1.0, (40,), 1000)\n",
      "0.9759277031349969\n"
     ]
    }
   ],
   "source": [
    "from sklearn.neural_network import MLPClassifier\n",
    "from sklearn.model_selection import cross_validate\n",
    "\n",
    "parents, max_fitness = select_parents(data=X_train, labels=y_train, population=ini_population)\n",
    "print(parents[0])\n",
    "print(max_fitness)"
   ]
  },
  {
   "cell_type": "code",
   "execution_count": 36,
   "id": "72d9f328",
   "metadata": {
    "slideshow": {
     "slide_type": "subslide"
    }
   },
   "outputs": [
    {
     "name": "stderr",
     "output_type": "stream",
     "text": [
      "C:\\Users\\felea\\anaconda3\\Lib\\site-packages\\sklearn\\neural_network\\_multilayer_perceptron.py:545: ConvergenceWarning: lbfgs failed to converge (status=1):\n",
      "STOP: TOTAL NO. of ITERATIONS REACHED LIMIT.\n",
      "\n",
      "Increase the number of iterations (max_iter) or scale the data as shown in:\n",
      "    https://scikit-learn.org/stable/modules/preprocessing.html\n",
      "  self.n_iter_ = _check_optimize_result(\"lbfgs\", opt_res, self.max_iter)\n",
      "C:\\Users\\felea\\anaconda3\\Lib\\site-packages\\sklearn\\neural_network\\_multilayer_perceptron.py:545: ConvergenceWarning: lbfgs failed to converge (status=1):\n",
      "STOP: TOTAL NO. of ITERATIONS REACHED LIMIT.\n",
      "\n",
      "Increase the number of iterations (max_iter) or scale the data as shown in:\n",
      "    https://scikit-learn.org/stable/modules/preprocessing.html\n",
      "  self.n_iter_ = _check_optimize_result(\"lbfgs\", opt_res, self.max_iter)\n",
      "C:\\Users\\felea\\anaconda3\\Lib\\site-packages\\sklearn\\neural_network\\_multilayer_perceptron.py:545: ConvergenceWarning: lbfgs failed to converge (status=1):\n",
      "STOP: TOTAL NO. of ITERATIONS REACHED LIMIT.\n",
      "\n",
      "Increase the number of iterations (max_iter) or scale the data as shown in:\n",
      "    https://scikit-learn.org/stable/modules/preprocessing.html\n",
      "  self.n_iter_ = _check_optimize_result(\"lbfgs\", opt_res, self.max_iter)\n",
      "C:\\Users\\felea\\anaconda3\\Lib\\site-packages\\sklearn\\neural_network\\_multilayer_perceptron.py:545: ConvergenceWarning: lbfgs failed to converge (status=1):\n",
      "STOP: TOTAL NO. of ITERATIONS REACHED LIMIT.\n",
      "\n",
      "Increase the number of iterations (max_iter) or scale the data as shown in:\n",
      "    https://scikit-learn.org/stable/modules/preprocessing.html\n",
      "  self.n_iter_ = _check_optimize_result(\"lbfgs\", opt_res, self.max_iter)\n",
      "C:\\Users\\felea\\anaconda3\\Lib\\site-packages\\sklearn\\neural_network\\_multilayer_perceptron.py:545: ConvergenceWarning: lbfgs failed to converge (status=1):\n",
      "STOP: TOTAL NO. of ITERATIONS REACHED LIMIT.\n",
      "\n",
      "Increase the number of iterations (max_iter) or scale the data as shown in:\n",
      "    https://scikit-learn.org/stable/modules/preprocessing.html\n",
      "  self.n_iter_ = _check_optimize_result(\"lbfgs\", opt_res, self.max_iter)\n",
      "C:\\Users\\felea\\anaconda3\\Lib\\site-packages\\sklearn\\neural_network\\_multilayer_perceptron.py:545: ConvergenceWarning: lbfgs failed to converge (status=1):\n",
      "STOP: TOTAL NO. of ITERATIONS REACHED LIMIT.\n",
      "\n",
      "Increase the number of iterations (max_iter) or scale the data as shown in:\n",
      "    https://scikit-learn.org/stable/modules/preprocessing.html\n",
      "  self.n_iter_ = _check_optimize_result(\"lbfgs\", opt_res, self.max_iter)\n",
      "C:\\Users\\felea\\anaconda3\\Lib\\site-packages\\sklearn\\neural_network\\_multilayer_perceptron.py:545: ConvergenceWarning: lbfgs failed to converge (status=1):\n",
      "STOP: TOTAL NO. of ITERATIONS REACHED LIMIT.\n",
      "\n",
      "Increase the number of iterations (max_iter) or scale the data as shown in:\n",
      "    https://scikit-learn.org/stable/modules/preprocessing.html\n",
      "  self.n_iter_ = _check_optimize_result(\"lbfgs\", opt_res, self.max_iter)\n",
      "C:\\Users\\felea\\anaconda3\\Lib\\site-packages\\sklearn\\neural_network\\_multilayer_perceptron.py:545: ConvergenceWarning: lbfgs failed to converge (status=1):\n",
      "STOP: TOTAL NO. of ITERATIONS REACHED LIMIT.\n",
      "\n",
      "Increase the number of iterations (max_iter) or scale the data as shown in:\n",
      "    https://scikit-learn.org/stable/modules/preprocessing.html\n",
      "  self.n_iter_ = _check_optimize_result(\"lbfgs\", opt_res, self.max_iter)\n",
      "C:\\Users\\felea\\anaconda3\\Lib\\site-packages\\sklearn\\neural_network\\_multilayer_perceptron.py:545: ConvergenceWarning: lbfgs failed to converge (status=1):\n",
      "STOP: TOTAL NO. of ITERATIONS REACHED LIMIT.\n",
      "\n",
      "Increase the number of iterations (max_iter) or scale the data as shown in:\n",
      "    https://scikit-learn.org/stable/modules/preprocessing.html\n",
      "  self.n_iter_ = _check_optimize_result(\"lbfgs\", opt_res, self.max_iter)\n",
      "C:\\Users\\felea\\anaconda3\\Lib\\site-packages\\sklearn\\neural_network\\_multilayer_perceptron.py:545: ConvergenceWarning: lbfgs failed to converge (status=1):\n",
      "STOP: TOTAL NO. of ITERATIONS REACHED LIMIT.\n",
      "\n",
      "Increase the number of iterations (max_iter) or scale the data as shown in:\n",
      "    https://scikit-learn.org/stable/modules/preprocessing.html\n",
      "  self.n_iter_ = _check_optimize_result(\"lbfgs\", opt_res, self.max_iter)\n",
      "C:\\Users\\felea\\anaconda3\\Lib\\site-packages\\sklearn\\neural_network\\_multilayer_perceptron.py:545: ConvergenceWarning: lbfgs failed to converge (status=1):\n",
      "STOP: TOTAL NO. of ITERATIONS REACHED LIMIT.\n",
      "\n",
      "Increase the number of iterations (max_iter) or scale the data as shown in:\n",
      "    https://scikit-learn.org/stable/modules/preprocessing.html\n",
      "  self.n_iter_ = _check_optimize_result(\"lbfgs\", opt_res, self.max_iter)\n",
      "C:\\Users\\felea\\anaconda3\\Lib\\site-packages\\sklearn\\neural_network\\_multilayer_perceptron.py:545: ConvergenceWarning: lbfgs failed to converge (status=1):\n",
      "STOP: TOTAL NO. of ITERATIONS REACHED LIMIT.\n",
      "\n",
      "Increase the number of iterations (max_iter) or scale the data as shown in:\n",
      "    https://scikit-learn.org/stable/modules/preprocessing.html\n",
      "  self.n_iter_ = _check_optimize_result(\"lbfgs\", opt_res, self.max_iter)\n",
      "C:\\Users\\felea\\anaconda3\\Lib\\site-packages\\sklearn\\neural_network\\_multilayer_perceptron.py:545: ConvergenceWarning: lbfgs failed to converge (status=1):\n",
      "STOP: TOTAL NO. of ITERATIONS REACHED LIMIT.\n",
      "\n",
      "Increase the number of iterations (max_iter) or scale the data as shown in:\n",
      "    https://scikit-learn.org/stable/modules/preprocessing.html\n",
      "  self.n_iter_ = _check_optimize_result(\"lbfgs\", opt_res, self.max_iter)\n",
      "C:\\Users\\felea\\anaconda3\\Lib\\site-packages\\sklearn\\neural_network\\_multilayer_perceptron.py:545: ConvergenceWarning: lbfgs failed to converge (status=1):\n",
      "STOP: TOTAL NO. of ITERATIONS REACHED LIMIT.\n",
      "\n",
      "Increase the number of iterations (max_iter) or scale the data as shown in:\n",
      "    https://scikit-learn.org/stable/modules/preprocessing.html\n",
      "  self.n_iter_ = _check_optimize_result(\"lbfgs\", opt_res, self.max_iter)\n",
      "C:\\Users\\felea\\anaconda3\\Lib\\site-packages\\sklearn\\neural_network\\_multilayer_perceptron.py:545: ConvergenceWarning: lbfgs failed to converge (status=1):\n",
      "STOP: TOTAL NO. of ITERATIONS REACHED LIMIT.\n",
      "\n",
      "Increase the number of iterations (max_iter) or scale the data as shown in:\n",
      "    https://scikit-learn.org/stable/modules/preprocessing.html\n",
      "  self.n_iter_ = _check_optimize_result(\"lbfgs\", opt_res, self.max_iter)\n",
      "C:\\Users\\felea\\anaconda3\\Lib\\site-packages\\sklearn\\neural_network\\_multilayer_perceptron.py:545: ConvergenceWarning: lbfgs failed to converge (status=1):\n",
      "STOP: TOTAL NO. of ITERATIONS REACHED LIMIT.\n",
      "\n",
      "Increase the number of iterations (max_iter) or scale the data as shown in:\n",
      "    https://scikit-learn.org/stable/modules/preprocessing.html\n",
      "  self.n_iter_ = _check_optimize_result(\"lbfgs\", opt_res, self.max_iter)\n",
      "C:\\Users\\felea\\anaconda3\\Lib\\site-packages\\sklearn\\neural_network\\_multilayer_perceptron.py:545: ConvergenceWarning: lbfgs failed to converge (status=1):\n",
      "STOP: TOTAL NO. of ITERATIONS REACHED LIMIT.\n",
      "\n",
      "Increase the number of iterations (max_iter) or scale the data as shown in:\n",
      "    https://scikit-learn.org/stable/modules/preprocessing.html\n",
      "  self.n_iter_ = _check_optimize_result(\"lbfgs\", opt_res, self.max_iter)\n"
     ]
    }
   ],
   "source": [
    "n_generations = 5\n",
    "scores = []\n",
    "for g in range(n_generations):\n",
    "    if g == 0:\n",
    "        parents, max_fitness = select_parents(data=X_train, labels=y_train, population=ini_population)\n",
    "    else:\n",
    "        parents, max_fitness = select_parents(data=X_train, labels=y_train, population=population)\n",
    "    scores.append(max_fitness)\n",
    "    children = offspring(parents=parents, n_children=2)  \n",
    "    population = children + parents"
   ]
  },
  {
   "cell_type": "code",
   "execution_count": 37,
   "id": "482b1d78",
   "metadata": {
    "scrolled": false,
    "slideshow": {
     "slide_type": "subslide"
    }
   },
   "outputs": [
    {
     "name": "stdout",
     "output_type": "stream",
     "text": [
      "('lbfgs', 'tanh', 1.0, (40,), 1112)\n",
      "0.9852047344849648\n"
     ]
    },
    {
     "data": {
      "image/png": "[encoded data removed]",
      "text/plain": [
       "<Figure size 640x480 with 1 Axes>"
      ]
     },
     "metadata": {},
     "output_type": "display_data"
    }
   ],
   "source": [
    "print(parents[0])\n",
    "print(max_fitness)\n",
    "plt.plot(scores)\n",
    "plt.show()"
   ]
  },
  {
   "cell_type": "markdown",
   "id": "f50a22d5",
   "metadata": {
    "slideshow": {
     "slide_type": "slide"
    }
   },
   "source": [
    "# Sumario\n",
    "- Los algoritmos evolutivos están inspirados por la teoría de la evolución, en donde se van eligiendo individuos más aptos en sucesivas generaciones.\n",
    "- Los algoritmos genéticos emplean operaciones de recombinaciones y mutaciones para ir generando nuevas posibles soluciones a un problema a partir de una población inicial de soluciones.\n",
    "- Aplicado al aprendizaje automático, los algoritmos genéticos pueden emplearse para la búsqueda de los hiperparámetros de un modelo."
   ]
  }
 ],
 "metadata": {
  "celltoolbar": "Slideshow",
  "kernelspec": {
   "display_name": "Python 3 (ipykernel)",
   "language": "python",
   "name": "python3"
  },
  "language_info": {
   "codemirror_mode": {
    "name": "ipython",
    "version": 3
   },
   "file_extension": ".py",
   "mimetype": "text/x-python",
   "name": "python",
   "nbconvert_exporter": "python",
   "pygments_lexer": "ipython3",
   "version": "3.11.5"
  }
 },
 "nbformat": 4,
 "nbformat_minor": 5
}
