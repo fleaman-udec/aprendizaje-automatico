{
 "cells": [
  {
   "cell_type": "markdown",
   "id": "74fea841",
   "metadata": {
    "slideshow": {
     "slide_type": "slide"
    }
   },
   "source": [
    "# Módulo: Otros Tópicos\n",
    "## Aprendizaje Profundo"
   ]
  },
  {
   "cell_type": "markdown",
   "id": "d4633f48",
   "metadata": {
    "slideshow": {
     "slide_type": "slide"
    }
   },
   "source": [
    "# Introducción\n"
   ]
  },
  {
   "cell_type": "markdown",
   "id": "8a9e0ab3",
   "metadata": {
    "slideshow": {
     "slide_type": "slide"
    }
   },
   "source": [
    "<center>\n",
    "    <img src=\"figures/intro-deep-1.jpg\" width=\"1300\"/>\n",
    "</center>"
   ]
  },
  {
   "cell_type": "markdown",
   "id": "c20be47e",
   "metadata": {
    "slideshow": {
     "slide_type": "slide"
    }
   },
   "source": [
    "## Generalidades\n",
    "\n",
    "Una ANN realiza **composiciones de funciones** simples para formar una función más compleja.\n",
    "\n",
    "En teoría, una única composición de funciones simples puede aproximar a casi cualquier función compleja, pero esto requiere una **enorme cantidad de parámetros**.\n",
    "\n",
    "<center>\n",
    "    <img src=\"figures/ann-ex-1.png\" width=\"400\"/>\n",
    "</center>\n",
    "\n",
    "Incluso es posible demostrar que un MLP con varias capas ocultas usando la **función identidad**, no tiene ninguna ventaja frente al MLP con solo una capa oculta.\n"
   ]
  },
  {
   "cell_type": "markdown",
   "id": "1e4ea750",
   "metadata": {
    "slideshow": {
     "slide_type": "subslide"
    }
   },
   "source": [
    "El aprendizaje profundo realiza **repetidas composiciones** de funciones no-lineales (muchas capas ocultas), lo que tiene un gran poder expresivo\n",
    "\n",
    "\\begin{align}\n",
    "    \\hat{\\mathbf{Y}} = f_1( f_2( f_3( ... f_n( \\mathbf{X} ) ) ) )\n",
    "\\end{align}\n",
    "\n",
    "Esto puede reducir considerablemente la cantidad de parámetros totales necesarios dependiendo de las funciones de activación usadas.\n",
    "\n",
    "<center>\n",
    "    <img src=\"figures/intro-deep-2.jpg\" width=\"600\"/>\n",
    "</center>\n",
    "\n"
   ]
  },
  {
   "cell_type": "markdown",
   "id": "10bbce89",
   "metadata": {
    "slideshow": {
     "slide_type": "subslide"
    }
   },
   "source": [
    "Las arquitecturas profundas aprovechan mejor los **patrones repetitivos** en los datos para lograr mejor generalización incluso en áreas del espacio con pocos o sin datos.\n",
    "\n",
    "Usualmente estos patrones repetitivos se aprenden como pesos de **atributos jerarquizados**.\n",
    "\n",
    "<center>\n",
    "    <img src=\"figures/intro-deep-3.gif\" width=\"800\"/>\n",
    "</center>\n",
    "\n"
   ]
  },
  {
   "cell_type": "markdown",
   "id": "62ef9bcc",
   "metadata": {
    "slideshow": {
     "slide_type": "slide"
    }
   },
   "source": [
    "## Ejemplo\n",
    "Una función unidimensional toma alternadamente valores +1 o -1 un total de 8 veces. ¿De qué forma puede construirse una ANN para aproximar esta función?\n",
    "\n",
    "<center>\n",
    "    <img src=\"figures/funscale-deep-1.png\" width=\"600\"/>\n",
    "</center>"
   ]
  },
  {
   "cell_type": "markdown",
   "id": "3e12b5bd",
   "metadata": {
    "slideshow": {
     "slide_type": "subslide"
    }
   },
   "source": [
    "Usando una **ANN superficial**, deberían por lo menos haber 8 unidades para aproximar cada valor (sin contar las unidades de sesgo u offset)\n",
    "\n",
    "Así, dependiendo de la entrada, debería \"activarse\" una de las 8 unidades para entregar la salida correcta\n",
    "\n",
    "<center>\n",
    "    <img src=\"figures/ann-ex-3.png\" width=\"1000\"/>\n",
    "</center>"
   ]
  },
  {
   "cell_type": "markdown",
   "id": "67b1b34f",
   "metadata": {
    "slideshow": {
     "slide_type": "subslide"
    }
   },
   "source": [
    "Usando una **ANN profunda**, se podrían usar 3 capas de 2 unidades para obtener un total de 8 \"caminos\" que se activan para entregar la salida correcta dependiendo de la entrada.\n",
    "\n",
    "<center>\n",
    "    <img src=\"figures/funscale-deep-3.png\" width=\"500\"/>\n",
    "</center>\n",
    "\n",
    "Así, la ANN profunda aprende parámetros de forma **jerarquizada**. \n",
    "\n",
    "Por ejemplo, la primera capa aprende un escalón simple, la segunda capa aprende un escalón doble, y sucesivamente."
   ]
  },
  {
   "cell_type": "code",
   "execution_count": 1,
   "id": "d676374f",
   "metadata": {
    "slideshow": {
     "slide_type": "subslide"
    }
   },
   "outputs": [
    {
     "name": "stdout",
     "output_type": "stream",
     "text": [
      "4.328055637578201e-10\n",
      "[ 1.00000689 -1.00000619  0.99999465 -1.00000652  0.99999522 -0.99997812\n",
      "  0.99996138 -0.99996377]\n"
     ]
    }
   ],
   "source": [
    "from sklearn.neural_network import MLPRegressor\n",
    "from sklearn.metrics import mean_squared_error\n",
    "\n",
    "X = [[0.], [1.], [2.], [3.], [4.], [5.], [6.], [7.]]\n",
    "y = [1., -1., 1., -1., 1., -1., 1., -1.]\n",
    "\n",
    "clf = MLPRegressor(random_state=4, tol=1.e-8, alpha=1.e-8, hidden_layer_sizes=(128,),\n",
    "                   activation='tanh', solver='lbfgs', max_iter=int(1e8), batch_size=1)\n",
    "clf.fit(X, y)\n",
    "y_predict = clf.predict(X)\n",
    "print(mean_squared_error(y, y_predict))\n",
    "print(y_predict)"
   ]
  },
  {
   "cell_type": "code",
   "execution_count": 2,
   "id": "14b0ce78",
   "metadata": {
    "slideshow": {
     "slide_type": "subslide"
    }
   },
   "outputs": [
    {
     "name": "stdout",
     "output_type": "stream",
     "text": [
      "0.37675587489828755\n",
      "[ 1.00079232 -0.99999358  0.99944706 -0.98411517  0.82330869 -0.20941274\n",
      " -0.35643113 -0.28052778]\n"
     ]
    }
   ],
   "source": [
    "clf = MLPRegressor(random_state=4, tol=1.e-8, alpha=1.e-8, hidden_layer_sizes=16*(8, ),\n",
    "                   activation='tanh', solver='lbfgs', max_iter=int(1e8), batch_size=1)\n",
    "clf.fit(X, y)\n",
    "y_predict = clf.predict(X)\n",
    "print(mean_squared_error(y, y_predict))\n",
    "print(y_predict)"
   ]
  },
  {
   "cell_type": "markdown",
   "id": "3da049b2",
   "metadata": {
    "slideshow": {
     "slide_type": "slide"
    }
   },
   "source": [
    "# Arquitecturas comunes"
   ]
  },
  {
   "cell_type": "markdown",
   "id": "aab4c604",
   "metadata": {
    "slideshow": {
     "slide_type": "slide"
    }
   },
   "source": [
    "## Redes superficiales (shallow network)\n",
    "La mayoría de los modelos de aprendizaje automático (regresión lineal, logística, SVM, PCA, etc.) pueden simularse como una red neuronal de 1 ó 2 capas ocultas.\n",
    "\n",
    "<center>\n",
    "    <img src=\"figures/ann-5.png\" width=\"500\"/>\n",
    "</center>\n",
    "\n",
    "Un tipo de red superficial sería el perceptrón multicapa con 1 ó 2 capas ocultas."
   ]
  },
  {
   "cell_type": "markdown",
   "id": "0c54e61f",
   "metadata": {
    "slideshow": {
     "slide_type": "subslide"
    }
   },
   "source": [
    "Estas redes están totalmente conectadas, es decir, hay conexión directa entre todas las unidades.\n",
    "\n",
    "Son un tipo de red prealimentada (feed forward) en las que el flujo va direccionalmente desde capas anteriores a capas posteriores.\n",
    "\n",
    "<center>\n",
    "    <img src=\"figures/ann-gif-1.gif\" width=\"700\"/>\n",
    "</center>"
   ]
  },
  {
   "cell_type": "markdown",
   "id": "39030e9a",
   "metadata": {
    "slideshow": {
     "slide_type": "slide"
    }
   },
   "source": [
    "## Redes de base radial (RBF, radial basis function)\n",
    "\n",
    "A pesar de no ser profunda, difiere de las redes prealimentadas ya que tienen una parte entrenada no supervisadamente y una parte entrenada supervisadamente.\n",
    "\n",
    "Comúnmente tienen una capa oculta con una cantidad de unidades superior al de la capa de entrada.\n",
    "\n",
    "<center>\n",
    "    <img src=\"figures/rbf-1.png\" width=\"700\"/>\n",
    "</center>"
   ]
  },
  {
   "cell_type": "markdown",
   "id": "c9710cb3",
   "metadata": {
    "slideshow": {
     "slide_type": "subslide"
    }
   },
   "source": [
    "Primero, de manera no supervisada se obtiene el **vector prototipo** $\\bar{\\mu_i}$ para la $i$-ésima unidad oculta. Además, se obtiene un **ancho de banda** $\\sigma_i$ para cada unidad oculta.\n",
    "\n",
    "Luego, para cada vector de atributos $\\bar{X}$ que pasa a la capa oculta se define la **función de activación radial** $\\phi_{i}(\\bar{X})$ como sigue:\n",
    "\n",
    "\\begin{split}\n",
    "    h_{i} = \\phi_{i}(\\bar{X}) = \\text{exp} \\left( {- \\frac{ \\| \\bar{X} - \\bar{\\mu_i} \\|^{2} }{ 2 \\sigma_{i}^2 } } \\right) \\; \\forall i \\in \\{1, ..., m\\}\n",
    "\\end{split}\n",
    "\n",
    "<center>\n",
    "    <img src=\"figures/rbf-2.jpeg\" width=\"500\"/>\n",
    "</center>"
   ]
  },
  {
   "cell_type": "markdown",
   "id": "c4fa4c46",
   "metadata": {
    "slideshow": {
     "slide_type": "subslide"
    }
   },
   "source": [
    "Cada una de las $m$ unidades ocultas tendrá gran influencia en los datos cercanos a su vector prototipo. Es decir, este tipo de red actúa como un método de **agrupamiento**.\n",
    "\n",
    "Luego se calcula la predicción en la capa de salida de la red como se fuera un **perceptrón**, es decir:\n",
    "\n",
    "\\begin{split}\n",
    "    \\hat{y} = \\sum_{i=1}^{m} w_{i} \\phi_{i}(\\bar{X}) = \\sum_{i=1}^{m} w_{i} \\text{exp} \\left( {- \\frac{ \\| \\bar{X} - \\bar{\\mu_i} \\|^{2} }{ 2 \\sigma_{i}^2 } } \\right)\n",
    "\\end{split}\n",
    "\n",
    "Los valores de los pesos $w_{i}$ se aprenden de forma **supervisada** como en una red prealimentada. También se implementa una neurona de sesgo."
   ]
  },
  {
   "cell_type": "markdown",
   "id": "35a3c561",
   "metadata": {
    "slideshow": {
     "slide_type": "slide"
    }
   },
   "source": [
    "## Máquinas restringidas de Boltzmann\n",
    "\n",
    "Utilizan el concepto de minimización de energía para crear una red neuronal de forma no supervisada.\n",
    "\n",
    "También se puede ser un entrenamiento posterior de forma supervisada.\n",
    "\n",
    "Es diferente a las redes prealimentadas en varios sentidos:\n",
    "- Modela la **probabilidad conjunta** de los atributos en vez de minimizar una función de costo.\n",
    "- Tienen **flujo no directo**, ya que aprenden relaciones probabilísticas en vez de mapeos entrada-salida.\n",
    "- Crea representaciones **latentes** (ocultas) de los datos."
   ]
  },
  {
   "cell_type": "markdown",
   "id": "5158aed5",
   "metadata": {
    "slideshow": {
     "slide_type": "slide"
    }
   },
   "source": [
    "## Redes neuronales recurrentes\n",
    "\n",
    "Las conexiones entre unidades pueden crear **ciclos**, por lo que la salida de una neurona puede afectar a su propia entrada.\n",
    "\n",
    "Son especialmente útiles para modelar comportamiento **temporales** o dinámicos.\n",
    "\n",
    "<center>\n",
    "    <img src=\"figures/recurrent-1.png\" width=\"500\"/>\n",
    "</center>\n"
   ]
  },
  {
   "cell_type": "markdown",
   "id": "f4bf1d12",
   "metadata": {
    "slideshow": {
     "slide_type": "slide"
    }
   },
   "source": [
    "# Redes neuronales convolucionales \n",
    "(CNN, convolutional neural networks)\n"
   ]
  },
  {
   "cell_type": "markdown",
   "id": "8289e237",
   "metadata": {
    "slideshow": {
     "slide_type": "slide"
    }
   },
   "source": [
    "## Fundamentos\n",
    "\n",
    "Históricamente han sido el tipo de ANN más exitosa, usadas principalmente para reconocimiento de imágenes, localización de objetos y procesamiento de texto, entre otros.\n",
    "\n",
    "Están inspiradas por el funcionamiento del cortex visual de los gatos, en donde porciones específicas del campo visual activan ciertas neuronas.\n",
    "\n",
    "<center>\n",
    "    <img src=\"figures/cnn-0.png\" width=\"1000\"/>\n",
    "</center>"
   ]
  },
  {
   "cell_type": "markdown",
   "id": "ae14a850",
   "metadata": {
    "slideshow": {
     "slide_type": "subslide"
    }
   },
   "source": [
    "Están basadas en el concepto de la convolución entre dos funciones:\n",
    "\n",
    "\\begin{align}\n",
    "    (f \\ast g)(t) = \\int_{-\\infty}^\\infty f(\\tau) g(t - \\tau) d\\tau\n",
    "\\end{align}\n",
    "\n",
    "<center>\n",
    "    <img src=\"figures/convo-gif-1.gif\" width=\"800\"/>\n",
    "</center>\n",
    "\n",
    "<center>\n",
    "    <img src=\"figures/convo-gif-3.gif\" width=\"800\"/>\n",
    "</center>"
   ]
  },
  {
   "cell_type": "markdown",
   "id": "744b5959",
   "metadata": {
    "slideshow": {
     "slide_type": "slide"
    }
   },
   "source": [
    "## Capas convolucionales\n",
    "\n",
    "Intuitivamente la operación de convolución utiliza filtros (kernels) adecuados para detectar determinados patrones dentro de las imágenes.\n",
    "\n",
    "<center>\n",
    "    <img src=\"figures/convolution-2-gif.gif\" width=\"800\"/>\n",
    "</center>\n",
    "\n",
    "Sin embargo, algunos filtros son más abstractos y no tienen necesariamente una interpretación intuitiva."
   ]
  },
  {
   "cell_type": "markdown",
   "id": "bd0d556d",
   "metadata": {
    "slideshow": {
     "slide_type": "subslide"
    }
   },
   "source": [
    "Dada una capa $i$, los valores de la capa $i+1$ son el producto punto entre los valores (pesos) del filtro y regiones espaciales de la capa actual de igual dimensión\n",
    "\n",
    "<center>\n",
    "    <img src=\"figures/convolution-gif.gif\" width=\"800\"/>\n",
    "</center>\n",
    "\n",
    "Al resultado de la operación también se le puede aplicar una función de activación (e.g. ReLU)."
   ]
  },
  {
   "cell_type": "markdown",
   "id": "73484a13",
   "metadata": {
    "slideshow": {
     "slide_type": "subslide"
    }
   },
   "source": [
    "Al aplicar más de un filtro a una misma capa, se pueden generar capas sucesivas tridimensionales.\n",
    "\n",
    "<center>\n",
    "    <img src=\"figures/convo-4.gif\" width=\"600\"/>\n",
    "</center>\n",
    "\n",
    "*Ej.: al aplicar 3 filtros de profundidad 1 a una capa de profundidad 1, se generará una capa de profundidad 3*\n"
   ]
  },
  {
   "cell_type": "markdown",
   "id": "909416d5",
   "metadata": {
    "slideshow": {
     "slide_type": "subslide"
    }
   },
   "source": [
    "También existen filtros tridimensionales de profundidad determinada para aplicar a capas que ya son tridimensionales.\n",
    "\n",
    "<center>\n",
    "    <img src=\"figures/convo-5.gif\" width=\"600\"/>\n",
    "</center>\n",
    "\n",
    "*Ej.: al aplicar 1 filtro de profundidad 3 a una capa de profundidad 3, se generará una capa de profundidad 1*"
   ]
  },
  {
   "cell_type": "markdown",
   "id": "059642ac",
   "metadata": {
    "slideshow": {
     "slide_type": "subslide"
    }
   },
   "source": [
    "En general, es posible aplicar cualquier cantidad de filtros de profundidad determinada a cualquier capa de cualquier otra profundidad.\n",
    "\n",
    "<br><center>\n",
    "    <img src=\"figures/convo-6.png\" width=\"1000\"/>\n",
    "</center>\n",
    "\n",
    "*Ej.: aplicar un filtro de 3x3x3 sobre una capa de 4x5x4 resulta en una capa de 2x3x2*\n"
   ]
  },
  {
   "cell_type": "markdown",
   "id": "1011f24c",
   "metadata": {
    "slideshow": {
     "slide_type": "slide"
    }
   },
   "source": [
    "## Capas de submuestreo (pooling)\n",
    "\n",
    "El submuestreo consiste en reducir la dimensionalidad de las capas convolucionales.\n",
    "\n",
    "Se busca reducir el costo computacional, aumentar la tolerancia a pequeñas distorsiones y hacer la CNN lo más genérica posible.\n",
    "\n",
    "<center>\n",
    "    <img src=\"figures/pooling-2.jpeg\" width=\"500\"/>\n",
    "</center>"
   ]
  },
  {
   "cell_type": "markdown",
   "id": "e7e34a32",
   "metadata": {
    "slideshow": {
     "slide_type": "subslide"
    }
   },
   "source": [
    "Los tipos más comunes son el submuestreo promediado y submuestreo máximo.\n",
    "- Average pooling: se van tomando promedios cada $a x b$ posiciones\n",
    "- Max pooling: se van tomando el valor máximo cada $a x b$ posiciones\n",
    "\n",
    "<center>\n",
    "    <img src=\"figures/pooling-gif.gif\" width=\"700\"/>\n",
    "</center>\n",
    "\n"
   ]
  },
  {
   "cell_type": "markdown",
   "id": "e6b8474b",
   "metadata": {
    "slideshow": {
     "slide_type": "slide"
    }
   },
   "source": [
    "## Capa totalmente conectada (fully connected)\n",
    "\n",
    "Luego de sucesivas capas convolucionales y de submuestreo se suele aplicar una capa totalmente conectada.\n",
    "\n",
    "Esto se hace para ponderar toda la información presente en la capa anterior, que hasta el momento retenía la estructura espacial de la entrada original.\n",
    "\n",
    "<center>\n",
    "    <img src=\"figures/convo-9.png\" width=\"1100\"/>\n",
    "</center>"
   ]
  },
  {
   "cell_type": "markdown",
   "id": "6cb69bc5",
   "metadata": {
    "slideshow": {
     "slide_type": "slide"
    }
   },
   "source": [
    "## Capa softmax\n",
    "\n",
    "Si la CNN se utiliza para clasificación, luego de la capa totalmente conectada se aplica una capa softmax para predecir las probabilidades para cada clase.\n",
    "\n",
    "<br><center>\n",
    "    <img src=\"figures/softmax.png\" width=\"700\"/>\n",
    "</center>"
   ]
  },
  {
   "cell_type": "markdown",
   "id": "a5d0da80",
   "metadata": {
    "slideshow": {
     "slide_type": "slide"
    }
   },
   "source": [
    "## Capa de dilución (dropout)\n",
    "\n",
    "Se trata de una capa especial usada durante el entrenamiento para prevenir el sobreajuste.\n",
    "\n",
    "Consiste en aleatoriamente no considerar algunas unidades durante el entrenamiento.\n",
    "\n",
    "<center>\n",
    "    <img src=\"figures/dropout-1.png\" width=\"700\"/>\n",
    "</center>\n",
    "\n",
    "Con esta técnica se busca aumentar la capacidad de generalización de la red."
   ]
  },
  {
   "cell_type": "markdown",
   "id": "d114b21f",
   "metadata": {
    "slideshow": {
     "slide_type": "slide"
    }
   },
   "source": [
    "## Funcionamiento de una CNN\n",
    "\n",
    "Las conexiones en una CNN son muy escasas, ya que una activación en una capa particular es función solo de una pequeña región espacial de la capa anterior.\n",
    "\n",
    "<center>\n",
    "    <img src=\"figures/cnn-1.jpeg\" width=\"1200\"/>\n",
    "</center>\n",
    "\n",
    "Los atributos en las capas inferiores capturan formas primitivas como líneas, mientras que los atributos es capas superiores captan formas complejas."
   ]
  },
  {
   "cell_type": "markdown",
   "id": "192402a9",
   "metadata": {
    "slideshow": {
     "slide_type": "subslide"
    }
   },
   "source": [
    "Por su funcionamiento jerarquico en encontrar atributos de bajo nivel y combinarlos para formar atributos de alto nivel, es posible utilizar CNN preentrenadas para distintos tipos de aplicaciones.\n",
    "\n",
    "\n",
    "<center>\n",
    "    <img src=\"figures/cnn-2.png\" width=\"1200\"/>\n",
    "</center>\n",
    "\n",
    "En estos casos solo se realiza un ajuste fino en la última capa de la CNN para adaptarla al caso en particular."
   ]
  },
  {
   "cell_type": "markdown",
   "id": "201b8a24",
   "metadata": {
    "slideshow": {
     "slide_type": "slide"
    }
   },
   "source": [
    "## Arquitectura LeNet-5\n",
    "\n",
    "Es una de las primeras arquitecturas de CNN preentrenadas para **reconocer texto**.\n",
    "\n",
    "Consta de **3 capas convolucionales** combinadas son **submuestreo promedio**. Luego siguen capas **totalmente conectadas** y un clasificador **softmax**.\n",
    "\n",
    "La entrada es una imagen de 32x32 pixeles en escala de grises, por lo que el número de canales (o profundidad) es 1.\n",
    "\n",
    "<center>\n",
    "    <img src=\"figures/lenet-1.png\" width=\"200\"/>\n",
    "</center>"
   ]
  },
  {
   "cell_type": "markdown",
   "id": "686385f6",
   "metadata": {
    "slideshow": {
     "slide_type": "subslide"
    }
   },
   "source": [
    "La primera convolución utiliza **6 filtros** de tamaño **5x5**.\n",
    "\n",
    "Como resultado se obtiene un mapa de atributos de tamaño **28x28x6**.\n",
    "\n",
    "<center>\n",
    "    <img src=\"figures/lenet-2.png\" width=\"900\"/>\n",
    "</center>\n",
    "\n",
    "Aquí el número de canales es igual a la cantidad de filtros aplicados, osea **6**.\n",
    "\n"
   ]
  },
  {
   "cell_type": "markdown",
   "id": "5dbcf4fd",
   "metadata": {
    "slideshow": {
     "slide_type": "subslide"
    }
   },
   "source": [
    "La primera operación de **submuestreo** (pooling) promedia los valores en regiones de **2x2**.\n",
    "\n",
    "<center>\n",
    "    <img src=\"figures/lenet-3.png\" width=\"600\"/>\n",
    "</center>\n",
    "\n",
    "Como resultado, se reduce el tamaño de los mapas de atributos a la mitad, pero el número de canales se mantiene igual.\n",
    "\n"
   ]
  },
  {
   "cell_type": "markdown",
   "id": "b0f0217d",
   "metadata": {
    "slideshow": {
     "slide_type": "subslide"
    }
   },
   "source": [
    "Luego se vuelve a realizar otra convolución, otro submuestreo y otra convolución hasta llegar a un mapa de atributos lineal de 120 valores.\n",
    "\n",
    "<center>\n",
    "    <img src=\"figures/lenet-4.png\" width=\"1000\"/>\n",
    "</center>"
   ]
  },
  {
   "cell_type": "markdown",
   "id": "3b3b3155",
   "metadata": {
    "slideshow": {
     "slide_type": "subslide"
    }
   },
   "source": [
    "Finalmente se agrega una capa **totalmente conectada** con **84** unidades y una capa de clasificación **softmax** con **10** unidades.\n",
    "\n",
    "<center>\n",
    "    <img src=\"figures/lenet-5.png\" width=\"1000\"/>\n",
    "</center>\n",
    "\n",
    "Sin considerar la capa softmax, todas las demás capas utilizan la función de activación **tanh**.\n"
   ]
  },
  {
   "cell_type": "markdown",
   "id": "e68cfd60",
   "metadata": {
    "slideshow": {
     "slide_type": "subslide"
    }
   },
   "source": [
    "<center>\n",
    "    <img src=\"figures/lenet-gif.gif\" width=\"1200\"/>\n",
    "</center>"
   ]
  },
  {
   "cell_type": "markdown",
   "id": "dc334335",
   "metadata": {
    "slideshow": {
     "slide_type": "slide"
    }
   },
   "source": [
    "# Implementación en Python"
   ]
  },
  {
   "cell_type": "markdown",
   "id": "6f54ad92",
   "metadata": {
    "slideshow": {
     "slide_type": "slide"
    }
   },
   "source": [
    "## Librerías\n",
    "\n",
    "Hay principalmente 3 librerías para implementar modelos de aprendizaje profundo en Python:\n",
    "\n",
    "- Tensorflow\n",
    "- Pytorch\n",
    "- Keras\n",
    "\n",
    "Estas librerías permiten formar fácilmente capas convolucionales, pooling, etc.\n",
    "\n",
    "Se diferencian en cuanto a la complejidad de usar, compatibilidad, velocidad, etc."
   ]
  },
  {
   "cell_type": "markdown",
   "id": "525bcd57",
   "metadata": {
    "slideshow": {
     "slide_type": "subslide"
    }
   },
   "source": [
    "<center>\n",
    "    <img src=\"figures/comparison-deep.png\" width=\"1200\"/>\n",
    "</center>"
   ]
  },
  {
   "cell_type": "markdown",
   "id": "96161596",
   "metadata": {
    "slideshow": {
     "slide_type": "slide"
    }
   },
   "source": [
    "## Uso de la GPU\n",
    "\n",
    "Debido a la considerable mayor cantidad de atributos y operaciones computacionales presentes en una red profunda, los tiempos de entrenamiento son mucho mayores.\n",
    "\n",
    "Esto se logra solucionar mediante el uso de la tarjeta gráfica (GPU) en vez del procesador central (CPU) para realizar los cálculos.\n",
    "\n",
    "<center>\n",
    "    <img src=\"figures/gpu-1.png\" width=\"800\"/>\n",
    "</center>"
   ]
  },
  {
   "cell_type": "markdown",
   "id": "d995ae02",
   "metadata": {
    "slideshow": {
     "slide_type": "subslide"
    }
   },
   "source": [
    "El poder usar la GPU para los cálculos se logra mediante la plataforma **CUDA** de Nvidia.\n",
    "\n",
    "Las librerías anteriores pueden detectar si la GPU del PC es compatible con CUDA. \n",
    "\n",
    "<center>\n",
    "    <img src=\"figures/cuda.jpg\" width=\"500\"/>\n",
    "</center>\n",
    "\n",
    "En **Keras**, si la GPU es compatible los cálculos se realizarán automáticamente en ella.\n",
    "\n",
    "Aquí se puede revisar el listado de GPUs compatibles:\n",
    "\n",
    "https://developer.nvidia.com/cuda-gpus\n",
    "\n"
   ]
  },
  {
   "cell_type": "markdown",
   "id": "96229898",
   "metadata": {
    "slideshow": {
     "slide_type": "slide"
    }
   },
   "source": [
    "# CNN para reconocimiento de dígitos escritos a mano"
   ]
  },
  {
   "cell_type": "code",
   "execution_count": 3,
   "id": "b02423ec",
   "metadata": {
    "scrolled": true,
    "slideshow": {
     "slide_type": "slide"
    }
   },
   "outputs": [
    {
     "name": "stdout",
     "output_type": "stream",
     "text": [
      "WARNING:tensorflow:From C:\\Users\\felea\\AppData\\Roaming\\Python\\Python311\\site-packages\\keras\\src\\losses.py:2976: The name tf.losses.sparse_softmax_cross_entropy is deprecated. Please use tf.compat.v1.losses.sparse_softmax_cross_entropy instead.\n",
      "\n",
      "[name: \"/device:CPU:0\"\n",
      "device_type: \"CPU\"\n",
      "memory_limit: 268435456\n",
      "locality {\n",
      "}\n",
      "incarnation: 9647497878643652478\n",
      "xla_global_id: -1\n",
      "]\n"
     ]
    }
   ],
   "source": [
    "import numpy as np\n",
    "from tensorflow import keras\n",
    "from tensorflow.keras import layers\n",
    "import matplotlib.pyplot as plt\n",
    "\n",
    "from tensorflow.python.client import device_lib\n",
    "print(device_lib.list_local_devices())"
   ]
  },
  {
   "cell_type": "code",
   "execution_count": 4,
   "id": "61609de6",
   "metadata": {
    "slideshow": {
     "slide_type": "subslide"
    }
   },
   "outputs": [
    {
     "data": {
      "text/plain": [
       "[PhysicalDevice(name='/physical_device:CPU:0', device_type='CPU')]"
      ]
     },
     "execution_count": 4,
     "metadata": {},
     "output_type": "execute_result"
    }
   ],
   "source": [
    "from tensorflow.config import list_physical_devices\n",
    "list_physical_devices()"
   ]
  },
  {
   "cell_type": "code",
   "execution_count": 5,
   "id": "98ea1225",
   "metadata": {
    "slideshow": {
     "slide_type": "subslide"
    }
   },
   "outputs": [
    {
     "name": "stdout",
     "output_type": "stream",
     "text": [
      "Downloading data from https://storage.googleapis.com/tensorflow/tf-keras-datasets/mnist.npz\n",
      "11490434/11490434 [==============================] - 2s 0us/step\n",
      "(60000, 28, 28)\n",
      "(60000,)\n"
     ]
    }
   ],
   "source": [
    "# parametros de los datos\n",
    "num_classes = 10\n",
    "input_shape = (28, 28, 1)\n",
    "\n",
    "# carga los datos y crea sets de entrenamiento y test\n",
    "(x_train, y_train), (x_test, y_test) = keras.datasets.mnist.load_data()\n",
    "print(x_train.shape)\n",
    "print(y_train.shape)"
   ]
  },
  {
   "cell_type": "code",
   "execution_count": 6,
   "id": "6cf43036",
   "metadata": {
    "slideshow": {
     "slide_type": "subslide"
    }
   },
   "outputs": [
    {
     "name": "stdout",
     "output_type": "stream",
     "text": [
      "la clase verdadera es:  3\n"
     ]
    },
    {
     "data": {
      "image/png": "[encoded data removed]",
      "text/plain": [
       "<Figure size 640x480 with 2 Axes>"
      ]
     },
     "metadata": {},
     "output_type": "display_data"
    },
    {
     "name": "stdout",
     "output_type": "stream",
     "text": [
      "valor máximo en la imagen =  255\n"
     ]
    }
   ],
   "source": [
    "idx = 7\n",
    "print('la clase verdadera es: ', y_train[idx])\n",
    "plt.imshow(x_train[idx], cmap='Greys')\n",
    "plt.colorbar()\n",
    "plt.show()\n",
    "print('valor máximo en la imagen = ', np.max(x_train[idx]))"
   ]
  },
  {
   "cell_type": "code",
   "execution_count": 7,
   "id": "1837aba3",
   "metadata": {
    "slideshow": {
     "slide_type": "subslide"
    }
   },
   "outputs": [
    {
     "name": "stdout",
     "output_type": "stream",
     "text": [
      "x_train shape: (60000, 28, 28, 1)\n",
      "x_test shape: (10000, 28, 28, 1)\n",
      "60000 train samples\n",
      "10000 test samples\n"
     ]
    }
   ],
   "source": [
    "# escala imagenes al rango 0-1 \n",
    "x_train = x_train.astype(\"float32\") / 255\n",
    "x_test = x_test.astype(\"float32\") / 255\n",
    "\n",
    "# asegurarse que las imagenes tengan tamaño 28x28x1\n",
    "x_train = np.expand_dims(x_train, -1) #agrega dimension extra\n",
    "x_test = np.expand_dims(x_test, -1) #agrega dimension extra\n",
    "print(\"x_train shape:\", x_train.shape)\n",
    "print(\"x_test shape:\", x_test.shape)\n",
    "\n",
    "print(x_train.shape[0], \"train samples\")\n",
    "print(x_test.shape[0], \"test samples\")"
   ]
  },
  {
   "cell_type": "code",
   "execution_count": 8,
   "id": "549e1806",
   "metadata": {
    "slideshow": {
     "slide_type": "subslide"
    }
   },
   "outputs": [
    {
     "name": "stdout",
     "output_type": "stream",
     "text": [
      "3\n",
      "(60000, 10)\n",
      "[0. 0. 0. 1. 0. 0. 0. 0. 0. 0.]\n"
     ]
    }
   ],
   "source": [
    "# transforma la variable objetivo en un vector de clases\n",
    "print(y_train[idx])\n",
    "y_train = keras.utils.to_categorical(y_train, num_classes)\n",
    "y_test = keras.utils.to_categorical(y_test, num_classes)\n",
    "print(y_train.shape)\n",
    "print(y_train[idx])"
   ]
  },
  {
   "cell_type": "code",
   "execution_count": 9,
   "id": "704d4908",
   "metadata": {
    "slideshow": {
     "slide_type": "subslide"
    }
   },
   "outputs": [
    {
     "name": "stdout",
     "output_type": "stream",
     "text": [
      "WARNING:tensorflow:From C:\\Users\\felea\\AppData\\Roaming\\Python\\Python311\\site-packages\\keras\\src\\backend.py:1398: The name tf.executing_eagerly_outside_functions is deprecated. Please use tf.compat.v1.executing_eagerly_outside_functions instead.\n",
      "\n",
      "WARNING:tensorflow:From C:\\Users\\felea\\AppData\\Roaming\\Python\\Python311\\site-packages\\keras\\src\\layers\\pooling\\max_pooling2d.py:161: The name tf.nn.max_pool is deprecated. Please use tf.nn.max_pool2d instead.\n",
      "\n",
      "Model: \"sequential\"\n",
      "_________________________________________________________________\n",
      " Layer (type)                Output Shape              Param #   \n",
      "=================================================================\n",
      " conv2d (Conv2D)             (None, 26, 26, 32)        320       \n",
      "                                                                 \n",
      " max_pooling2d (MaxPooling2  (None, 13, 13, 32)        0         \n",
      " D)                                                              \n",
      "                                                                 \n",
      " conv2d_1 (Conv2D)           (None, 11, 11, 64)        18496     \n",
      "                                                                 \n",
      " max_pooling2d_1 (MaxPoolin  (None, 5, 5, 64)          0         \n",
      " g2D)                                                            \n",
      "                                                                 \n",
      " flatten (Flatten)           (None, 1600)              0         \n",
      "                                                                 \n",
      " dropout (Dropout)           (None, 1600)              0         \n",
      "                                                                 \n",
      " dense (Dense)               (None, 10)                16010     \n",
      "                                                                 \n",
      "=================================================================\n",
      "Total params: 34826 (136.04 KB)\n",
      "Trainable params: 34826 (136.04 KB)\n",
      "Non-trainable params: 0 (0.00 Byte)\n",
      "_________________________________________________________________\n"
     ]
    }
   ],
   "source": [
    "model = keras.Sequential([keras.Input(shape=input_shape),\n",
    "        layers.Conv2D(32, kernel_size=(3, 3), activation=\"relu\"),\n",
    "        layers.MaxPooling2D(pool_size=(2, 2)),\n",
    "        layers.Conv2D(64, kernel_size=(3, 3), activation=\"relu\"),\n",
    "        layers.MaxPooling2D(pool_size=(2, 2)),\n",
    "        layers.Flatten(), layers.Dropout(0.5),\n",
    "        layers.Dense(num_classes, activation=\"softmax\"),])\n",
    "model.summary()"
   ]
  },
  {
   "cell_type": "code",
   "execution_count": 10,
   "id": "fd3e7dec",
   "metadata": {
    "slideshow": {
     "slide_type": "subslide"
    }
   },
   "outputs": [
    {
     "name": "stdout",
     "output_type": "stream",
     "text": [
      "WARNING:tensorflow:From C:\\Users\\felea\\AppData\\Roaming\\Python\\Python311\\site-packages\\keras\\src\\optimizers\\__init__.py:309: The name tf.train.Optimizer is deprecated. Please use tf.compat.v1.train.Optimizer instead.\n",
      "\n",
      "Epoch 1/15\n",
      "WARNING:tensorflow:From C:\\Users\\felea\\AppData\\Roaming\\Python\\Python311\\site-packages\\keras\\src\\utils\\tf_utils.py:492: The name tf.ragged.RaggedTensorValue is deprecated. Please use tf.compat.v1.ragged.RaggedTensorValue instead.\n",
      "\n",
      "WARNING:tensorflow:From C:\\Users\\felea\\AppData\\Roaming\\Python\\Python311\\site-packages\\keras\\src\\engine\\base_layer_utils.py:384: The name tf.executing_eagerly_outside_functions is deprecated. Please use tf.compat.v1.executing_eagerly_outside_functions instead.\n",
      "\n",
      "422/422 [==============================] - 18s 38ms/step - loss: 0.3551 - accuracy: 0.8923 - val_loss: 0.0930 - val_accuracy: 0.9738\n",
      "Epoch 2/15\n",
      "422/422 [==============================] - 15s 36ms/step - loss: 0.1161 - accuracy: 0.9642 - val_loss: 0.0623 - val_accuracy: 0.9820\n",
      "Epoch 3/15\n",
      "422/422 [==============================] - 16s 37ms/step - loss: 0.0869 - accuracy: 0.9732 - val_loss: 0.0521 - val_accuracy: 0.9850\n",
      "Epoch 4/15\n",
      "422/422 [==============================] - 16s 38ms/step - loss: 0.0725 - accuracy: 0.9779 - val_loss: 0.0413 - val_accuracy: 0.9888\n",
      "Epoch 5/15\n",
      "422/422 [==============================] - 16s 38ms/step - loss: 0.0637 - accuracy: 0.9799 - val_loss: 0.0381 - val_accuracy: 0.9900\n",
      "Epoch 6/15\n",
      "422/422 [==============================] - 16s 38ms/step - loss: 0.0578 - accuracy: 0.9816 - val_loss: 0.0361 - val_accuracy: 0.9898\n",
      "Epoch 7/15\n",
      "422/422 [==============================] - 16s 37ms/step - loss: 0.0517 - accuracy: 0.9835 - val_loss: 0.0361 - val_accuracy: 0.9907\n",
      "Epoch 8/15\n",
      "422/422 [==============================] - 16s 38ms/step - loss: 0.0483 - accuracy: 0.9849 - val_loss: 0.0317 - val_accuracy: 0.9915\n",
      "Epoch 9/15\n",
      "422/422 [==============================] - 16s 38ms/step - loss: 0.0443 - accuracy: 0.9855 - val_loss: 0.0304 - val_accuracy: 0.9913\n",
      "Epoch 10/15\n",
      "422/422 [==============================] - 16s 38ms/step - loss: 0.0410 - accuracy: 0.9867 - val_loss: 0.0306 - val_accuracy: 0.9917\n",
      "Epoch 11/15\n",
      "422/422 [==============================] - 16s 37ms/step - loss: 0.0402 - accuracy: 0.9868 - val_loss: 0.0304 - val_accuracy: 0.9915\n",
      "Epoch 12/15\n",
      "422/422 [==============================] - 16s 38ms/step - loss: 0.0366 - accuracy: 0.9879 - val_loss: 0.0288 - val_accuracy: 0.9912\n",
      "Epoch 13/15\n",
      "422/422 [==============================] - 16s 38ms/step - loss: 0.0359 - accuracy: 0.9886 - val_loss: 0.0273 - val_accuracy: 0.9928\n",
      "Epoch 14/15\n",
      "422/422 [==============================] - 16s 38ms/step - loss: 0.0344 - accuracy: 0.9892 - val_loss: 0.0301 - val_accuracy: 0.9918\n",
      "Epoch 15/15\n",
      "422/422 [==============================] - 16s 37ms/step - loss: 0.0314 - accuracy: 0.9898 - val_loss: 0.0281 - val_accuracy: 0.9920\n"
     ]
    },
    {
     "data": {
      "text/plain": [
       "<keras.src.callbacks.History at 0x29e33e3a990>"
      ]
     },
     "execution_count": 10,
     "metadata": {},
     "output_type": "execute_result"
    }
   ],
   "source": [
    "batch_size = 128\n",
    "epochs = 15\n",
    "#compila el modelo, definiendo solver, metrica y funcion de costo\n",
    "model.compile(loss=\"categorical_crossentropy\", optimizer=\"adam\", metrics=[\"accuracy\"])\n",
    "#comienza el entrenamiento\n",
    "model.fit(x_train, y_train, batch_size=batch_size, epochs=epochs, validation_split=0.1)"
   ]
  },
  {
   "cell_type": "code",
   "execution_count": 11,
   "id": "2f69762f",
   "metadata": {
    "slideshow": {
     "slide_type": "subslide"
    }
   },
   "outputs": [
    {
     "name": "stdout",
     "output_type": "stream",
     "text": [
      "Test loss: 0.024228792637586594\n",
      "Test accuracy: 0.991100013256073\n"
     ]
    }
   ],
   "source": [
    "#evalua el modelo para datos de test\n",
    "score = model.evaluate(x_test, y_test, verbose=0)\n",
    "print(\"Test loss:\", score[0])\n",
    "print(\"Test accuracy:\", score[1])"
   ]
  },
  {
   "cell_type": "code",
   "execution_count": 12,
   "id": "9fce99e5",
   "metadata": {
    "slideshow": {
     "slide_type": "subslide"
    }
   },
   "outputs": [
    {
     "data": {
      "image/png": "[encoded data removed]",
      "text/plain": [
       "<Figure size 640x480 with 1 Axes>"
      ]
     },
     "metadata": {},
     "output_type": "display_data"
    },
    {
     "name": "stdout",
     "output_type": "stream",
     "text": [
      "**la clase verdadera es:  8\n",
      "1/1 [==============================] - 0s 219ms/step\n",
      "**la clase predicha es:  8\n"
     ]
    }
   ],
   "source": [
    "#verifica predicciones para algunos datos\n",
    "idx = 257 #259\n",
    "plt.imshow(x_test[idx], cmap='Greys')\n",
    "plt.show()\n",
    "\n",
    "print('**la clase verdadera es: ', np.argmax(y_test[idx]))\n",
    "\n",
    "prediction = model.predict(np.expand_dims(x_test[idx], 0))\n",
    "print('**la clase predicha es: ', np.argmax(prediction))"
   ]
  },
  {
   "cell_type": "markdown",
   "id": "86440152",
   "metadata": {
    "slideshow": {
     "slide_type": "slide"
    }
   },
   "source": [
    "**Pero... ¿funciona realmente en la práctica?**\n",
    "\n",
    "<br><center>\n",
    "    <img src=\"figures/sus-1.png\" width=\"500\"/>\n",
    "</center>\n"
   ]
  },
  {
   "cell_type": "code",
   "execution_count": 22,
   "id": "a2940d8c",
   "metadata": {
    "slideshow": {
     "slide_type": "slide"
    }
   },
   "outputs": [],
   "source": [
    "import PIL #modulo PILLOW para trabajar con imagenes \n",
    "\n",
    "im = PIL.Image.open(\"others/m3.jpg\") #abre la imagen\n",
    "im = im.rotate(-90)\n",
    "im.show() #muestra la imagen en nueva ventana\n",
    "im = im.resize((28, 28)) #redimensiona a 28x28 px\n",
    "im = im.convert(mode=\"L\") #pasa a escala de grises\n",
    "im.show() #muestra la imagen en nueva ventana"
   ]
  },
  {
   "cell_type": "code",
   "execution_count": 23,
   "id": "1de20db5",
   "metadata": {
    "slideshow": {
     "slide_type": "subslide"
    }
   },
   "outputs": [],
   "source": [
    "imarr = np.asarray(im) #pasa la imagen a array\n",
    "imarr = np.max(imarr) - imarr #invierte colores en el array\n",
    "imarr = imarr/np.max(imarr) #normaliza en el rango 0-1\n",
    "imarr = np.expand_dims(imarr, -1) #agrega la dimension de la profunidad al final"
   ]
  },
  {
   "cell_type": "code",
   "execution_count": 24,
   "id": "2355bd99",
   "metadata": {
    "scrolled": true,
    "slideshow": {
     "slide_type": "subslide"
    }
   },
   "outputs": [
    {
     "data": {
      "image/png": "[encoded data removed]",
      "text/plain": [
       "<Figure size 640x480 with 1 Axes>"
      ]
     },
     "metadata": {},
     "output_type": "display_data"
    },
    {
     "name": "stdout",
     "output_type": "stream",
     "text": [
      "1/1 [==============================] - 0s 55ms/step\n",
      "**la clase predicha es:  3\n"
     ]
    }
   ],
   "source": [
    "plt.imshow(imarr, cmap='Greys') #grafica la imagen en colores grises\n",
    "plt.show()\n",
    "\n",
    "imarr_one = np.expand_dims(imarr, 0) #crea un grupo de solo 1 imagen\n",
    "myprediction = model.predict(imarr_one) #predice la imagen\n",
    "print('**la clase predicha es: ', np.argmax(myprediction))"
   ]
  },
  {
   "cell_type": "markdown",
   "id": "ee3be4dd",
   "metadata": {
    "slideshow": {
     "slide_type": "slide"
    }
   },
   "source": [
    "# Sumario\n",
    "- El aprendizaje profundo se aprovecha de las repetidas composiciones de funciones no-lineales para encontrar patrones de estructura jerarquizada en los datos.\n",
    "- Por su naturaleza, el entrenamiento de los modelos requieren de muchos más datos y tiempo de cálculo.\n",
    "- Las CNN destacan por su habilidad en el ámbito del reconocimiento y análisis de imágenes."
   ]
  }
 ],
 "metadata": {
  "celltoolbar": "Slideshow",
  "kernelspec": {
   "display_name": "Python 3 (ipykernel)",
   "language": "python",
   "name": "python3"
  },
  "language_info": {
   "codemirror_mode": {
    "name": "ipython",
    "version": 3
   },
   "file_extension": ".py",
   "mimetype": "text/x-python",
   "name": "python",
   "nbconvert_exporter": "python",
   "pygments_lexer": "ipython3",
   "version": "3.11.4"
  }
 },
 "nbformat": 4,
 "nbformat_minor": 5
}
