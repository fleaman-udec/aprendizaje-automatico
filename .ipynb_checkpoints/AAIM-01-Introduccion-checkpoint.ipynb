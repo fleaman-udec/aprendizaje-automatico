{
 "cells": [
  {
   "cell_type": "markdown",
   "metadata": {
    "slideshow": {
     "slide_type": "slide"
    }
   },
   "source": [
    "# Introducción al Aprendizaje Automático"
   ]
  },
  {
   "cell_type": "markdown",
   "metadata": {
    "slideshow": {
     "slide_type": "slide"
    }
   },
   "source": [
    "## Motivación\n",
    "Cada vez a un mayor ritmo, la ingeniería mecánica adopta técnicas de **inteligencia artificial (IA)** para implementar o mejorar cálculos o procesos que serían demasiado complejos con técnicas tradicionales.\n",
    "\n",
    "<center>\n",
    "    <img src=\"figures/ai-4.jpeg\" width=\"500\" />\n",
    "</center>\n",
    "\n",
    "Una razón detrás de esto es la mayor **disponibilidad de datos** producida por la sensorización, el internet de las cosas y la computación en la nube."
   ]
  },
  {
   "cell_type": "markdown",
   "metadata": {
    "slideshow": {
     "slide_type": "subslide"
    }
   },
   "source": [
    "La IA trata con programas computacionales con capacidad de **decisión propia** para resolver un problema imitando la expertiz de un humano.\n",
    "\n",
    "Las técnicas de la IA, como el **aprendizaje automático**, ya se implementan ampliamente en varias áreas de la ingeniería mecánica.\n",
    "\n",
    "<center>\n",
    "    <img src=\"figures/ai-3.jpeg\" width=\"600\" />\n",
    "</center>\n",
    "\n",
    "Algunas **aplicaciones** son reconocimiento de patrones, automatización, visión de máquinas, realidad virtual y aumentada, diseño, diagnóstico y pronóstico, robótica y sistemas de control, entre otros."
   ]
  },
  {
   "cell_type": "markdown",
   "metadata": {
    "slideshow": {
     "slide_type": "subslide"
    }
   },
   "source": [
    "### Aplicación: mantenimiento de máquinas\n",
    "Contribuye a modernizar la gestión del mantenimiento, con el objetivo de evolucionar desde el mantenimiento preventivo, al mantenimiento predictivo hasta llegar al mantenimiento prescriptivo.\n",
    "\n",
    "<br><center>\n",
    "    <img src=\"figures/maintenance-1.png\" width=\"800\" />\n",
    "</center>"
   ]
  },
  {
   "cell_type": "markdown",
   "metadata": {
    "slideshow": {
     "slide_type": "subslide"
    }
   },
   "source": [
    "### Aplicación: visión de máquinas\n",
    "Se refiere a la integración de técnicas de inspección industriales basadas en imágenes con modelos de aprendizaje automático (generalmente redes neuronales)-\n",
    "\n",
    "<br><center>\n",
    "    <img src=\"figures/vision-1.png\" width=\"600\">\n",
    "</center>"
   ]
  },
  {
   "cell_type": "markdown",
   "metadata": {
    "slideshow": {
     "slide_type": "slide"
    }
   },
   "source": [
    "## Definiciones\n",
    "\n",
    "### Aprendizaje automático (machine learning)\n",
    "\n",
    "\"El aprendizaje automático es el estudio científico de algoritmos y modelos estadísticos que sistemas computacionales usan para ejecutar tareas específicas sin necesidad de instrucciones explícitas, sino que mediante reconocimiento de patrones e inferencia.\"\n",
    "\n",
    "<center>\n",
    "<img src=\"figures/machinelearning2.jpeg\" width=\"600\" />\n",
    "</center>"
   ]
  },
  {
   "cell_type": "markdown",
   "metadata": {
    "slideshow": {
     "slide_type": "subslide"
    }
   },
   "source": [
    "### ¿Inteligencia artificial o aprendizaje automático?\n",
    "\n",
    "<center>\n",
    "    <img src=\"figures/concept-difference.png\" width=\"500\"/>\n",
    "</center>"
   ]
  },
  {
   "cell_type": "markdown",
   "metadata": {
    "slideshow": {
     "slide_type": "subslide"
    }
   },
   "source": [
    "### Otras definiciones\n",
    "\n",
    "**Programa**: es una serie de instrucciones a seguir para un computador\n",
    "\n",
    "**Algoritmo**: es un enfoque sistemático para resolver un problema específico\n",
    "\n",
    "**Modelo**: en el ámbito del aprendizaje automático, es el resultado de un algoritmo aplicado a datos."
   ]
  },
  {
   "cell_type": "markdown",
   "metadata": {
    "slideshow": {
     "slide_type": "subslide"
    }
   },
   "source": [
    "**Ejemplo**: Máquina expendedora\n",
    "\n",
    "<center>\n",
    "    <img src=\"figures/vending.jpg\" width=\"200\"/>\n",
    "</center>\n",
    "\n",
    "Un modelo es como la máquina expendedora. Ante determinada entrada (billete y botón) la máquina entrega una salida (bebida y vuelto).\n",
    "\n",
    "El algoritmo se usa para entrenar el modelo. Este decidirá la bebida y el vuelto a entregar dado el tipo de billete y el botón apretado.\n"
   ]
  },
  {
   "cell_type": "markdown",
   "metadata": {
    "slideshow": {
     "slide_type": "slide"
    }
   },
   "source": [
    "## Tipos de aprendizaje automático\n",
    "\n",
    "<br><center>\n",
    "    <img src=\"figures/machinelearning1.png\" width=\"700\"/>\n",
    "</center>"
   ]
  },
  {
   "cell_type": "markdown",
   "metadata": {
    "slideshow": {
     "slide_type": "slide"
    }
   },
   "source": [
    "### Aprendizaje supervisado\n",
    "\n",
    "<br><center>\n",
    "    <img src=\"figures/supervisedlearning.jpg\" width=\"850\"/>\n",
    "</center>"
   ]
  },
  {
   "cell_type": "markdown",
   "metadata": {
    "slideshow": {
     "slide_type": "subslide"
    }
   },
   "source": [
    "<center>\n",
    "    <img src=\"figures/classificationvsregression.png\" width=\"650\"/>\n",
    "</center>"
   ]
  },
  {
   "cell_type": "markdown",
   "metadata": {
    "slideshow": {
     "slide_type": "slide"
    }
   },
   "source": [
    "### Aprendizaje no supervisado\n",
    "\n",
    "<center>\n",
    "<img src=\"figures/unsupervised-1.png\" width=\"1100\"/>\n",
    "</center>\n"
   ]
  },
  {
   "cell_type": "markdown",
   "metadata": {
    "slideshow": {
     "slide_type": "subslide"
    }
   },
   "source": [
    "<center>\n",
    "    <img src=\"figures/unsupervised-2.png\" width=\"900\"/>\n",
    "</center>"
   ]
  },
  {
   "cell_type": "markdown",
   "metadata": {
    "slideshow": {
     "slide_type": "slide"
    }
   },
   "source": [
    "### Supervisado VS No Supervisado\n",
    "\n",
    "<br><center>\n",
    "    <img src=\"figures/comparison-1.png\" width=\"700\"/>\n",
    "</center>"
   ]
  },
  {
   "cell_type": "markdown",
   "metadata": {
    "slideshow": {
     "slide_type": "slide"
    }
   },
   "source": [
    "### Aprendizaje por refuerzo\n",
    "\n",
    "<center>\n",
    "    <img src=\"figures/reinforce-1.png\" width=\"1000\"/>\n",
    "</center>"
   ]
  },
  {
   "cell_type": "markdown",
   "metadata": {
    "slideshow": {
     "slide_type": "slide"
    }
   },
   "source": [
    "## Ingeniería de atributos (features)\n",
    "\n",
    "- Un atributo es una propiedad o característica individual medible de un fenómeno.\n",
    "\n",
    "- Atributos que sean informativos, discriminativos e independientes es clave para generar modelos eficaces.\n",
    "\n",
    "- Usualmente son de carácter numérico"
   ]
  },
  {
   "cell_type": "markdown",
   "metadata": {
    "slideshow": {
     "slide_type": "slide"
    }
   },
   "source": [
    "### Atributos \"hechos a mano\"\n",
    "\n",
    "<br><center>\n",
    "    <img src=\"figures/humanlearning.jpg\" width=\"900\"/>\n",
    "</center>"
   ]
  },
  {
   "cell_type": "markdown",
   "metadata": {
    "slideshow": {
     "slide_type": "subslide"
    }
   },
   "source": [
    "**Ejemplo**: Monitoreo de condición rodamientos mediante vibraciones\n",
    "\n",
    "<br><center>\n",
    "    <img src=\"figures/bearing-2.png\" width=\"900\"/>\n",
    "</center>"
   ]
  },
  {
   "cell_type": "markdown",
   "metadata": {
    "slideshow": {
     "slide_type": "subslide"
    }
   },
   "source": [
    "Tiempo | Frecuencia\n",
    "- | - \n",
    "Valor RMS | N° Armónicos BPFO\n",
    "Valor Máximo | N° Armónicos BPFI\n",
    "Kurtosis | Magnitud 1xBPFO\n",
    "Factor cresta | Magnitud 2xBPFI\n",
    "Entropía Shannon | Energía en 300-500Hz\n",
    "...etc | ...etc"
   ]
  },
  {
   "cell_type": "markdown",
   "metadata": {
    "slideshow": {
     "slide_type": "slide"
    }
   },
   "source": [
    "### Atributos \"abstractos\"\n",
    "\n",
    "<br>\n",
    "<center>\n",
    "    <img src=\"figures/mlvsdl.png\" width=\"800\"/>\n",
    "</center>"
   ]
  },
  {
   "cell_type": "markdown",
   "metadata": {
    "slideshow": {
     "slide_type": "subslide"
    }
   },
   "source": [
    "<center>\n",
    "    <img src=\"figures/deep-1.jpg\" width=\"800\"/>\n",
    "</center>"
   ]
  },
  {
   "cell_type": "markdown",
   "metadata": {
    "slideshow": {
     "slide_type": "slide"
    }
   },
   "source": [
    "## Ejemplo: Aplicaciones a turbinas eólicas\n",
    "\n",
    "- Diagnóstico de fallas en componentes mecánicos o eléctricos\n",
    "- Pronóstico de vida remanente en componentes mecánicos o eléctricos\n",
    "- Predicción de velocidad del viento o potencia eólica\n",
    "- Control de ángulo de pitch, potencia reactiva o del inversor"
   ]
  },
  {
   "cell_type": "markdown",
   "metadata": {
    "slideshow": {
     "slide_type": "subslide"
    }
   },
   "source": [
    "¿Qué atributos se podrían considerar para un modelo que prediga cuándo y en qué componente de una turbina eólica offshore se debería llevar a cabo mantenimiento?\n",
    "\n",
    "<center>\n",
    "    <img src=\"figures/wind-turbine.jpg\" width=\"600\"/>\n",
    "</center>\n",
    "\n"
   ]
  },
  {
   "cell_type": "markdown",
   "metadata": {
    "slideshow": {
     "slide_type": "slide"
    }
   },
   "source": [
    "## Sumario\n",
    "- El aprendizaje automático combina algoritmos computacionales con modelos matemáticos para ejecutar tareas mediante reconocimiento de patrones e inferencia.\n",
    "- Existen tipos de aprendizaje supervisado, no supervisado y por refuerzo. Además existe el aprendizaje profundo.\n",
    "- Los atributos son características generalmente medibles de un fenónemo bajo análisis."
   ]
  }
 ],
 "metadata": {
  "celltoolbar": "Slideshow",
  "kernelspec": {
   "display_name": "Python 3 (ipykernel)",
   "language": "python",
   "name": "python3"
  },
  "language_info": {
   "codemirror_mode": {
    "name": "ipython",
    "version": 3
   },
   "file_extension": ".py",
   "mimetype": "text/x-python",
   "name": "python",
   "nbconvert_exporter": "python",
   "pygments_lexer": "ipython3",
   "version": "3.11.5"
  }
 },
 "nbformat": 4,
 "nbformat_minor": 4
}
