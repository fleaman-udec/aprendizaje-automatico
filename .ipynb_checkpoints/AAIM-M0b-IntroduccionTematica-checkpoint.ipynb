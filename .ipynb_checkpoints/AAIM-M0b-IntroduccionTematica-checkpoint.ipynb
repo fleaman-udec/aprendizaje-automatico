{
 "cells": [
  {
   "cell_type": "markdown",
   "metadata": {
    "slideshow": {
     "slide_type": "slide"
    }
   },
   "source": [
    "# Aprendizaje Automático Ingeniería Mecánica (AAIM)\n",
    "## Introducción Temática"
   ]
  },
  {
   "cell_type": "markdown",
   "metadata": {
    "slideshow": {
     "slide_type": "slide"
    }
   },
   "source": [
    "# Objetivos de la clase\n",
    "\n",
    "- Aprender sobre la motivación del curso\n",
    "- Presentar los contenidos que veremos durante el curso\n",
    "- Conocer la metodología y el tipo de evaluación"
   ]
  },
  {
   "cell_type": "markdown",
   "metadata": {
    "slideshow": {
     "slide_type": "slide"
    }
   },
   "source": [
    "# Motivación\n",
    "Cada vez a un mayor ritmo, la ingeniería mecánica adopta técnicas de **inteligencia artificial (IA)** para implementar o mejorar cálculos o procesos que serían demasiado complejos con técnicas tradicionales.\n",
    "\n",
    "<center>\n",
    "    <img src=\"figures/ai-4.jpeg\" width=\"500\" />\n",
    "</center>\n",
    "\n",
    "Una razón detrás de esto es la mayor **disponibilidad de datos** producida por la sensorización, el internet de las cosas y la computación en la nube."
   ]
  },
  {
   "cell_type": "markdown",
   "metadata": {
    "slideshow": {
     "slide_type": "subslide"
    }
   },
   "source": [
    "La IA trata con programas computacionales con capacidad de **decisión propia** para resolver un problema imitando la expertiz de un humano.\n",
    "\n",
    "Las técnicas de la IA, como el **aprendizaje automático**, ya se implementan ampliamente en varias áreas de la ingeniería mecánica.\n",
    "\n",
    "<center>\n",
    "    <img src=\"figures/ai-3.jpeg\" width=\"600\" />\n",
    "</center>\n",
    "\n",
    "Algunas **aplicaciones** son reconocimiento de patrones, automatización, visión de máquinas, realidad virtual y aumentada, diseño, diagnóstico y pronóstico, robótica y sistemas de control, entre otros."
   ]
  },
  {
   "cell_type": "markdown",
   "metadata": {
    "slideshow": {
     "slide_type": "subslide"
    }
   },
   "source": [
    "## Aplicación: mantenimiento de máquinas\n",
    "Contribuye a modernizar la gestión del mantenimiento, con el objetivo de evolucionar desde el mantenimiento preventivo, al mantenimiento predictivo hasta llegar al mantenimiento prescriptivo.\n",
    "\n",
    "<br><center>\n",
    "    <img src=\"figures/maintenance-1.png\" width=\"800\" />\n",
    "</center>"
   ]
  },
  {
   "cell_type": "markdown",
   "metadata": {
    "slideshow": {
     "slide_type": "subslide"
    }
   },
   "source": [
    "## Aplicación: visión de máquinas\n",
    "Se refiere a la integración de técnicas de inspección industriales basadas en imágenes con modelos de aprendizaje automático (generalmente redes neuronales)-\n",
    "\n",
    "<br><center>\n",
    "    <img src=\"figures/vision-1.png\" width=\"600\">\n",
    "</center>"
   ]
  },
  {
   "cell_type": "markdown",
   "metadata": {
    "slideshow": {
     "slide_type": "slide"
    }
   },
   "source": [
    "# Estructura de los contenidos\n",
    "Se divide en los siguientes módulos:\n",
    "- (M0: Introducción a la asignatura y a Python)\n",
    "- M1: Conceptos fundamentales\n",
    "- M2: Aprendizaje supervisado\n",
    "- M3: Aprendizaje no supervisado\n",
    "- M4: Aprendizaje profundo y otros tópicos"
   ]
  },
  {
   "cell_type": "markdown",
   "metadata": {
    "slideshow": {
     "slide_type": "subslide"
    }
   },
   "source": [
    "## M1: Conceptos fundamentales\n",
    "- Definiciones básicas\n",
    "- Tipos de aprendizaje automático\n",
    "- Tipos de atributos\n",
    "- Construcción y evaluación de modelos\n",
    "- Errores de sesgo y varianza\n",
    "\n",
    "<center>\n",
    "    <img src=\"figures/pres-learning-1.jpg\" width=\"500\" />\n",
    "</center>"
   ]
  },
  {
   "cell_type": "markdown",
   "metadata": {
    "slideshow": {
     "slide_type": "subslide"
    }
   },
   "source": [
    "## M2: Aprendizaje supervisado\n",
    "- Modelos lineales\n",
    "- Regresión logística\n",
    "- Árboles de decisión\n",
    "- Máquina de soporte de vectores (SVM)\n",
    "- Redes neuronales artificiales (ANN)\n",
    "\n",
    "<center>\n",
    "    <img src=\"figures/pres-super-1.jpg\" width=\"500\" />\n",
    "</center>"
   ]
  },
  {
   "cell_type": "markdown",
   "metadata": {
    "slideshow": {
     "slide_type": "subslide"
    }
   },
   "source": [
    "## M3: Aprendizaje no supervisado\n",
    "- Técnicas de agrupamiento\n",
    "- Reducción de dimensionalidad\n",
    "- Detección de anomalías y novedades\n",
    "\n",
    "<center>\n",
    "    <img src=\"figures/pres-cluster-1.jpg\" width=\"500\" />\n",
    "</center>"
   ]
  },
  {
   "cell_type": "markdown",
   "metadata": {
    "slideshow": {
     "slide_type": "subslide"
    }
   },
   "source": [
    "## M4: Aprendizaje profundo y otros tópicos\n",
    "- Algoritmos evolutivos\n",
    "- Introducción al aprendizaje profundo\n",
    "- Redes neuronales convolucionales\n",
    "- Introducción al aprendizaje por refuerzo\n",
    "\n",
    "<center>\n",
    "    <img src=\"figures/pres-deep-1.jpeg\" width=\"500\" />\n",
    "</center>"
   ]
  },
  {
   "cell_type": "markdown",
   "metadata": {
    "slideshow": {
     "slide_type": "slide"
    }
   },
   "source": [
    "# Evaluaciones\n",
    "## Laboratorios\n",
    "- Hay 6 laboratorios de carácter obligatorio.\n",
    "- En total ponderan 60% de la nota final, todos ponderando lo mismo.\n",
    "- Idealmente se trabajarán en grupos de 2 estudiantes.\n",
    "- Se realizarán normalmente durante las clases de los días jueves.\n",
    "- Cada grupo deberá organizar traer a la clase al menos un computador personal."
   ]
  },
  {
   "cell_type": "markdown",
   "metadata": {
    "slideshow": {
     "slide_type": "subslide"
    }
   },
   "source": [
    "## Certámenes\n",
    "- Hay 2 certámenes escritos de carácter obligatorio e individuales\n",
    "- Cada uno pondera 20\\% de la nota final\n",
    "- Serán del tipo \"libro abierto\", es decir, con acceso libre a apuntes en papel y digitales"
   ]
  },
  {
   "cell_type": "markdown",
   "metadata": {
    "slideshow": {
     "slide_type": "slide"
    }
   },
   "source": [
    "# ¡Gracias por su atención!"
   ]
  }
 ],
 "metadata": {
  "celltoolbar": "Slideshow",
  "kernelspec": {
   "display_name": "Python 3 (ipykernel)",
   "language": "python",
   "name": "python3"
  },
  "language_info": {
   "codemirror_mode": {
    "name": "ipython",
    "version": 3
   },
   "file_extension": ".py",
   "mimetype": "text/x-python",
   "name": "python",
   "nbconvert_exporter": "python",
   "pygments_lexer": "ipython3",
   "version": "3.9.7"
  }
 },
 "nbformat": 4,
 "nbformat_minor": 4
}
