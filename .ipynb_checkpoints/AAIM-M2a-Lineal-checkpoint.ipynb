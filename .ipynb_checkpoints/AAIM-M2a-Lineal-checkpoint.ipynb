{
 "cells": [
  {
   "cell_type": "markdown",
   "metadata": {
    "slideshow": {
     "slide_type": "slide"
    }
   },
   "source": [
    "# Módulo: Aprendizaje Supervisado\n",
    "## Fundamentos modelos lineales\n",
    "## Mínimos cuadrados ordinarios"
   ]
  },
  {
   "cell_type": "markdown",
   "metadata": {
    "slideshow": {
     "slide_type": "slide"
    }
   },
   "source": [
    "# Objetivos de la clase\n",
    "- Conocer los fundamentos de los métodos lineales y algunos de ellos\n",
    "- Analizar en detalle el método de mínimos cuadrados ordinarios\n",
    "- Aplicar este método para generar modelos de regresión\n",
    "- Aprender puntuaciones de desempeño para evaluar cuantitativamente los modelos."
   ]
  },
  {
   "cell_type": "markdown",
   "metadata": {
    "slideshow": {
     "slide_type": "slide"
    }
   },
   "source": [
    "# Modelos lineales"
   ]
  },
  {
   "cell_type": "markdown",
   "metadata": {
    "slideshow": {
     "slide_type": "slide"
    }
   },
   "source": [
    "## Formulación modelos lineales\n",
    "- Son modelos en donde la variable objetivo $\\hat{y}$ se expresa como una combinación lineal de los atributos $x_{j}$ con pesos $w_{j}$:\n",
    "\n",
    "\\begin{split}\n",
    "\\hat{y}(w, x) = w_0 + w_1 x_1 + ... + w_m x_m\n",
    "\\end{split}\n",
    "\n",
    "- El entrenamiento consiste en \"aprender\" cuáles son los pesos $w_{j}$ óptimos para cada atributo a partir de un conjunto de datos\n",
    "\n",
    "- Evidentemente no tendrán buen desempeño si hay relaciones no lineales entre las variables."
   ]
  },
  {
   "cell_type": "markdown",
   "metadata": {
    "slideshow": {
     "slide_type": "slide"
    }
   },
   "source": [
    "## Algunos modelos lineales \n",
    "- Mínimos cuadrados ordinarios\n",
    "- Regresión Ridge\n",
    "- Regresión logística\n",
    "- Regresión Lasso\n",
    "- Regresión Bayesiana"
   ]
  },
  {
   "cell_type": "markdown",
   "metadata": {
    "slideshow": {
     "slide_type": "slide"
    }
   },
   "source": [
    "# Mínimos cuadrados ordinarios"
   ]
  },
  {
   "cell_type": "markdown",
   "metadata": {
    "slideshow": {
     "slide_type": "slide"
    }
   },
   "source": [
    "## Motivación práctica\n",
    "\n",
    "- Considerar el siguiente conjunto de datos para un molino de bolas:\n",
    "\n",
    "Muestra | RPM | Torque kNm | ... | Dureza Mohs | Eficiencia \\%\n",
    "- | - | - | - | - | - \n",
    "1 | 600 | 890 | ... | 8 | 87\n",
    "2 | 580 | 900 | ... | 8 | 89\n",
    "... | ... | ... | ... | ... | ...\n",
    "m | 615 | 920 | ... | 7 | 93\n",
    "\n",
    "- Con un modelo lineal basado en mínimos cuadrados se podría estimar la eficiencia para determinada combinación de variables\n",
    "- En este caso RPM, Torque y Dureza serían atributos y Eficiencia sería la variable objetivo"
   ]
  },
  {
   "cell_type": "markdown",
   "metadata": {
    "slideshow": {
     "slide_type": "slide"
    }
   },
   "source": [
    "## Concepto del método\n",
    "\n",
    "<br><center>\n",
    "    <img src=\"figures/mse-concept-1.png\"  width=\"800\"/>\n",
    "</center>\n"
   ]
  },
  {
   "cell_type": "markdown",
   "metadata": {
    "slideshow": {
     "slide_type": "slide"
    }
   },
   "source": [
    "## Formulación\n",
    "\n",
    "- Queremos construir un modelo tal que se pueda predecir la variable objetivo para cada muestra así:\n",
    "\n",
    "\\begin{split}\n",
    "\\hat{y_{1}} = w_{0} + w_{1} x_{11} + w_{2} x_{12} + ... + + w_{n} x_{1n}\n",
    "\\end{split}\n",
    "\n",
    "\\begin{split}\n",
    "\\hat{y_{2}} = w_{0} + w_{1} x_{21} + w_{2} x_{22} + ... + + w_{n} x_{2n}\n",
    "\\end{split}\n",
    "\n",
    "\\begin{split}\n",
    "...\n",
    "\\end{split}\n",
    "\n",
    "\\begin{split}\n",
    "\\hat{y_{m}} = w_{0} + w_{1} x_{m1} + w_{2} x_{m2} + ... + + w_{n} x_{mn}\n",
    "\\end{split}"
   ]
  },
  {
   "cell_type": "markdown",
   "metadata": {
    "slideshow": {
     "slide_type": "subslide"
    }
   },
   "source": [
    "- En notación matricial, $\\mathbf{X}$ representa a cada uno de los $n$ atributos para cada una de las $m$ muestras del conjunto de datos:\n",
    "\n",
    "\\begin{split}\n",
    "    \\mathbf{X} = \\begin{pmatrix} x_{11} & x_{12} & ... & x_{1n} \\\\ x_{21} & x_{22} & ... & x_{2n} \\\\ ... & ... & ... & ... \\\\ x_{m1} & x_{m2} & ... & x_{mn} \\end{pmatrix}\n",
    "\\end{split}"
   ]
  },
  {
   "cell_type": "markdown",
   "metadata": {
    "slideshow": {
     "slide_type": "subslide"
    }
   },
   "source": [
    "- $\\mathbf{y}$ representa a la variable objetivo para cada una de las $m$ muestras del conjunto de datos:\n",
    "\n",
    "\\begin{split}\n",
    "\\mathbf{y} = \\begin{pmatrix} y_{1} \\\\  y_{2} \\\\ ... \\\\ y_{m} \\end{pmatrix}\n",
    "\\end{split}\n",
    "\n",
    "- $\\mathbf{w}$ representa a los pesos que multiplican a cada uno de los $n$ atributos:\n",
    "\n",
    "\\begin{split}\n",
    "\\mathbf{w} = \\begin{pmatrix} w_{1} \\\\ w_{2} \\\\ ... \\\\ w_{n} \\end{pmatrix}\n",
    "\\end{split}"
   ]
  },
  {
   "cell_type": "markdown",
   "metadata": {
    "slideshow": {
     "slide_type": "slide"
    }
   },
   "source": [
    "## Función de costo y solución\n",
    "\n",
    "- El modelo deberá ser tal que se pueda predecir $\\mathbf{y}$ de la siguiente forma:\n",
    "\n",
    "\\begin{split}\n",
    "    \\mathbf{\\hat{y}} = \\mathbf{w}\\mathbf{X}\n",
    "\\end{split}\n",
    "\n",
    "- Se deberán encontrar los pesos $\\mathbf{w}$ que minimizen la siguiente función de costo:\n",
    "\n",
    "\\begin{split}\n",
    "S(\\mathbf{w}) = || \\mathbf{y} - \\mathbf{w}\\mathbf{X} ||^2\n",
    "\\end{split}"
   ]
  },
  {
   "cell_type": "markdown",
   "metadata": {
    "slideshow": {
     "slide_type": "subslide"
    }
   },
   "source": [
    "- Notar en notación escalar esta función se escribe así:\n",
    "\n",
    "\\begin{split}\n",
    "S(w_{j}) = \\sum_{i=1}^{m} \\left( y_{i} - \\sum_{j=1}^{n} \\left( w_{0} + w_{j} x_{ij} \\right) \\right)^{2}\n",
    "\\end{split}\n",
    "\n",
    "- Se puede demostrar que la solución $\\mathbf{w}$ que minimiza a la función $S(\\mathbf{w})$ para el conjunto de datos es:\n",
    "\n",
    "\\begin{split}\n",
    "\\mathbf{w} = (\\mathbf{X^{T}} \\mathbf{X)^{-1}} \\mathbf{X^{T}} \\mathbf{y} = \\mathbf{P} \\mathbf{y}\n",
    "\\end{split}\n",
    "\n",
    "- Donde $\\mathbf{P} = (\\mathbf{X}^{T} \\mathbf{X})^{-1} \\mathbf{X}^{T}$ se conoce como matriz pseudoinversa"
   ]
  },
  {
   "cell_type": "markdown",
   "metadata": {
    "slideshow": {
     "slide_type": "slide"
    }
   },
   "source": [
    "## Métrica de desempeño para regresión\n",
    "\n",
    "El error que genera un modelo de regresión se puede medir con el error cuadrático medio (mean square error, MSE):\n",
    "\n",
    "\\begin{split}\n",
    "MSE = \\frac{1}{m} \\sum_{i=1}^{m} \\left( y_{i} - \\hat{y_{i}} \\right)^{2}\n",
    "\\end{split}"
   ]
  },
  {
   "cell_type": "code",
   "execution_count": 46,
   "metadata": {
    "slideshow": {
     "slide_type": "slide"
    }
   },
   "outputs": [
    {
     "data": {
      "image/png": "[encoded data removed]",
      "text/plain": [
       "<Figure size 432x288 with 1 Axes>"
      ]
     },
     "metadata": {
      "needs_background": "light"
     },
     "output_type": "display_data"
    }
   ],
   "source": [
    "import matplotlib.pyplot as plt\n",
    "import numpy as np\n",
    "\n",
    "def generate_dataset_offset(beta, n, std_dev): #funcion para  crear datos al azar pseudo-lineales\n",
    "    np.random.seed(27)\n",
    "    x = np.random.rand(n)*100.\n",
    "    e = np.random.randn(n) * std_dev + 360\n",
    "    y = x * beta + e\n",
    "    return x, y\n",
    "\n",
    "beta = 4.1\n",
    "n = 200\n",
    "std_dev=57.\n",
    "X, y = generate_dataset_offset(beta, n, std_dev) #se genera el conjunto de datos\n",
    "X = np.reshape(X, (len(X), 1))\n",
    "\n",
    "plt.scatter(X, y, color='black', label='dataset')\n",
    "plt.xlabel('atributo'), plt.ylabel('objetivo'), plt.legend()\n",
    "plt.show()"
   ]
  },
  {
   "cell_type": "code",
   "execution_count": 47,
   "metadata": {
    "slideshow": {
     "slide_type": "subslide"
    }
   },
   "outputs": [
    {
     "name": "stdout",
     "output_type": "stream",
     "text": [
      "Shapes X_train, y_train, X_test, y_test (180, 1) (180,) (20, 1) (20,)\n"
     ]
    },
    {
     "data": {
      "image/png": "[encoded data removed]",
      "text/plain": [
       "<Figure size 432x288 with 1 Axes>"
      ]
     },
     "metadata": {
      "needs_background": "light"
     },
     "output_type": "display_data"
    }
   ],
   "source": [
    "X_train = X[:-20] #atributos para entrenamiento\n",
    "X_test = X[-20:] #atributos para test\n",
    "\n",
    "y_train = y[:-20] #target para entrenamiento\n",
    "y_test = y[-20:]  #target para test\n",
    "\n",
    "print('Shapes X_train, y_train, X_test, y_test', X_train.shape, y_train.shape, X_test.shape, y_test.shape)\n",
    "\n",
    "plt.scatter(X_train, y_train, color='blue', label='train')\n",
    "plt.scatter(X_test, y_test, color='red', label='test')\n",
    "plt.xlabel('atributo'), plt.ylabel('objetivo'), plt.legend()\n",
    "plt.show()"
   ]
  },
  {
   "cell_type": "code",
   "execution_count": 48,
   "metadata": {
    "slideshow": {
     "slide_type": "subslide"
    }
   },
   "outputs": [
    {
     "name": "stdout",
     "output_type": "stream",
     "text": [
      "Valores w =  [9.18073353]\n"
     ]
    }
   ],
   "source": [
    "pinv = np.dot(np.linalg.inv(np.dot(np.transpose(X_train), X_train)), np.transpose(X_train)) #matriz pseudoinversa\n",
    "w = np.dot(pinv, y_train) #calculo del vector de pesos\n",
    "print('Valores w = ', w)\n",
    "y_test_pred = w*X_test #calculo de la prediccion para datos de test"
   ]
  },
  {
   "cell_type": "code",
   "execution_count": 49,
   "metadata": {
    "slideshow": {
     "slide_type": "subslide"
    }
   },
   "outputs": [
    {
     "data": {
      "image/png": "[encoded data removed]",
      "text/plain": [
       "<Figure size 432x288 with 1 Axes>"
      ]
     },
     "metadata": {
      "needs_background": "light"
     },
     "output_type": "display_data"
    },
    {
     "name": "stdout",
     "output_type": "stream",
     "text": [
      "MSE =  43822.42469961875\n",
      "Faltó agregar el coeficiente de posición!\n"
     ]
    }
   ],
   "source": [
    "from sklearn.metrics import mean_squared_error\n",
    "\n",
    "plt.scatter(X_test, y_test, color=\"red\", label='test real')\n",
    "plt.plot(X_test, y_test_pred, color=\"blue\", label='test pred', linewidth=3)\n",
    "plt.xlabel('atributo'), plt.ylabel('objetivo')\n",
    "plt.legend(), plt.show()\n",
    "print('MSE = ', mean_squared_error(y_test, y_test_pred))\n",
    "\n",
    "print('Faltó agregar el coeficiente de posición!')"
   ]
  },
  {
   "cell_type": "code",
   "execution_count": 50,
   "metadata": {
    "slideshow": {
     "slide_type": "subslide"
    }
   },
   "outputs": [
    {
     "name": "stdout",
     "output_type": "stream",
     "text": [
      "Shape X_train_ones =  (180, 2)\n",
      "Ahora X tiene una columna con solo unos para representar al coeficiente de posición!\n"
     ]
    }
   ],
   "source": [
    "ones = np.ones(len(X_train[:,0])) #vector de unos\n",
    "X_train_ones = np.column_stack((ones, X_train)) #agregamos vector de unos al comienzo\n",
    "print('Shape X_train_ones = ', X_train_ones.shape)\n",
    "print('Ahora X tiene una columna con solo unos para representar al coeficiente de posición!')"
   ]
  },
  {
   "cell_type": "code",
   "execution_count": 51,
   "metadata": {
    "slideshow": {
     "slide_type": "subslide"
    }
   },
   "outputs": [
    {
     "name": "stdout",
     "output_type": "stream",
     "text": [
      "Valores w =  [351.90338279   4.17674734]\n"
     ]
    }
   ],
   "source": [
    "pinv = np.linalg.pinv(X_train_ones) #pseudoinversa\n",
    "w = pinv.dot(y_train) #vector de pesos\n",
    "print('Valores w = ', w)\n",
    "y_pred = w[0] + w[1]*X_test #calculo de la prediccion para datos de test"
   ]
  },
  {
   "cell_type": "code",
   "execution_count": 52,
   "metadata": {
    "scrolled": true,
    "slideshow": {
     "slide_type": "subslide"
    }
   },
   "outputs": [
    {
     "data": {
      "image/png": "[encoded data removed]",
      "text/plain": [
       "<Figure size 432x288 with 1 Axes>"
      ]
     },
     "metadata": {
      "needs_background": "light"
     },
     "output_type": "display_data"
    },
    {
     "name": "stdout",
     "output_type": "stream",
     "text": [
      "MSE =  2543.8336348693197\n"
     ]
    }
   ],
   "source": [
    "plt.scatter(X_test, y_test, color=\"red\", label='test real')\n",
    "plt.plot(X_test, y_pred, color=\"blue\", label='test pred', linewidth=3)\n",
    "plt.xlabel('atributo'), plt.ylabel('objetivo')\n",
    "plt.legend(), plt.show()\n",
    "print('MSE = ', mean_squared_error(y_test, y_pred))"
   ]
  },
  {
   "cell_type": "markdown",
   "metadata": {
    "slideshow": {
     "slide_type": "subslide"
    }
   },
   "source": [
    "**Reflexión: ¿cómo saber si los valores de MSE son bajos o altos?**"
   ]
  },
  {
   "cell_type": "markdown",
   "metadata": {
    "slideshow": {
     "slide_type": "slide"
    }
   },
   "source": [
    "## Regresión lineal en Scikit-Learn <br>\n",
    "\n",
    "\n",
    "https://scikit-learn.org/stable/modules/generated/sklearn.linear_model.LinearRegression.html"
   ]
  },
  {
   "cell_type": "code",
   "execution_count": 53,
   "metadata": {
    "slideshow": {
     "slide_type": "subslide"
    }
   },
   "outputs": [
    {
     "name": "stdout",
     "output_type": "stream",
     "text": [
      "Pesos =  [4.17674734]\n",
      "Intercept =  351.90338278714626\n"
     ]
    }
   ],
   "source": [
    "from sklearn.linear_model import LinearRegression\n",
    "\n",
    "regre = LinearRegression() #creamos modelo inicial para regresion\n",
    "regre.fit(X_train, y_train) #entrenamos modelo con datos de train\n",
    "\n",
    "print(\"Pesos = \", regre.coef_)\n",
    "print(\"Intercept = \", regre.intercept_)"
   ]
  },
  {
   "cell_type": "code",
   "execution_count": 54,
   "metadata": {
    "slideshow": {
     "slide_type": "subslide"
    }
   },
   "outputs": [
    {
     "data": {
      "image/png": "[encoded data removed]",
      "text/plain": [
       "<Figure size 432x288 with 1 Axes>"
      ]
     },
     "metadata": {
      "needs_background": "light"
     },
     "output_type": "display_data"
    },
    {
     "name": "stdout",
     "output_type": "stream",
     "text": [
      "MSE =  2543.8336348693115\n"
     ]
    }
   ],
   "source": [
    "y_pred = regre.predict(X_test) #prediccion para datos de test\n",
    "\n",
    "plt.scatter(X_test, y_test, color=\"red\", label='test real')\n",
    "plt.plot(X_test, y_pred, color=\"blue\", label='test pred', linewidth=3)\n",
    "plt.xlabel('atributo'), plt.ylabel('objetivo')\n",
    "plt.legend(), plt.show()\n",
    "print('MSE = ', mean_squared_error(y_test, y_pred))"
   ]
  },
  {
   "cell_type": "markdown",
   "metadata": {
    "slideshow": {
     "slide_type": "slide"
    }
   },
   "source": [
    "# Ejemplo \"Diabetes\" \n",
    "\n",
    "- Cargar un set de datos para regresión pre-establecido\n",
    "- Aplicación de mínimos cuadrados con varios atributos\n",
    "- Análisis de errores de entrenamiento y test\n",
    "\n",
    "<center>\n",
    "    <img src=\"figures/diabetes.png\" width=\"400\"/>\n",
    "</center>\n",
    "\n",
    "https://scikit-learn.org/stable/modules/generated/sklearn.datasets.load_diabetes.html#sklearn.datasets.load_diabetes"
   ]
  },
  {
   "cell_type": "code",
   "execution_count": 55,
   "metadata": {
    "slideshow": {
     "slide_type": "subslide"
    }
   },
   "outputs": [
    {
     "data": {
      "text/html": [
       "<div>\n",
       "<style scoped>\n",
       "    .dataframe tbody tr th:only-of-type {\n",
       "        vertical-align: middle;\n",
       "    }\n",
       "\n",
       "    .dataframe tbody tr th {\n",
       "        vertical-align: top;\n",
       "    }\n",
       "\n",
       "    .dataframe thead th {\n",
       "        text-align: right;\n",
       "    }\n",
       "</style>\n",
       "<table border=\"1\" class=\"dataframe\">\n",
       "  <thead>\n",
       "    <tr style=\"text-align: right;\">\n",
       "      <th></th>\n",
       "      <th>age</th>\n",
       "      <th>sex</th>\n",
       "      <th>bmi</th>\n",
       "      <th>bp</th>\n",
       "      <th>s1</th>\n",
       "      <th>s2</th>\n",
       "      <th>s3</th>\n",
       "      <th>s4</th>\n",
       "      <th>s5</th>\n",
       "      <th>s6</th>\n",
       "      <th>target</th>\n",
       "    </tr>\n",
       "  </thead>\n",
       "  <tbody>\n",
       "    <tr>\n",
       "      <th>0</th>\n",
       "      <td>0.038076</td>\n",
       "      <td>0.050680</td>\n",
       "      <td>0.061696</td>\n",
       "      <td>0.021872</td>\n",
       "      <td>-0.044223</td>\n",
       "      <td>-0.034821</td>\n",
       "      <td>-0.043401</td>\n",
       "      <td>-0.002592</td>\n",
       "      <td>0.019908</td>\n",
       "      <td>-0.017646</td>\n",
       "      <td>151.0</td>\n",
       "    </tr>\n",
       "    <tr>\n",
       "      <th>1</th>\n",
       "      <td>-0.001882</td>\n",
       "      <td>-0.044642</td>\n",
       "      <td>-0.051474</td>\n",
       "      <td>-0.026328</td>\n",
       "      <td>-0.008449</td>\n",
       "      <td>-0.019163</td>\n",
       "      <td>0.074412</td>\n",
       "      <td>-0.039493</td>\n",
       "      <td>-0.068330</td>\n",
       "      <td>-0.092204</td>\n",
       "      <td>75.0</td>\n",
       "    </tr>\n",
       "    <tr>\n",
       "      <th>2</th>\n",
       "      <td>0.085299</td>\n",
       "      <td>0.050680</td>\n",
       "      <td>0.044451</td>\n",
       "      <td>-0.005671</td>\n",
       "      <td>-0.045599</td>\n",
       "      <td>-0.034194</td>\n",
       "      <td>-0.032356</td>\n",
       "      <td>-0.002592</td>\n",
       "      <td>0.002864</td>\n",
       "      <td>-0.025930</td>\n",
       "      <td>141.0</td>\n",
       "    </tr>\n",
       "    <tr>\n",
       "      <th>3</th>\n",
       "      <td>-0.089063</td>\n",
       "      <td>-0.044642</td>\n",
       "      <td>-0.011595</td>\n",
       "      <td>-0.036656</td>\n",
       "      <td>0.012191</td>\n",
       "      <td>0.024991</td>\n",
       "      <td>-0.036038</td>\n",
       "      <td>0.034309</td>\n",
       "      <td>0.022692</td>\n",
       "      <td>-0.009362</td>\n",
       "      <td>206.0</td>\n",
       "    </tr>\n",
       "    <tr>\n",
       "      <th>4</th>\n",
       "      <td>0.005383</td>\n",
       "      <td>-0.044642</td>\n",
       "      <td>-0.036385</td>\n",
       "      <td>0.021872</td>\n",
       "      <td>0.003935</td>\n",
       "      <td>0.015596</td>\n",
       "      <td>0.008142</td>\n",
       "      <td>-0.002592</td>\n",
       "      <td>-0.031991</td>\n",
       "      <td>-0.046641</td>\n",
       "      <td>135.0</td>\n",
       "    </tr>\n",
       "    <tr>\n",
       "      <th>...</th>\n",
       "      <td>...</td>\n",
       "      <td>...</td>\n",
       "      <td>...</td>\n",
       "      <td>...</td>\n",
       "      <td>...</td>\n",
       "      <td>...</td>\n",
       "      <td>...</td>\n",
       "      <td>...</td>\n",
       "      <td>...</td>\n",
       "      <td>...</td>\n",
       "      <td>...</td>\n",
       "    </tr>\n",
       "    <tr>\n",
       "      <th>437</th>\n",
       "      <td>0.041708</td>\n",
       "      <td>0.050680</td>\n",
       "      <td>0.019662</td>\n",
       "      <td>0.059744</td>\n",
       "      <td>-0.005697</td>\n",
       "      <td>-0.002566</td>\n",
       "      <td>-0.028674</td>\n",
       "      <td>-0.002592</td>\n",
       "      <td>0.031193</td>\n",
       "      <td>0.007207</td>\n",
       "      <td>178.0</td>\n",
       "    </tr>\n",
       "    <tr>\n",
       "      <th>438</th>\n",
       "      <td>-0.005515</td>\n",
       "      <td>0.050680</td>\n",
       "      <td>-0.015906</td>\n",
       "      <td>-0.067642</td>\n",
       "      <td>0.049341</td>\n",
       "      <td>0.079165</td>\n",
       "      <td>-0.028674</td>\n",
       "      <td>0.034309</td>\n",
       "      <td>-0.018118</td>\n",
       "      <td>0.044485</td>\n",
       "      <td>104.0</td>\n",
       "    </tr>\n",
       "    <tr>\n",
       "      <th>439</th>\n",
       "      <td>0.041708</td>\n",
       "      <td>0.050680</td>\n",
       "      <td>-0.015906</td>\n",
       "      <td>0.017282</td>\n",
       "      <td>-0.037344</td>\n",
       "      <td>-0.013840</td>\n",
       "      <td>-0.024993</td>\n",
       "      <td>-0.011080</td>\n",
       "      <td>-0.046879</td>\n",
       "      <td>0.015491</td>\n",
       "      <td>132.0</td>\n",
       "    </tr>\n",
       "    <tr>\n",
       "      <th>440</th>\n",
       "      <td>-0.045472</td>\n",
       "      <td>-0.044642</td>\n",
       "      <td>0.039062</td>\n",
       "      <td>0.001215</td>\n",
       "      <td>0.016318</td>\n",
       "      <td>0.015283</td>\n",
       "      <td>-0.028674</td>\n",
       "      <td>0.026560</td>\n",
       "      <td>0.044528</td>\n",
       "      <td>-0.025930</td>\n",
       "      <td>220.0</td>\n",
       "    </tr>\n",
       "    <tr>\n",
       "      <th>441</th>\n",
       "      <td>-0.045472</td>\n",
       "      <td>-0.044642</td>\n",
       "      <td>-0.073030</td>\n",
       "      <td>-0.081414</td>\n",
       "      <td>0.083740</td>\n",
       "      <td>0.027809</td>\n",
       "      <td>0.173816</td>\n",
       "      <td>-0.039493</td>\n",
       "      <td>-0.004220</td>\n",
       "      <td>0.003064</td>\n",
       "      <td>57.0</td>\n",
       "    </tr>\n",
       "  </tbody>\n",
       "</table>\n",
       "<p>442 rows × 11 columns</p>\n",
       "</div>"
      ],
      "text/plain": [
       "          age       sex       bmi        bp        s1        s2        s3  \\\n",
       "0    0.038076  0.050680  0.061696  0.021872 -0.044223 -0.034821 -0.043401   \n",
       "1   -0.001882 -0.044642 -0.051474 -0.026328 -0.008449 -0.019163  0.074412   \n",
       "2    0.085299  0.050680  0.044451 -0.005671 -0.045599 -0.034194 -0.032356   \n",
       "3   -0.089063 -0.044642 -0.011595 -0.036656  0.012191  0.024991 -0.036038   \n",
       "4    0.005383 -0.044642 -0.036385  0.021872  0.003935  0.015596  0.008142   \n",
       "..        ...       ...       ...       ...       ...       ...       ...   \n",
       "437  0.041708  0.050680  0.019662  0.059744 -0.005697 -0.002566 -0.028674   \n",
       "438 -0.005515  0.050680 -0.015906 -0.067642  0.049341  0.079165 -0.028674   \n",
       "439  0.041708  0.050680 -0.015906  0.017282 -0.037344 -0.013840 -0.024993   \n",
       "440 -0.045472 -0.044642  0.039062  0.001215  0.016318  0.015283 -0.028674   \n",
       "441 -0.045472 -0.044642 -0.073030 -0.081414  0.083740  0.027809  0.173816   \n",
       "\n",
       "           s4        s5        s6  target  \n",
       "0   -0.002592  0.019908 -0.017646   151.0  \n",
       "1   -0.039493 -0.068330 -0.092204    75.0  \n",
       "2   -0.002592  0.002864 -0.025930   141.0  \n",
       "3    0.034309  0.022692 -0.009362   206.0  \n",
       "4   -0.002592 -0.031991 -0.046641   135.0  \n",
       "..        ...       ...       ...     ...  \n",
       "437 -0.002592  0.031193  0.007207   178.0  \n",
       "438  0.034309 -0.018118  0.044485   104.0  \n",
       "439 -0.011080 -0.046879  0.015491   132.0  \n",
       "440  0.026560  0.044528 -0.025930   220.0  \n",
       "441 -0.039493 -0.004220  0.003064    57.0  \n",
       "\n",
       "[442 rows x 11 columns]"
      ]
     },
     "metadata": {},
     "output_type": "display_data"
    }
   ],
   "source": [
    "from sklearn import datasets\n",
    "\n",
    "X, y = datasets.load_diabetes(return_X_y=True, as_frame=True) #cargamos dataset con atributos \"X\" y target \"y\"\n",
    "X.insert(10, \"target\", y)\n",
    "display(X) #set de datos"
   ]
  },
  {
   "cell_type": "code",
   "execution_count": 56,
   "metadata": {
    "slideshow": {
     "slide_type": "subslide"
    }
   },
   "outputs": [
    {
     "name": "stdout",
     "output_type": "stream",
     "text": [
      "el error de entrenamiento es MSE =  2924.041678907289\n",
      "el error de test es MSE =  2821.7385595843766\n"
     ]
    }
   ],
   "source": [
    "from sklearn.model_selection import train_test_split\n",
    "\n",
    "#subsets de entrenamiento y test\n",
    "X, y = datasets.load_diabetes(return_X_y=True)\n",
    "X_train, X_test, y_train, y_test = train_test_split(X, y, test_size=0.3, random_state=42)\n",
    "\n",
    "#entrenamiento del modelo\n",
    "regre = LinearRegression()\n",
    "regre.fit(X_train, y_train)\n",
    "y_train_predict = regre.predict(X_train)\n",
    "mse_train = mean_squared_error(y_train, y_train_predict)\n",
    "print('el error de entrenamiento es MSE = ', mse_train)\n",
    "\n",
    "#test del modelo\n",
    "y_test_predict = regre.predict(X_test)\n",
    "mse_test = mean_squared_error(y_test, y_test_predict)\n",
    "print('el error de test es MSE = ', mse_test)"
   ]
  },
  {
   "cell_type": "markdown",
   "metadata": {
    "slideshow": {
     "slide_type": "subslide"
    }
   },
   "source": [
    "- Tener errores de entrenamiento y test (validación) parecidos es una buena señal, ya que indica que el modelo está balanceado entre el underfitting y el overfitting.\n",
    "\n",
    "- Un error de test (validación) mucho más alto que el de entrenamiento es una señal de que existe overfitting, ya que el error de varianza es considerablemente más grande. El modelo está \"demasiado ajustado\" a los datos de entrenamiento.\n",
    "\n",
    "- Un error de entrenamiento muy grande es una señal que el modelo sufre de underfitting, ya que no logra capturar bien la relación entre atributos y variables objetivos (error de sesgo)"
   ]
  },
  {
   "cell_type": "code",
   "execution_count": 57,
   "metadata": {
    "scrolled": true,
    "slideshow": {
     "slide_type": "subslide"
    }
   },
   "outputs": [
    {
     "name": "stdout",
     "output_type": "stream",
     "text": [
      "**Predicciones específicas para datos de test**\n",
      "El valor verdadero es =  242.0\n",
      "El modelo predice =  257.2662357145636\n"
     ]
    }
   ],
   "source": [
    "print('**Predicciones específicas para datos de test**')\n",
    "idx = 6\n",
    "predict = regre.predict([X_test[idx]])\n",
    "\n",
    "print('El valor verdadero es = ', y_test[idx])\n",
    "print('El modelo predice = ', predict[0])"
   ]
  },
  {
   "cell_type": "code",
   "execution_count": 58,
   "metadata": {
    "slideshow": {
     "slide_type": "subslide"
    }
   },
   "outputs": [
    {
     "name": "stdout",
     "output_type": "stream",
     "text": [
      "el error de entrenamiento con 1 atributo es MSE =  5924.496728561793\n",
      "el error de test con 1 atributo es MSE =  5256.092886182665\n"
     ]
    }
   ],
   "source": [
    "#Que pasa si usamos solo 1 de los 10 atributos?\n",
    "X1 = X[:, 0] #usamos solo el atributo age\n",
    "X1 = np.reshape(X1, (len(X1), 1))\n",
    "X1_train, X1_test, y1_train, y1_test = train_test_split(X1, y, test_size=0.3, random_state=42)\n",
    "\n",
    "#entrenamiento del modelo\n",
    "regre1 = LinearRegression()\n",
    "regre1.fit(X1_train, y1_train)\n",
    "y1_train_predict = regre1.predict(X1_train)\n",
    "mse_train = mean_squared_error(y1_train, y1_train_predict)\n",
    "print('el error de entrenamiento con 1 atributo es MSE = ', mse_train)\n",
    "\n",
    "#test del modelo\n",
    "y1_test_pred = regre1.predict(X1_test)\n",
    "mse_test = mean_squared_error(y1_test, y1_test_predict)\n",
    "print('el error de test con 1 atributo es MSE = ', mse_test)"
   ]
  },
  {
   "cell_type": "code",
   "execution_count": 59,
   "metadata": {
    "slideshow": {
     "slide_type": "subslide"
    }
   },
   "outputs": [
    {
     "data": {
      "image/png": "[encoded data removed]",
      "text/plain": [
       "<Figure size 432x288 with 1 Axes>"
      ]
     },
     "metadata": {
      "needs_background": "light"
     },
     "output_type": "display_data"
    },
    {
     "data": {
      "text/plain": [
       "(<matplotlib.legend.Legend at 0x1e657a3af10>, None)"
      ]
     },
     "execution_count": 59,
     "metadata": {},
     "output_type": "execute_result"
    }
   ],
   "source": [
    "#visualizacion con 1 atributo\n",
    "plt.scatter(X1_test, y1_test, color=\"red\", label='test real')\n",
    "plt.plot(X1_test, y1_test_pred, color=\"blue\", label='test pred', linewidth=3)\n",
    "plt.xlabel('atributo'), plt.ylabel('objetivo')\n",
    "plt.legend(), plt.show()"
   ]
  },
  {
   "cell_type": "markdown",
   "metadata": {
    "slideshow": {
     "slide_type": "slide"
    }
   },
   "source": [
    "# Sumario\n",
    "- Los métodos lineales establecen relaciones del tipo combinación lineal entre atributos y variable objetivo\n",
    "- El método de mínimos cuadrados utiliza una función de costo asociada al error medio cuadrático\n",
    "- Scikit ofrece una manera sencilla y eficaz de aplicar este y otros métodos\n"
   ]
  }
 ],
 "metadata": {
  "celltoolbar": "Slideshow",
  "kernelspec": {
   "display_name": "Python 3 (ipykernel)",
   "language": "python",
   "name": "python3"
  },
  "language_info": {
   "codemirror_mode": {
    "name": "ipython",
    "version": 3
   },
   "file_extension": ".py",
   "mimetype": "text/x-python",
   "name": "python",
   "nbconvert_exporter": "python",
   "pygments_lexer": "ipython3",
   "version": "3.9.7"
  }
 },
 "nbformat": 4,
 "nbformat_minor": 4
}
