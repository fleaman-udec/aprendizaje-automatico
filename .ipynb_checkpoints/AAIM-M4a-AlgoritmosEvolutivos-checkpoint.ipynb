{
 "cells": [
  {
   "cell_type": "markdown",
   "id": "e5b5f6ff",
   "metadata": {
    "slideshow": {
     "slide_type": "slide"
    }
   },
   "source": [
    "# Módulo: Otros Tópicos\n",
    "## Algoritmos Evolutivos"
   ]
  },
  {
   "cell_type": "markdown",
   "id": "4931fd24",
   "metadata": {
    "slideshow": {
     "slide_type": "slide"
    }
   },
   "source": [
    "# Introducción"
   ]
  },
  {
   "cell_type": "markdown",
   "id": "fe272420",
   "metadata": {
    "slideshow": {
     "slide_type": "slide"
    }
   },
   "source": [
    "## Motivación\n",
    "\n",
    "<center>\n",
    "    <img src=\"figures/dog-1.png\" width=\"900\"/>\n",
    "</center>"
   ]
  },
  {
   "cell_type": "markdown",
   "id": "97fa487b",
   "metadata": {
    "slideshow": {
     "slide_type": "subslide"
    }
   },
   "source": [
    "<center>\n",
    "    <img src=\"figures/dog-2.png\" width=\"1100\"/>\n",
    "</center>"
   ]
  },
  {
   "cell_type": "markdown",
   "id": "fa1e0930",
   "metadata": {
    "slideshow": {
     "slide_type": "slide"
    }
   },
   "source": [
    "## Técnicas evolutivas\n",
    "- Algoritmos genéticos\n",
    "- Programación genética\n",
    "- Evolución diferencial\n",
    "- Programación evolutiva\n",
    "- Estrategias evolutivas\n",
    "\n",
    "<center>\n",
    "    <img src=\"figures/genetic-2.jpg\" width=\"400\"/>\n",
    "</center>"
   ]
  },
  {
   "cell_type": "markdown",
   "id": "6355b89a",
   "metadata": {
    "slideshow": {
     "slide_type": "slide"
    }
   },
   "source": [
    "# Algoritmos genéticos"
   ]
  },
  {
   "cell_type": "markdown",
   "id": "1e3f72c6",
   "metadata": {
    "slideshow": {
     "slide_type": "slide"
    }
   },
   "source": [
    "## Generalidades\n",
    "Son técnicas de optimización y descubrimiento de soluciones a problemas basadas en la teoría de la evolución de las especies\n",
    "\n",
    "<center>\n",
    "    <img src=\"figures/genetic-1.png\" width=\"500\"/>\n",
    "</center>\n",
    "\n",
    "Reflejan el proceso de selección natural en donde los mejores individuos (soluciones) son elegidos para traspasar sus genes a la siguiente generación"
   ]
  },
  {
   "cell_type": "markdown",
   "id": "719d34a4",
   "metadata": {
    "slideshow": {
     "slide_type": "subslide"
    }
   },
   "source": [
    "Una población de potenciales soluciones a un problema (individuos) se evoluciona a través de varias generaciones para obtener mejores soluciones\n",
    "\n",
    "<center>\n",
    "    <img src=\"figures/genetic-gif.gif\" width=\"800\"/>\n",
    "</center>"
   ]
  },
  {
   "cell_type": "markdown",
   "id": "e951a749",
   "metadata": {
    "slideshow": {
     "slide_type": "subslide"
    }
   },
   "source": [
    "Los individuos son caracterizados por su carga genética, cromosomas o fenotipo\n",
    "\n",
    "Nuevos individuos van surgiendo de mezclar y alterar los genes de la generación anterior.\n",
    "\n",
    "<center>\n",
    "    <img src=\"figures/genetic-3.png\" width=\"700\"/>\n",
    "</center>"
   ]
  },
  {
   "cell_type": "markdown",
   "id": "b0a3683b",
   "metadata": {
    "slideshow": {
     "slide_type": "slide"
    }
   },
   "source": [
    "## Metodología\n",
    "\n",
    "&#10148; Se comienza con una población aleatoria de individuos (generación inicial).\n",
    "\n",
    "&#10148; En cada generación se evalúa la aptitud (fitness) de cada individuo mediante una función asociada al problema a optimizar.\n",
    "\n",
    "<br><center>\n",
    "    <img src=\"figures/genetic-5.png\" width=\"400\"/>\n",
    "</center>"
   ]
  },
  {
   "cell_type": "markdown",
   "id": "42d2299d",
   "metadata": {
    "slideshow": {
     "slide_type": "subslide"
    }
   },
   "source": [
    "&#10148; Se eligen los individuos más aptos (padres) para crear una nueva generación (hijos).\n",
    "\n",
    "&#10148; El proceso continúa creando sucesivas generaciones hasta cumplir algún criterio de convergencia para seleccionar el individuo más apto (solución final).\n",
    "\n",
    "<br><center>\n",
    "    <img src=\"figures/genetic-4.jpg\" width=\"400\"/>\n",
    "</center>"
   ]
  },
  {
   "cell_type": "markdown",
   "id": "deec5674",
   "metadata": {
    "slideshow": {
     "slide_type": "slide"
    }
   },
   "source": [
    "## Operadores genéticos\n",
    "Los operadores genéticos son las técnicas usadas para crear nuevos individuos a partir de los mejores individuos de una generación \n",
    "\n",
    "<center>\n",
    "    <img src=\"figures/genetic-6.png\" width=\"600\"/>\n",
    "</center>\n"
   ]
  },
  {
   "cell_type": "markdown",
   "id": "b3bcfcb5",
   "metadata": {
    "slideshow": {
     "slide_type": "subslide"
    }
   },
   "source": [
    "**Recombinación (cross-over)**\n",
    "\n",
    "Se mezcla información de los padres para crear hijos\n",
    "\n",
    "<center>\n",
    "    <img src=\"figures/crossover-1.png\" width=\"700\"/>\n",
    "</center>"
   ]
  },
  {
   "cell_type": "markdown",
   "id": "05b14ab1",
   "metadata": {
    "slideshow": {
     "slide_type": "subslide"
    }
   },
   "source": [
    "**Mutación**\n",
    "\n",
    "Aleatoriamente se altera parte de los genes de los hijos\n",
    "\n",
    "<center>\n",
    "    <img src=\"figures/mutation-1.png\" width=\"400\"/>\n",
    "</center>"
   ]
  },
  {
   "cell_type": "markdown",
   "id": "3aece2b9",
   "metadata": {
    "slideshow": {
     "slide_type": "slide"
    }
   },
   "source": [
    "## Limitaciones\n",
    "\n",
    "- Los algoritmos genéticos no escalan bien con la complejidad de un problema, ya que comúnmente hay un incremento exponencial del tamaño del espacio de búsqueda.\n",
    "- La repetiva evaluación de la función de aptitud puede ser computacionalmente costoso para problemas complejos.\n",
    "- El criterio de término puede ser ambiguo, ya que las soluciones solo son mejores en comparación a las otras.\n",
    "- Puede ocurrir convergencia hacia una solución de mínimo local.\n",
    "- Dependiendo del problema, pueden haber otros métodos de optimización más eficientes."
   ]
  },
  {
   "cell_type": "markdown",
   "id": "b32e5b24",
   "metadata": {
    "slideshow": {
     "slide_type": "slide"
    }
   },
   "source": [
    "## Ejemplo\n",
    "\n",
    "Usamos un algoritmo genético para, a partir de una población de 4 puntos en el plano, acercarnos lo más posible al punto (-0.4, 0.3)\n",
    "\n",
    "<center>\n",
    "    <img src=\"figures/genetic-example-1.png\" width=\"500\"/>\n",
    "</center>"
   ]
  },
  {
   "cell_type": "code",
   "execution_count": 45,
   "id": "a37c4bc7",
   "metadata": {
    "slideshow": {
     "slide_type": "subslide"
    }
   },
   "outputs": [],
   "source": [
    "import numpy as np\n",
    "import matplotlib.pyplot as plt\n",
    "\n",
    "def fun_fitness(individual):\n",
    "    return 1./np.linalg.norm(individual - np.array([-0.4, 0.3]))\n",
    "\n",
    "def select_parents(population):\n",
    "    all_fitness = np.array([fun_fitness(individual) for individual in population])\n",
    "    max_fitness = np.max(all_fitness)\n",
    "    \n",
    "    sort_idx = np.argsort(all_fitness)\n",
    "    idx_max1 = sort_idx[-1]\n",
    "    idx_max2 = sort_idx[-2]\n",
    "    return np.array([population[idx_max1], population[idx_max2]]), max_fitness\n",
    "\n",
    "def crossover(parent1, parent2):\n",
    "    flip = np.random.randint(2)\n",
    "    if flip == 0:\n",
    "        child = [parent1[0], parent2[1]]\n",
    "    else:\n",
    "        child = [parent2[0], parent1[1]]        \n",
    "    return np.array(child)"
   ]
  },
  {
   "cell_type": "code",
   "execution_count": null,
   "id": "898ff618",
   "metadata": {
    "slideshow": {
     "slide_type": "subslide"
    }
   },
   "outputs": [],
   "source": [
    "def mutation(child): \n",
    "    flip = np.random.randint(4)    \n",
    "    if flip == 0:\n",
    "        mut_child = [child[0]*1.05, child[1]]\n",
    "    elif flip == 1:\n",
    "        mut_child = [-child[0]*1.05, child[1]]\n",
    "    elif flip == 2:\n",
    "        mut_child = [child[0], child[1]*1.05]\n",
    "    else:\n",
    "        mut_child = [child[0], -child[1]*1.05]\n",
    "    return np.array(mut_child)\n",
    "\n",
    "def offspring(parents, n_children):\n",
    "    offspring = []\n",
    "    for n in range(n_children):\n",
    "        child = crossover(parents[0], parents[1])\n",
    "        mut_child = mutation(child)\n",
    "        offspring.append(mut_child)\n",
    "    return np.array(offspring)"
   ]
  },
  {
   "cell_type": "code",
   "execution_count": 79,
   "id": "cd0ea185",
   "metadata": {
    "scrolled": true,
    "slideshow": {
     "slide_type": "subslide"
    }
   },
   "outputs": [
    {
     "name": "stdout",
     "output_type": "stream",
     "text": [
      "La mejor solución es:  [-0.39598632  0.3472875 ]\n"
     ]
    },
    {
     "data": {
      "image/png": "[encoded data removed]",
      "text/plain": [
       "<Figure size 432x288 with 1 Axes>"
      ]
     },
     "metadata": {
      "needs_background": "light"
     },
     "output_type": "display_data"
    }
   ],
   "source": [
    "population = np.array([[0.1, -0.1], [0.3, 0.5], [-0.2, -0.3], [0.2, -0.5]])\n",
    "n_generations = 50\n",
    "scores = []\n",
    "best_gen = []\n",
    "for gen in range(n_generations):\n",
    "    parents, max_fitness = select_parents(population)    \n",
    "    scores.append(max_fitness)\n",
    "    best_gen.append(parents[0])\n",
    "    children = offspring(parents=parents, n_children=2)\n",
    "    population = np.concatenate((parents, children), axis=0)\n",
    "\n",
    "print('La mejor solución es: ', best_gen[-1])\n",
    "    \n",
    "plt.plot(scores, linewidth=2)\n",
    "plt.xlabel('Generación',fontsize=13), plt.ylabel('Fitness', fontsize=13), plt.grid()\n",
    "plt.show()"
   ]
  },
  {
   "cell_type": "code",
   "execution_count": 78,
   "id": "da8b1cb8",
   "metadata": {
    "slideshow": {
     "slide_type": "subslide"
    }
   },
   "outputs": [
    {
     "data": {
      "image/png": "[encoded data removed]",
      "text/plain": [
       "<Figure size 432x288 with 2 Axes>"
      ]
     },
     "metadata": {
      "needs_background": "light"
     },
     "output_type": "display_data"
    }
   ],
   "source": [
    "best_gen = np.array(best_gen)\n",
    "plt.scatter(best_gen[:,0], best_gen[:,1], c=np.arange(len(best_gen)).astype(float))\n",
    "plt.colorbar(), plt.grid()\n",
    "plt.show()"
   ]
  },
  {
   "cell_type": "markdown",
   "id": "b46007fe",
   "metadata": {
    "slideshow": {
     "slide_type": "slide"
    }
   },
   "source": [
    "# Aplicación: selección de hiperparámetros de clasificador"
   ]
  },
  {
   "cell_type": "code",
   "execution_count": 100,
   "id": "c6a658f2",
   "metadata": {
    "slideshow": {
     "slide_type": "subslide"
    }
   },
   "outputs": [
    {
     "data": {
      "text/html": [
       "<div>\n",
       "<style scoped>\n",
       "    .dataframe tbody tr th:only-of-type {\n",
       "        vertical-align: middle;\n",
       "    }\n",
       "\n",
       "    .dataframe tbody tr th {\n",
       "        vertical-align: top;\n",
       "    }\n",
       "\n",
       "    .dataframe thead th {\n",
       "        text-align: right;\n",
       "    }\n",
       "</style>\n",
       "<table border=\"1\" class=\"dataframe\">\n",
       "  <thead>\n",
       "    <tr style=\"text-align: right;\">\n",
       "      <th></th>\n",
       "      <th>target</th>\n",
       "      <th>Elevation</th>\n",
       "      <th>Aspect</th>\n",
       "      <th>Slope</th>\n",
       "      <th>Horizontal_Distance_To_Hydrology</th>\n",
       "      <th>Vertical_Distance_To_Hydrology</th>\n",
       "      <th>Horizontal_Distance_To_Roadways</th>\n",
       "      <th>Hillshade_9am</th>\n",
       "      <th>Hillshade_Noon</th>\n",
       "      <th>Hillshade_3pm</th>\n",
       "      <th>...</th>\n",
       "      <th>Soil_Type_30</th>\n",
       "      <th>Soil_Type_31</th>\n",
       "      <th>Soil_Type_32</th>\n",
       "      <th>Soil_Type_33</th>\n",
       "      <th>Soil_Type_34</th>\n",
       "      <th>Soil_Type_35</th>\n",
       "      <th>Soil_Type_36</th>\n",
       "      <th>Soil_Type_37</th>\n",
       "      <th>Soil_Type_38</th>\n",
       "      <th>Soil_Type_39</th>\n",
       "    </tr>\n",
       "  </thead>\n",
       "  <tbody>\n",
       "    <tr>\n",
       "      <th>0</th>\n",
       "      <td>5</td>\n",
       "      <td>2596.0</td>\n",
       "      <td>51.0</td>\n",
       "      <td>3.0</td>\n",
       "      <td>258.0</td>\n",
       "      <td>0.0</td>\n",
       "      <td>510.0</td>\n",
       "      <td>221.0</td>\n",
       "      <td>232.0</td>\n",
       "      <td>148.0</td>\n",
       "      <td>...</td>\n",
       "      <td>0.0</td>\n",
       "      <td>0.0</td>\n",
       "      <td>0.0</td>\n",
       "      <td>0.0</td>\n",
       "      <td>0.0</td>\n",
       "      <td>0.0</td>\n",
       "      <td>0.0</td>\n",
       "      <td>0.0</td>\n",
       "      <td>0.0</td>\n",
       "      <td>0.0</td>\n",
       "    </tr>\n",
       "    <tr>\n",
       "      <th>1</th>\n",
       "      <td>5</td>\n",
       "      <td>2590.0</td>\n",
       "      <td>56.0</td>\n",
       "      <td>2.0</td>\n",
       "      <td>212.0</td>\n",
       "      <td>-6.0</td>\n",
       "      <td>390.0</td>\n",
       "      <td>220.0</td>\n",
       "      <td>235.0</td>\n",
       "      <td>151.0</td>\n",
       "      <td>...</td>\n",
       "      <td>0.0</td>\n",
       "      <td>0.0</td>\n",
       "      <td>0.0</td>\n",
       "      <td>0.0</td>\n",
       "      <td>0.0</td>\n",
       "      <td>0.0</td>\n",
       "      <td>0.0</td>\n",
       "      <td>0.0</td>\n",
       "      <td>0.0</td>\n",
       "      <td>0.0</td>\n",
       "    </tr>\n",
       "    <tr>\n",
       "      <th>2</th>\n",
       "      <td>2</td>\n",
       "      <td>2804.0</td>\n",
       "      <td>139.0</td>\n",
       "      <td>9.0</td>\n",
       "      <td>268.0</td>\n",
       "      <td>65.0</td>\n",
       "      <td>3180.0</td>\n",
       "      <td>234.0</td>\n",
       "      <td>238.0</td>\n",
       "      <td>135.0</td>\n",
       "      <td>...</td>\n",
       "      <td>0.0</td>\n",
       "      <td>0.0</td>\n",
       "      <td>0.0</td>\n",
       "      <td>0.0</td>\n",
       "      <td>0.0</td>\n",
       "      <td>0.0</td>\n",
       "      <td>0.0</td>\n",
       "      <td>0.0</td>\n",
       "      <td>0.0</td>\n",
       "      <td>0.0</td>\n",
       "    </tr>\n",
       "    <tr>\n",
       "      <th>3</th>\n",
       "      <td>2</td>\n",
       "      <td>2785.0</td>\n",
       "      <td>155.0</td>\n",
       "      <td>18.0</td>\n",
       "      <td>242.0</td>\n",
       "      <td>118.0</td>\n",
       "      <td>3090.0</td>\n",
       "      <td>238.0</td>\n",
       "      <td>238.0</td>\n",
       "      <td>122.0</td>\n",
       "      <td>...</td>\n",
       "      <td>0.0</td>\n",
       "      <td>0.0</td>\n",
       "      <td>0.0</td>\n",
       "      <td>0.0</td>\n",
       "      <td>0.0</td>\n",
       "      <td>0.0</td>\n",
       "      <td>0.0</td>\n",
       "      <td>0.0</td>\n",
       "      <td>0.0</td>\n",
       "      <td>0.0</td>\n",
       "    </tr>\n",
       "    <tr>\n",
       "      <th>4</th>\n",
       "      <td>5</td>\n",
       "      <td>2595.0</td>\n",
       "      <td>45.0</td>\n",
       "      <td>2.0</td>\n",
       "      <td>153.0</td>\n",
       "      <td>-1.0</td>\n",
       "      <td>391.0</td>\n",
       "      <td>220.0</td>\n",
       "      <td>234.0</td>\n",
       "      <td>150.0</td>\n",
       "      <td>...</td>\n",
       "      <td>0.0</td>\n",
       "      <td>0.0</td>\n",
       "      <td>0.0</td>\n",
       "      <td>0.0</td>\n",
       "      <td>0.0</td>\n",
       "      <td>0.0</td>\n",
       "      <td>0.0</td>\n",
       "      <td>0.0</td>\n",
       "      <td>0.0</td>\n",
       "      <td>0.0</td>\n",
       "    </tr>\n",
       "    <tr>\n",
       "      <th>...</th>\n",
       "      <td>...</td>\n",
       "      <td>...</td>\n",
       "      <td>...</td>\n",
       "      <td>...</td>\n",
       "      <td>...</td>\n",
       "      <td>...</td>\n",
       "      <td>...</td>\n",
       "      <td>...</td>\n",
       "      <td>...</td>\n",
       "      <td>...</td>\n",
       "      <td>...</td>\n",
       "      <td>...</td>\n",
       "      <td>...</td>\n",
       "      <td>...</td>\n",
       "      <td>...</td>\n",
       "      <td>...</td>\n",
       "      <td>...</td>\n",
       "      <td>...</td>\n",
       "      <td>...</td>\n",
       "      <td>...</td>\n",
       "      <td>...</td>\n",
       "    </tr>\n",
       "    <tr>\n",
       "      <th>581007</th>\n",
       "      <td>3</td>\n",
       "      <td>2396.0</td>\n",
       "      <td>153.0</td>\n",
       "      <td>20.0</td>\n",
       "      <td>85.0</td>\n",
       "      <td>17.0</td>\n",
       "      <td>108.0</td>\n",
       "      <td>240.0</td>\n",
       "      <td>237.0</td>\n",
       "      <td>118.0</td>\n",
       "      <td>...</td>\n",
       "      <td>0.0</td>\n",
       "      <td>0.0</td>\n",
       "      <td>0.0</td>\n",
       "      <td>0.0</td>\n",
       "      <td>0.0</td>\n",
       "      <td>0.0</td>\n",
       "      <td>0.0</td>\n",
       "      <td>0.0</td>\n",
       "      <td>0.0</td>\n",
       "      <td>0.0</td>\n",
       "    </tr>\n",
       "    <tr>\n",
       "      <th>581008</th>\n",
       "      <td>3</td>\n",
       "      <td>2391.0</td>\n",
       "      <td>152.0</td>\n",
       "      <td>19.0</td>\n",
       "      <td>67.0</td>\n",
       "      <td>12.0</td>\n",
       "      <td>95.0</td>\n",
       "      <td>240.0</td>\n",
       "      <td>237.0</td>\n",
       "      <td>119.0</td>\n",
       "      <td>...</td>\n",
       "      <td>0.0</td>\n",
       "      <td>0.0</td>\n",
       "      <td>0.0</td>\n",
       "      <td>0.0</td>\n",
       "      <td>0.0</td>\n",
       "      <td>0.0</td>\n",
       "      <td>0.0</td>\n",
       "      <td>0.0</td>\n",
       "      <td>0.0</td>\n",
       "      <td>0.0</td>\n",
       "    </tr>\n",
       "    <tr>\n",
       "      <th>581009</th>\n",
       "      <td>3</td>\n",
       "      <td>2386.0</td>\n",
       "      <td>159.0</td>\n",
       "      <td>17.0</td>\n",
       "      <td>60.0</td>\n",
       "      <td>7.0</td>\n",
       "      <td>90.0</td>\n",
       "      <td>236.0</td>\n",
       "      <td>241.0</td>\n",
       "      <td>130.0</td>\n",
       "      <td>...</td>\n",
       "      <td>0.0</td>\n",
       "      <td>0.0</td>\n",
       "      <td>0.0</td>\n",
       "      <td>0.0</td>\n",
       "      <td>0.0</td>\n",
       "      <td>0.0</td>\n",
       "      <td>0.0</td>\n",
       "      <td>0.0</td>\n",
       "      <td>0.0</td>\n",
       "      <td>0.0</td>\n",
       "    </tr>\n",
       "    <tr>\n",
       "      <th>581010</th>\n",
       "      <td>3</td>\n",
       "      <td>2384.0</td>\n",
       "      <td>170.0</td>\n",
       "      <td>15.0</td>\n",
       "      <td>60.0</td>\n",
       "      <td>5.0</td>\n",
       "      <td>90.0</td>\n",
       "      <td>230.0</td>\n",
       "      <td>245.0</td>\n",
       "      <td>143.0</td>\n",
       "      <td>...</td>\n",
       "      <td>0.0</td>\n",
       "      <td>0.0</td>\n",
       "      <td>0.0</td>\n",
       "      <td>0.0</td>\n",
       "      <td>0.0</td>\n",
       "      <td>0.0</td>\n",
       "      <td>0.0</td>\n",
       "      <td>0.0</td>\n",
       "      <td>0.0</td>\n",
       "      <td>0.0</td>\n",
       "    </tr>\n",
       "    <tr>\n",
       "      <th>581011</th>\n",
       "      <td>3</td>\n",
       "      <td>2383.0</td>\n",
       "      <td>165.0</td>\n",
       "      <td>13.0</td>\n",
       "      <td>60.0</td>\n",
       "      <td>4.0</td>\n",
       "      <td>67.0</td>\n",
       "      <td>231.0</td>\n",
       "      <td>244.0</td>\n",
       "      <td>141.0</td>\n",
       "      <td>...</td>\n",
       "      <td>0.0</td>\n",
       "      <td>0.0</td>\n",
       "      <td>0.0</td>\n",
       "      <td>0.0</td>\n",
       "      <td>0.0</td>\n",
       "      <td>0.0</td>\n",
       "      <td>0.0</td>\n",
       "      <td>0.0</td>\n",
       "      <td>0.0</td>\n",
       "      <td>0.0</td>\n",
       "    </tr>\n",
       "  </tbody>\n",
       "</table>\n",
       "<p>581012 rows × 55 columns</p>\n",
       "</div>"
      ],
      "text/plain": [
       "        target  Elevation  Aspect  Slope  Horizontal_Distance_To_Hydrology  \\\n",
       "0            5     2596.0    51.0    3.0                             258.0   \n",
       "1            5     2590.0    56.0    2.0                             212.0   \n",
       "2            2     2804.0   139.0    9.0                             268.0   \n",
       "3            2     2785.0   155.0   18.0                             242.0   \n",
       "4            5     2595.0    45.0    2.0                             153.0   \n",
       "...        ...        ...     ...    ...                               ...   \n",
       "581007       3     2396.0   153.0   20.0                              85.0   \n",
       "581008       3     2391.0   152.0   19.0                              67.0   \n",
       "581009       3     2386.0   159.0   17.0                              60.0   \n",
       "581010       3     2384.0   170.0   15.0                              60.0   \n",
       "581011       3     2383.0   165.0   13.0                              60.0   \n",
       "\n",
       "        Vertical_Distance_To_Hydrology  Horizontal_Distance_To_Roadways  \\\n",
       "0                                  0.0                            510.0   \n",
       "1                                 -6.0                            390.0   \n",
       "2                                 65.0                           3180.0   \n",
       "3                                118.0                           3090.0   \n",
       "4                                 -1.0                            391.0   \n",
       "...                                ...                              ...   \n",
       "581007                            17.0                            108.0   \n",
       "581008                            12.0                             95.0   \n",
       "581009                             7.0                             90.0   \n",
       "581010                             5.0                             90.0   \n",
       "581011                             4.0                             67.0   \n",
       "\n",
       "        Hillshade_9am  Hillshade_Noon  Hillshade_3pm  ...  Soil_Type_30  \\\n",
       "0               221.0           232.0          148.0  ...           0.0   \n",
       "1               220.0           235.0          151.0  ...           0.0   \n",
       "2               234.0           238.0          135.0  ...           0.0   \n",
       "3               238.0           238.0          122.0  ...           0.0   \n",
       "4               220.0           234.0          150.0  ...           0.0   \n",
       "...               ...             ...            ...  ...           ...   \n",
       "581007          240.0           237.0          118.0  ...           0.0   \n",
       "581008          240.0           237.0          119.0  ...           0.0   \n",
       "581009          236.0           241.0          130.0  ...           0.0   \n",
       "581010          230.0           245.0          143.0  ...           0.0   \n",
       "581011          231.0           244.0          141.0  ...           0.0   \n",
       "\n",
       "        Soil_Type_31  Soil_Type_32  Soil_Type_33  Soil_Type_34  Soil_Type_35  \\\n",
       "0                0.0           0.0           0.0           0.0           0.0   \n",
       "1                0.0           0.0           0.0           0.0           0.0   \n",
       "2                0.0           0.0           0.0           0.0           0.0   \n",
       "3                0.0           0.0           0.0           0.0           0.0   \n",
       "4                0.0           0.0           0.0           0.0           0.0   \n",
       "...              ...           ...           ...           ...           ...   \n",
       "581007           0.0           0.0           0.0           0.0           0.0   \n",
       "581008           0.0           0.0           0.0           0.0           0.0   \n",
       "581009           0.0           0.0           0.0           0.0           0.0   \n",
       "581010           0.0           0.0           0.0           0.0           0.0   \n",
       "581011           0.0           0.0           0.0           0.0           0.0   \n",
       "\n",
       "        Soil_Type_36  Soil_Type_37  Soil_Type_38  Soil_Type_39  \n",
       "0                0.0           0.0           0.0           0.0  \n",
       "1                0.0           0.0           0.0           0.0  \n",
       "2                0.0           0.0           0.0           0.0  \n",
       "3                0.0           0.0           0.0           0.0  \n",
       "4                0.0           0.0           0.0           0.0  \n",
       "...              ...           ...           ...           ...  \n",
       "581007           0.0           0.0           0.0           0.0  \n",
       "581008           0.0           0.0           0.0           0.0  \n",
       "581009           0.0           0.0           0.0           0.0  \n",
       "581010           0.0           0.0           0.0           0.0  \n",
       "581011           0.0           0.0           0.0           0.0  \n",
       "\n",
       "[581012 rows x 55 columns]"
      ]
     },
     "metadata": {},
     "output_type": "display_data"
    }
   ],
   "source": [
    "from sklearn.datasets import fetch_covtype\n",
    "from sklearn.preprocessing import StandardScaler\n",
    "\n",
    "covtype = fetch_covtype(as_frame=True)\n",
    "X = covtype.data\n",
    "y = covtype.target\n",
    "X.insert(0, \"target\", y)\n",
    "display(X) #set de datos"
   ]
  },
  {
   "cell_type": "code",
   "execution_count": 98,
   "id": "8eba2097",
   "metadata": {
    "slideshow": {
     "slide_type": "subslide"
    }
   },
   "outputs": [],
   "source": [
    "solvers_ = ['lbfgs', 'sgd', 'adam']\n",
    "activations_ = ['tanh', 'logistic', 'relu']\n",
    "alphas_ = [1.e-4, 1.e-1, 1.e2]\n",
    "hidden_layer_sizes_ = [(50,), (100,), (10,)]\n",
    "max_iters_ = [1000, 5000, 10000]\n",
    "\n",
    "def gen_sample():\n",
    "    flip = np.random.randint(3, size=5)\n",
    "    return (solvers_[flip[0]], activations_[flip[1]], alphas_[flip[2]], hidden_layer_sizes_[flip[3]], max_iters_[flip[4]])\n",
    "\n",
    "def gen_population(n_samples):\n",
    "    return [gen_sample() for i in range(n_samples)]"
   ]
  },
  {
   "cell_type": "code",
   "execution_count": null,
   "id": "027ebafe",
   "metadata": {
    "slideshow": {
     "slide_type": "subslide"
    }
   },
   "outputs": [],
   "source": [
    "def fun_fitness(data, labels, hparams):\n",
    "    clf = MLPClassifier(solver=hparams[0], activation=hparams[1], alpha=hparams[2], hidden_layer_sizes=hparams[3], max_iter=hparams[4], random_state=0)\n",
    "    cv = cross_validate(estimator=clf, X=data, y=labels, cv=2, scoring='accuracy')\n",
    "    return np.mean(cv['test_score'])\n",
    "\n",
    "def select_parents(data, labels, population):\n",
    "    all_fitness = np.array([fun_fitness(data, labels, hparams) for hparams in population])\n",
    "    max_fitness = np.max(all_fitness)\n",
    "    idx1 = np.argmax(all_fitness)    \n",
    "    all_fitness[idx1] = -999\n",
    "    idx2 = np.argmax(all_fitness)\n",
    "    return [population[idx1], population[idx2]], max_fitness\n",
    "\n",
    "def crossover(parent1, parent2):\n",
    "    flip = np.random.randint(3)\n",
    "    if flip == 0:\n",
    "        child = (parent1[0], parent1[1], parent2[2], parent2[3], parent2[4])\n",
    "    elif flip == 1:\n",
    "        child = (parent2[0], parent2[1], parent1[2], parent1[3], parent1[4])\n",
    "    elif flip == 2:\n",
    "        child = (parent1[0], parent2[1], parent1[2], parent2[3], parent1[4])\n",
    "    return child"
   ]
  },
  {
   "cell_type": "code",
   "execution_count": 105,
   "id": "1e520459",
   "metadata": {
    "slideshow": {
     "slide_type": "subslide"
    }
   },
   "outputs": [],
   "source": [
    "def mutation(child): \n",
    "    mut_child = list(child)\n",
    "    flip = np.random.randint(5)\n",
    "    if (flip == 0) or (flip == 1):\n",
    "        mut = gen_sample()\n",
    "        mut_child[flip] = mut[flip]\n",
    "    elif flip == 3:\n",
    "        foo = int(mut_child[flip][0]*(np.random.uniform(-0.2, 0.2)+1))\n",
    "        mut_child[flip] = (foo,)\n",
    "    elif flip == 4:\n",
    "        mut_child[flip] = int(mut_child[flip]*(np.random.uniform(-0.2, 0.2)+1))\n",
    "    else:\n",
    "        mut_child[flip] = mut_child[flip]*(np.random.uniform(-0.2, 0.2)+1)\n",
    "    return tuple(mut_child)\n",
    "\n",
    "def offspring(parents, n_children):\n",
    "    offspring = []\n",
    "    for n in range(n_children):\n",
    "        child = crossover(parents[0], parents[1])\n",
    "        mut_child = mutation(child)\n",
    "        offspring.append(mut_child)\n",
    "    return offspring"
   ]
  },
  {
   "cell_type": "code",
   "execution_count": 101,
   "id": "c48d6fa0",
   "metadata": {
    "scrolled": true,
    "slideshow": {
     "slide_type": "subslide"
    }
   },
   "outputs": [
    {
     "name": "stdout",
     "output_type": "stream",
     "text": [
      "[('sgd', 'logistic', 0.1, (10,), 5000), ('lbfgs', 'relu', 100.0, (50,), 10000), ('sgd', 'logistic', 100.0, (100,), 10000), ('sgd', 'tanh', 0.0001, (100,), 5000)]\n"
     ]
    }
   ],
   "source": [
    "covtype = fetch_covtype(as_frame=False)\n",
    "X = covtype.data[:1000]\n",
    "y = covtype.target[:1000]\n",
    "X_train, X_test, y_train, y_test = train_test_split(X, y, test_size=0.3, stratify=y, random_state=11)\n",
    "scaler = StandardScaler().fit(X_train)\n",
    "X_train = scaler.transform(X_train)\n",
    "X_test = scaler.transform(X_test)\n",
    "ini_population = gen_population(n_samples=4)\n",
    "print(ini_population)"
   ]
  },
  {
   "cell_type": "code",
   "execution_count": 102,
   "id": "c9a15be0",
   "metadata": {
    "scrolled": false,
    "slideshow": {
     "slide_type": "subslide"
    }
   },
   "outputs": [
    {
     "name": "stdout",
     "output_type": "stream",
     "text": [
      "('sgd', 'tanh', 0.0001, (100,), 5000)\n",
      "0.72\n"
     ]
    }
   ],
   "source": [
    "parents, max_fitness = select_parents(data=X_train, labels=y_train, population=ini_population)\n",
    "print(parents[0])\n",
    "print(max_fitness)"
   ]
  },
  {
   "cell_type": "code",
   "execution_count": 106,
   "id": "1ae15f6b",
   "metadata": {
    "slideshow": {
     "slide_type": "subslide"
    }
   },
   "outputs": [],
   "source": [
    "n_generations = 10\n",
    "scores = []\n",
    "for g in range(n_generations):\n",
    "    if g == 0:\n",
    "        parents, max_fitness = select_parents(data=X_train, labels=y_train, population=ini_population)\n",
    "    else:\n",
    "        parents, max_fitness = select_parents(data=X_train, labels=y_train, population=population)\n",
    "    scores.append(max_fitness)\n",
    "    children = offspring(parents=parents, n_children=2)  \n",
    "    population = children + parents"
   ]
  },
  {
   "cell_type": "code",
   "execution_count": 107,
   "id": "290653f2",
   "metadata": {
    "scrolled": true,
    "slideshow": {
     "slide_type": "subslide"
    }
   },
   "outputs": [
    {
     "name": "stdout",
     "output_type": "stream",
     "text": [
      "('adam', 'tanh', 9.492660544709965e-05, (100,), 4396)\n",
      "0.7242857142857143\n"
     ]
    },
    {
     "data": {
      "image/png": "[encoded data removed]",
      "text/plain": [
       "<Figure size 432x288 with 1 Axes>"
      ]
     },
     "metadata": {
      "needs_background": "light"
     },
     "output_type": "display_data"
    }
   ],
   "source": [
    "print(parents[0])\n",
    "print(max_fitness)\n",
    "plt.plot(scores)\n",
    "plt.show()"
   ]
  },
  {
   "cell_type": "markdown",
   "id": "706770f6",
   "metadata": {
    "slideshow": {
     "slide_type": "slide"
    }
   },
   "source": [
    "# Sumario\n",
    "- Los algoritmos evolutivos están inspirados por la teoría de la evolución, en donde se van eligiendo individuos más aptos en sucesivas generaciones.\n",
    "- Los algoritmos genéticos emplean operaciones de recombinaciones y mutaciones para ir generando nuevas posibles soluciones a un problema a partir de una población inicial de soluciones.\n",
    "- Aplicado al aprendizaje automático, los algoritmos genéticos pueden emplearse para la búsqueda de los hiperparámetros de un modelo."
   ]
  }
 ],
 "metadata": {
  "celltoolbar": "Slideshow",
  "kernelspec": {
   "display_name": "Python 3 (ipykernel)",
   "language": "python",
   "name": "python3"
  },
  "language_info": {
   "codemirror_mode": {
    "name": "ipython",
    "version": 3
   },
   "file_extension": ".py",
   "mimetype": "text/x-python",
   "name": "python",
   "nbconvert_exporter": "python",
   "pygments_lexer": "ipython3",
   "version": "3.9.7"
  }
 },
 "nbformat": 4,
 "nbformat_minor": 5
}
