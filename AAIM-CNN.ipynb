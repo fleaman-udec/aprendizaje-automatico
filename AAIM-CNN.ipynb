{
 "cells": [
  {
   "cell_type": "markdown",
   "id": "90d87c64",
   "metadata": {
    "slideshow": {
     "slide_type": "slide"
    }
   },
   "source": [
    "# Redes neuronales convolucionales (CNN)"
   ]
  },
  {
   "cell_type": "markdown",
   "id": "03298a0d",
   "metadata": {
    "slideshow": {
     "slide_type": "slide"
    }
   },
   "source": [
    "## Fundamentos\n",
    "\n",
    "Históricamente han sido el tipo de ANN más exitosa, usadas principalmente para reconocimiento de imágenes, localización de objetos y procesamiento de texto, entre otros.\n",
    "\n",
    "Están inspiradas por el funcionamiento del cortex visual de los gatos, en donde porciones específicas del campo visual activan ciertas neuronas.\n",
    "\n",
    "<center>\n",
    "    <img src=\"figures/cnn-0.png\" width=\"1000\"/>\n",
    "</center>"
   ]
  },
  {
   "cell_type": "markdown",
   "id": "a76beaf1",
   "metadata": {
    "slideshow": {
     "slide_type": "subslide"
    }
   },
   "source": [
    "Están basadas en el concepto de la convolución entre dos funciones:\n",
    "\n",
    "\\begin{align}\n",
    "    (f \\ast g)(t) = \\int_{-\\infty}^\\infty f(\\tau) g(t - \\tau) d\\tau\n",
    "\\end{align}\n",
    "\n",
    "<center>\n",
    "    <img src=\"figures/convo-gif-1.gif\" width=\"800\"/>\n",
    "</center>\n",
    "\n",
    "<center>\n",
    "    <img src=\"figures/convo-gif-3.gif\" width=\"800\"/>\n",
    "</center>"
   ]
  },
  {
   "cell_type": "markdown",
   "id": "f7a4e9d3",
   "metadata": {
    "slideshow": {
     "slide_type": "subslide"
    }
   },
   "source": [
    "## Aplicaciones comunes de las CNN\n",
    "\n",
    "- Reconocimiento de rostros\n",
    "- Conducción y producción autónoma\n",
    "- Diagnóstico médico e industrial\n",
    "- Sistemas de vigilancia\n",
    "- Procesamiento de imágenes"
   ]
  },
  {
   "cell_type": "markdown",
   "id": "3d0e1621",
   "metadata": {
    "slideshow": {
     "slide_type": "slide"
    }
   },
   "source": [
    "# Arquitectura de las CNN\n"
   ]
  },
  {
   "cell_type": "markdown",
   "id": "18ac8b2e",
   "metadata": {
    "slideshow": {
     "slide_type": "slide"
    }
   },
   "source": [
    "\n",
    "<center>\n",
    "    <img src=\"figures/cnn-archi.jpg\" width=\"800\"/>\n",
    "</center>\n",
    "\n",
    "\n"
   ]
  },
  {
   "cell_type": "markdown",
   "id": "0a8e6a6b",
   "metadata": {
    "slideshow": {
     "slide_type": "slide"
    }
   },
   "source": [
    "## Capas convolucionales\n",
    "\n",
    "Intuitivamente la operación de convolución utiliza filtros (kernels) adecuados para detectar determinados patrones dentro de las imágenes.\n",
    "\n",
    "<center>\n",
    "    <img src=\"figures/convolution-2-gif.gif\" width=\"800\"/>\n",
    "</center>\n",
    "\n",
    "Sin embargo, algunos filtros son más abstractos y no tienen necesariamente una interpretación intuitiva."
   ]
  },
  {
   "cell_type": "markdown",
   "id": "b3aac90b",
   "metadata": {
    "slideshow": {
     "slide_type": "subslide"
    }
   },
   "source": [
    "Dada una capa $i$, los valores de la capa $i+1$ son el producto punto entre los valores (pesos) del filtro y regiones espaciales de la capa actual de igual dimensión\n",
    "\n",
    "<center>\n",
    "    <img src=\"figures/convolution-gif.gif\" width=\"800\"/>\n",
    "</center>\n",
    "\n",
    "Al resultado de la operación también se le puede aplicar una función de activación (e.g. ReLU)."
   ]
  },
  {
   "cell_type": "markdown",
   "id": "abd8490c",
   "metadata": {
    "slideshow": {
     "slide_type": "subslide"
    }
   },
   "source": [
    "Al aplicar más de un filtro a una misma capa, se pueden generar capas sucesivas tridimensionales.\n",
    "\n",
    "<center>\n",
    "    <img src=\"figures/convo-4.gif\" width=\"600\"/>\n",
    "</center>\n",
    "\n",
    "*Ej.: al aplicar 3 filtros de profundidad 1 a una capa de profundidad 1, se generará una capa de profundidad 3*\n"
   ]
  },
  {
   "cell_type": "markdown",
   "id": "c71b203e",
   "metadata": {
    "slideshow": {
     "slide_type": "subslide"
    }
   },
   "source": [
    "También existen filtros tridimensionales de profundidad determinada para aplicar a capas que ya son tridimensionales.\n",
    "\n",
    "<center>\n",
    "    <img src=\"figures/convo-5.gif\" width=\"600\"/>\n",
    "</center>\n",
    "\n",
    "*Ej.: al aplicar 1 filtro de profundidad 3 a una capa de profundidad 3, se generará una capa de profundidad 1*"
   ]
  },
  {
   "cell_type": "markdown",
   "id": "efa0d8cf",
   "metadata": {
    "slideshow": {
     "slide_type": "subslide"
    }
   },
   "source": [
    "En general, es posible aplicar cualquier cantidad de filtros de profundidad determinada a cualquier capa de cualquier otra profundidad.\n",
    "\n",
    "<br><center>\n",
    "    <img src=\"figures/convo-6.png\" width=\"1000\"/>\n",
    "</center>\n",
    "\n",
    "*Ej.: aplicar un filtro de 3x3x3 sobre una capa de 4x5x4 resulta en una capa de 2x3x2*\n"
   ]
  },
  {
   "cell_type": "markdown",
   "id": "bf7493a3",
   "metadata": {
    "slideshow": {
     "slide_type": "slide"
    }
   },
   "source": [
    "## Capas de submuestreo (pooling)\n",
    "\n",
    "El submuestreo consiste en reducir la dimensionalidad de las capas convolucionales.\n",
    "\n",
    "Se busca reducir el costo computacional, aumentar la tolerancia a pequeñas distorsiones y hacer la CNN lo más genérica posible.\n",
    "\n",
    "<center>\n",
    "    <img src=\"figures/pooling-2.jpeg\" width=\"500\"/>\n",
    "</center>"
   ]
  },
  {
   "cell_type": "markdown",
   "id": "68d6a74a",
   "metadata": {
    "slideshow": {
     "slide_type": "subslide"
    }
   },
   "source": [
    "Los tipos más comunes son el submuestreo promediado y submuestreo máximo.\n",
    "- Average pooling: se van tomando promedios cada $a x b$ posiciones\n",
    "- Max pooling: se van tomando el valor máximo cada $a x b$ posiciones\n",
    "\n",
    "<center>\n",
    "    <img src=\"figures/pooling-gif.gif\" width=\"700\"/>\n",
    "</center>\n",
    "\n"
   ]
  },
  {
   "cell_type": "markdown",
   "id": "c49f88fa",
   "metadata": {
    "slideshow": {
     "slide_type": "slide"
    }
   },
   "source": [
    "## Capa totalmente conectada (fully connected) o densa\n",
    "\n",
    "Luego de sucesivas capas convolucionales y de submuestreo se suele aplicar una capa totalmente conectada.\n",
    "\n",
    "Esto se hace para ponderar toda la información presente en la capa anterior, que hasta el momento retenía la estructura espacial de la entrada original.\n",
    "\n",
    "<center>\n",
    "    <img src=\"figures/convo-9.png\" width=\"1100\"/>\n",
    "</center>"
   ]
  },
  {
   "cell_type": "markdown",
   "id": "96e2dbb0",
   "metadata": {
    "slideshow": {
     "slide_type": "slide"
    }
   },
   "source": [
    "## Capa softmax\n",
    "\n",
    "Si la CNN se utiliza para clasificación, luego de la capa totalmente conectada se aplica una capa softmax para predecir las probabilidades para cada clase.\n",
    "\n",
    "<center>\n",
    "    <img src=\"figures/softmax.png\" width=\"700\"/>\n",
    "</center>"
   ]
  },
  {
   "cell_type": "markdown",
   "id": "19a0a45b",
   "metadata": {
    "slideshow": {
     "slide_type": "slide"
    }
   },
   "source": [
    "## Capa de dilución (dropout)\n",
    "\n",
    "Se trata de una capa especial usada durante el entrenamiento para prevenir el sobreajuste.\n",
    "\n",
    "Consiste en aleatoriamente no considerar algunas unidades durante el entrenamiento.\n",
    "\n",
    "<center>\n",
    "    <img src=\"figures/dropout-1.png\" width=\"700\"/>\n",
    "</center>\n",
    "\n",
    "Con esta técnica se busca aumentar la capacidad de generalización de la red."
   ]
  },
  {
   "cell_type": "markdown",
   "id": "2d650ab1",
   "metadata": {
    "slideshow": {
     "slide_type": "slide"
    }
   },
   "source": [
    "# Entrenamiento de una CNN\n"
   ]
  },
  {
   "cell_type": "markdown",
   "id": "a140b3d4",
   "metadata": {
    "slideshow": {
     "slide_type": "slide"
    }
   },
   "source": [
    "\n",
    "Durante el entrenamiento de la CNN, esta \"aprende\" a detectar atributos relevantes en los datos brutos\n",
    "\n",
    "<center>\n",
    "    <img src=\"figures/cnn-1.jpeg\" width=\"1100\"/>\n",
    "</center>\n",
    "\n",
    "Los atributos en las capas inferiores capturan formas primitivas como líneas, mientras que los atributos es capas superiores captan formas complejas."
   ]
  },
  {
   "cell_type": "markdown",
   "id": "58c0c750",
   "metadata": {
    "slideshow": {
     "slide_type": "subslide"
    }
   },
   "source": [
    "Los parámetros (coeficientes, pesos) a aprender en las capas convolucionales corresponden a los valores de cada kernel o filtro cuyos valores se ajustan con propagación hacia atrás.\n",
    "\n",
    "<center>\n",
    "    <img src=\"figures/cnn-parameter.png\" width=\"900\"/>\n",
    "</center>\n",
    "\n",
    "Cada filtro también tiene asociado un termino de sesgo (bias, offset)"
   ]
  },
  {
   "cell_type": "markdown",
   "id": "59027026",
   "metadata": {
    "slideshow": {
     "slide_type": "subslide"
    }
   },
   "source": [
    "Por su funcionamiento jerarquico en encontrar atributos de bajo nivel y combinarlos para formar atributos de alto nivel, es posible utilizar CNN preentrenadas para distintos tipos de aplicaciones.\n",
    "\n",
    "\n",
    "<center>\n",
    "    <img src=\"figures/cnn-2.png\" width=\"1200\"/>\n",
    "</center>\n",
    "\n",
    "En estos casos solo se realiza un ajuste fino en la última capa de la CNN para adaptarla al caso en particular."
   ]
  },
  {
   "cell_type": "markdown",
   "id": "dacaff5d",
   "metadata": {
    "slideshow": {
     "slide_type": "slide"
    }
   },
   "source": [
    "# Ejemplo: Arquitectura LeNet-5\n"
   ]
  },
  {
   "cell_type": "markdown",
   "id": "90bd98e8",
   "metadata": {
    "slideshow": {
     "slide_type": "slide"
    }
   },
   "source": [
    "\n",
    "Es una de las primeras arquitecturas de CNN preentrenadas para **reconocer texto**.\n",
    "\n",
    "Consta de **3 capas convolucionales** combinadas son **submuestreo promedio**. Luego siguen capas **totalmente conectadas** y un clasificador **softmax**.\n",
    "\n",
    "La entrada es una imagen de 32x32 pixeles en escala de grises, por lo que el número de canales (o profundidad) es 1.\n",
    "\n",
    "<center>\n",
    "    <img src=\"figures/lenet-1.png\" width=\"200\"/>\n",
    "</center>"
   ]
  },
  {
   "cell_type": "markdown",
   "id": "56602133",
   "metadata": {
    "slideshow": {
     "slide_type": "subslide"
    }
   },
   "source": [
    "La primera convolución utiliza **6 filtros** de tamaño **5x5**.\n",
    "\n",
    "Como resultado se obtiene un mapa de atributos de tamaño **28x28x6**.\n",
    "\n",
    "<center>\n",
    "    <img src=\"figures/lenet-2.png\" width=\"900\"/>\n",
    "</center>\n",
    "\n",
    "Aquí el número de canales es igual a la cantidad de filtros aplicados, osea **6**.\n",
    "\n"
   ]
  },
  {
   "cell_type": "markdown",
   "id": "95015b34",
   "metadata": {
    "slideshow": {
     "slide_type": "subslide"
    }
   },
   "source": [
    "La primera operación de **submuestreo** (pooling) promedia los valores en regiones de **2x2**.\n",
    "\n",
    "<center>\n",
    "    <img src=\"figures/lenet-3.png\" width=\"600\"/>\n",
    "</center>\n",
    "\n",
    "Como resultado, se reduce el tamaño de los mapas de atributos a la mitad, pero el número de canales se mantiene igual.\n",
    "\n"
   ]
  },
  {
   "cell_type": "markdown",
   "id": "fc6af68f",
   "metadata": {
    "slideshow": {
     "slide_type": "subslide"
    }
   },
   "source": [
    "Luego se vuelve a realizar otra convolución, otro submuestreo y otra convolución hasta llegar a un mapa de atributos lineal de 120 valores.\n",
    "\n",
    "<center>\n",
    "    <img src=\"figures/lenet-4.png\" width=\"1000\"/>\n",
    "</center>"
   ]
  },
  {
   "cell_type": "markdown",
   "id": "679d17b2",
   "metadata": {
    "slideshow": {
     "slide_type": "subslide"
    }
   },
   "source": [
    "Finalmente se agrega una capa **totalmente conectada** con **84** unidades y una capa de clasificación **softmax** con **10** unidades.\n",
    "\n",
    "<center>\n",
    "    <img src=\"figures/lenet-5.png\" width=\"1000\"/>\n",
    "</center>\n",
    "\n",
    "Sin considerar la capa softmax, todas las demás capas utilizan la función de activación **tanh**.\n"
   ]
  },
  {
   "cell_type": "markdown",
   "id": "2acdcde4",
   "metadata": {
    "slideshow": {
     "slide_type": "subslide"
    }
   },
   "source": [
    "<center>\n",
    "    <img src=\"figures/lenet-gif.gif\" width=\"1200\"/>\n",
    "</center>"
   ]
  },
  {
   "cell_type": "markdown",
   "id": "ed4899a1",
   "metadata": {
    "slideshow": {
     "slide_type": "slide"
    }
   },
   "source": [
    "# CNN para reconocimiento de dígitos"
   ]
  },
  {
   "cell_type": "code",
   "execution_count": 1,
   "id": "3b9e067f",
   "metadata": {
    "scrolled": true,
    "slideshow": {
     "slide_type": "subslide"
    }
   },
   "outputs": [
    {
     "name": "stdout",
     "output_type": "stream",
     "text": [
      "[name: \"/device:CPU:0\"\n",
      "device_type: \"CPU\"\n",
      "memory_limit: 268435456\n",
      "locality {\n",
      "}\n",
      "incarnation: 17651825182565648754\n",
      "xla_global_id: -1\n",
      "]\n"
     ]
    }
   ],
   "source": [
    "import numpy as np\n",
    "from tensorflow import keras\n",
    "from tensorflow.keras import layers\n",
    "import matplotlib.pyplot as plt\n",
    "\n",
    "from tensorflow.python.client import device_lib\n",
    "print(device_lib.list_local_devices())"
   ]
  },
  {
   "cell_type": "code",
   "execution_count": 2,
   "id": "b7bcb558",
   "metadata": {
    "slideshow": {
     "slide_type": "subslide"
    }
   },
   "outputs": [
    {
     "data": {
      "text/plain": [
       "[PhysicalDevice(name='/physical_device:CPU:0', device_type='CPU')]"
      ]
     },
     "execution_count": 2,
     "metadata": {},
     "output_type": "execute_result"
    }
   ],
   "source": [
    "from tensorflow.config import list_physical_devices\n",
    "list_physical_devices()"
   ]
  },
  {
   "cell_type": "code",
   "execution_count": 3,
   "id": "c48d0129",
   "metadata": {
    "slideshow": {
     "slide_type": "subslide"
    }
   },
   "outputs": [
    {
     "name": "stdout",
     "output_type": "stream",
     "text": [
      "(60000, 28, 28)\n",
      "(60000,)\n"
     ]
    }
   ],
   "source": [
    "# parametros de los datos\n",
    "num_classes = 10\n",
    "input_shape = (28, 28, 1)\n",
    "\n",
    "# carga los datos y crea sets de entrenamiento y test\n",
    "(x_train, y_train), (x_test, y_test) = keras.datasets.mnist.load_data()\n",
    "print(x_train.shape)\n",
    "print(y_train.shape)"
   ]
  },
  {
   "cell_type": "code",
   "execution_count": 6,
   "id": "da47066b",
   "metadata": {
    "slideshow": {
     "slide_type": "subslide"
    }
   },
   "outputs": [
    {
     "name": "stdout",
     "output_type": "stream",
     "text": [
      "la clase verdadera es:  7\n"
     ]
    },
    {
     "data": {
      "image/png": "[encoded data removed]",
      "text/plain": [
       "<Figure size 640x480 with 2 Axes>"
      ]
     },
     "metadata": {},
     "output_type": "display_data"
    },
    {
     "name": "stdout",
     "output_type": "stream",
     "text": [
      "valor máximo en la imagen =  255\n"
     ]
    }
   ],
   "source": [
    "idx = 230\n",
    "print('la clase verdadera es: ', y_train[idx])\n",
    "plt.imshow(x_train[idx], cmap='Greys')\n",
    "plt.colorbar()\n",
    "plt.show()\n",
    "print('valor máximo en la imagen = ', np.max(x_train[idx]))"
   ]
  },
  {
   "cell_type": "code",
   "execution_count": 7,
   "id": "26d72ec6",
   "metadata": {
    "slideshow": {
     "slide_type": "subslide"
    }
   },
   "outputs": [
    {
     "name": "stdout",
     "output_type": "stream",
     "text": [
      "x_train shape: (60000, 28, 28, 1)\n",
      "x_test shape: (10000, 28, 28, 1)\n",
      "60000 train samples\n",
      "10000 test samples\n"
     ]
    }
   ],
   "source": [
    "# escala imagenes al rango 0-1 \n",
    "x_train = x_train.astype(\"float32\") / 255\n",
    "x_test = x_test.astype(\"float32\") / 255\n",
    "\n",
    "# asegurarse que las imagenes tengan tamaño 28x28x1\n",
    "x_train = np.expand_dims(x_train, -1) #agrega dimension extra\n",
    "x_test = np.expand_dims(x_test, -1) #agrega dimension extra\n",
    "print(\"x_train shape:\", x_train.shape)\n",
    "print(\"x_test shape:\", x_test.shape)\n",
    "\n",
    "print(x_train.shape[0], \"train samples\")\n",
    "print(x_test.shape[0], \"test samples\")"
   ]
  },
  {
   "cell_type": "code",
   "execution_count": 8,
   "id": "d8e25251",
   "metadata": {
    "slideshow": {
     "slide_type": "subslide"
    }
   },
   "outputs": [
    {
     "name": "stdout",
     "output_type": "stream",
     "text": [
      "7\n",
      "(60000, 10)\n",
      "[0. 0. 0. 0. 0. 0. 0. 1. 0. 0.]\n"
     ]
    }
   ],
   "source": [
    "# transforma la variable objetivo en un vector de clases\n",
    "print(y_train[idx])\n",
    "y_train = keras.utils.to_categorical(y_train, num_classes)\n",
    "y_test = keras.utils.to_categorical(y_test, num_classes)\n",
    "print(y_train.shape)\n",
    "print(y_train[idx])"
   ]
  },
  {
   "cell_type": "code",
   "execution_count": 9,
   "id": "666cb184",
   "metadata": {
    "slideshow": {
     "slide_type": "subslide"
    }
   },
   "outputs": [
    {
     "data": {
      "text/html": [
       "<pre style=\"white-space:pre;overflow-x:auto;line-height:normal;font-family:Menlo,'DejaVu Sans Mono',consolas,'Courier New',monospace\"><span style=\"font-weight: bold\">Model: \"sequential\"</span>\n",
       "</pre>\n"
      ],
      "text/plain": [
       "\u001b[1mModel: \"sequential\"\u001b[0m\n"
      ]
     },
     "metadata": {},
     "output_type": "display_data"
    },
    {
     "data": {
      "text/html": [
       "<pre style=\"white-space:pre;overflow-x:auto;line-height:normal;font-family:Menlo,'DejaVu Sans Mono',consolas,'Courier New',monospace\">┏━━━━━━━━━━━━━━━━━━━━━━━━━━━━━━━━━━━━━━┳━━━━━━━━━━━━━━━━━━━━━━━━━━━━━┳━━━━━━━━━━━━━━━━━┓\n",
       "┃<span style=\"font-weight: bold\"> Layer (type)                         </span>┃<span style=\"font-weight: bold\"> Output Shape                </span>┃<span style=\"font-weight: bold\">         Param # </span>┃\n",
       "┡━━━━━━━━━━━━━━━━━━━━━━━━━━━━━━━━━━━━━━╇━━━━━━━━━━━━━━━━━━━━━━━━━━━━━╇━━━━━━━━━━━━━━━━━┩\n",
       "│ conv2d (<span style=\"color: #0087ff; text-decoration-color: #0087ff\">Conv2D</span>)                      │ (<span style=\"color: #00d7ff; text-decoration-color: #00d7ff\">None</span>, <span style=\"color: #00af00; text-decoration-color: #00af00\">26</span>, <span style=\"color: #00af00; text-decoration-color: #00af00\">26</span>, <span style=\"color: #00af00; text-decoration-color: #00af00\">32</span>)          │             <span style=\"color: #00af00; text-decoration-color: #00af00\">320</span> │\n",
       "├──────────────────────────────────────┼─────────────────────────────┼─────────────────┤\n",
       "│ max_pooling2d (<span style=\"color: #0087ff; text-decoration-color: #0087ff\">MaxPooling2D</span>)         │ (<span style=\"color: #00d7ff; text-decoration-color: #00d7ff\">None</span>, <span style=\"color: #00af00; text-decoration-color: #00af00\">13</span>, <span style=\"color: #00af00; text-decoration-color: #00af00\">13</span>, <span style=\"color: #00af00; text-decoration-color: #00af00\">32</span>)          │               <span style=\"color: #00af00; text-decoration-color: #00af00\">0</span> │\n",
       "├──────────────────────────────────────┼─────────────────────────────┼─────────────────┤\n",
       "│ conv2d_1 (<span style=\"color: #0087ff; text-decoration-color: #0087ff\">Conv2D</span>)                    │ (<span style=\"color: #00d7ff; text-decoration-color: #00d7ff\">None</span>, <span style=\"color: #00af00; text-decoration-color: #00af00\">11</span>, <span style=\"color: #00af00; text-decoration-color: #00af00\">11</span>, <span style=\"color: #00af00; text-decoration-color: #00af00\">64</span>)          │          <span style=\"color: #00af00; text-decoration-color: #00af00\">18,496</span> │\n",
       "├──────────────────────────────────────┼─────────────────────────────┼─────────────────┤\n",
       "│ max_pooling2d_1 (<span style=\"color: #0087ff; text-decoration-color: #0087ff\">MaxPooling2D</span>)       │ (<span style=\"color: #00d7ff; text-decoration-color: #00d7ff\">None</span>, <span style=\"color: #00af00; text-decoration-color: #00af00\">5</span>, <span style=\"color: #00af00; text-decoration-color: #00af00\">5</span>, <span style=\"color: #00af00; text-decoration-color: #00af00\">64</span>)            │               <span style=\"color: #00af00; text-decoration-color: #00af00\">0</span> │\n",
       "├──────────────────────────────────────┼─────────────────────────────┼─────────────────┤\n",
       "│ flatten (<span style=\"color: #0087ff; text-decoration-color: #0087ff\">Flatten</span>)                    │ (<span style=\"color: #00d7ff; text-decoration-color: #00d7ff\">None</span>, <span style=\"color: #00af00; text-decoration-color: #00af00\">1600</span>)                │               <span style=\"color: #00af00; text-decoration-color: #00af00\">0</span> │\n",
       "├──────────────────────────────────────┼─────────────────────────────┼─────────────────┤\n",
       "│ dropout (<span style=\"color: #0087ff; text-decoration-color: #0087ff\">Dropout</span>)                    │ (<span style=\"color: #00d7ff; text-decoration-color: #00d7ff\">None</span>, <span style=\"color: #00af00; text-decoration-color: #00af00\">1600</span>)                │               <span style=\"color: #00af00; text-decoration-color: #00af00\">0</span> │\n",
       "├──────────────────────────────────────┼─────────────────────────────┼─────────────────┤\n",
       "│ dense (<span style=\"color: #0087ff; text-decoration-color: #0087ff\">Dense</span>)                        │ (<span style=\"color: #00d7ff; text-decoration-color: #00d7ff\">None</span>, <span style=\"color: #00af00; text-decoration-color: #00af00\">10</span>)                  │          <span style=\"color: #00af00; text-decoration-color: #00af00\">16,010</span> │\n",
       "└──────────────────────────────────────┴─────────────────────────────┴─────────────────┘\n",
       "</pre>\n"
      ],
      "text/plain": [
       "┏━━━━━━━━━━━━━━━━━━━━━━━━━━━━━━━━━━━━━━┳━━━━━━━━━━━━━━━━━━━━━━━━━━━━━┳━━━━━━━━━━━━━━━━━┓\n",
       "┃\u001b[1m \u001b[0m\u001b[1mLayer (type)                        \u001b[0m\u001b[1m \u001b[0m┃\u001b[1m \u001b[0m\u001b[1mOutput Shape               \u001b[0m\u001b[1m \u001b[0m┃\u001b[1m \u001b[0m\u001b[1m        Param #\u001b[0m\u001b[1m \u001b[0m┃\n",
       "┡━━━━━━━━━━━━━━━━━━━━━━━━━━━━━━━━━━━━━━╇━━━━━━━━━━━━━━━━━━━━━━━━━━━━━╇━━━━━━━━━━━━━━━━━┩\n",
       "│ conv2d (\u001b[38;5;33mConv2D\u001b[0m)                      │ (\u001b[38;5;45mNone\u001b[0m, \u001b[38;5;34m26\u001b[0m, \u001b[38;5;34m26\u001b[0m, \u001b[38;5;34m32\u001b[0m)          │             \u001b[38;5;34m320\u001b[0m │\n",
       "├──────────────────────────────────────┼─────────────────────────────┼─────────────────┤\n",
       "│ max_pooling2d (\u001b[38;5;33mMaxPooling2D\u001b[0m)         │ (\u001b[38;5;45mNone\u001b[0m, \u001b[38;5;34m13\u001b[0m, \u001b[38;5;34m13\u001b[0m, \u001b[38;5;34m32\u001b[0m)          │               \u001b[38;5;34m0\u001b[0m │\n",
       "├──────────────────────────────────────┼─────────────────────────────┼─────────────────┤\n",
       "│ conv2d_1 (\u001b[38;5;33mConv2D\u001b[0m)                    │ (\u001b[38;5;45mNone\u001b[0m, \u001b[38;5;34m11\u001b[0m, \u001b[38;5;34m11\u001b[0m, \u001b[38;5;34m64\u001b[0m)          │          \u001b[38;5;34m18,496\u001b[0m │\n",
       "├──────────────────────────────────────┼─────────────────────────────┼─────────────────┤\n",
       "│ max_pooling2d_1 (\u001b[38;5;33mMaxPooling2D\u001b[0m)       │ (\u001b[38;5;45mNone\u001b[0m, \u001b[38;5;34m5\u001b[0m, \u001b[38;5;34m5\u001b[0m, \u001b[38;5;34m64\u001b[0m)            │               \u001b[38;5;34m0\u001b[0m │\n",
       "├──────────────────────────────────────┼─────────────────────────────┼─────────────────┤\n",
       "│ flatten (\u001b[38;5;33mFlatten\u001b[0m)                    │ (\u001b[38;5;45mNone\u001b[0m, \u001b[38;5;34m1600\u001b[0m)                │               \u001b[38;5;34m0\u001b[0m │\n",
       "├──────────────────────────────────────┼─────────────────────────────┼─────────────────┤\n",
       "│ dropout (\u001b[38;5;33mDropout\u001b[0m)                    │ (\u001b[38;5;45mNone\u001b[0m, \u001b[38;5;34m1600\u001b[0m)                │               \u001b[38;5;34m0\u001b[0m │\n",
       "├──────────────────────────────────────┼─────────────────────────────┼─────────────────┤\n",
       "│ dense (\u001b[38;5;33mDense\u001b[0m)                        │ (\u001b[38;5;45mNone\u001b[0m, \u001b[38;5;34m10\u001b[0m)                  │          \u001b[38;5;34m16,010\u001b[0m │\n",
       "└──────────────────────────────────────┴─────────────────────────────┴─────────────────┘\n"
      ]
     },
     "metadata": {},
     "output_type": "display_data"
    },
    {
     "data": {
      "text/html": [
       "<pre style=\"white-space:pre;overflow-x:auto;line-height:normal;font-family:Menlo,'DejaVu Sans Mono',consolas,'Courier New',monospace\"><span style=\"font-weight: bold\"> Total params: </span><span style=\"color: #00af00; text-decoration-color: #00af00\">34,826</span> (136.04 KB)\n",
       "</pre>\n"
      ],
      "text/plain": [
       "\u001b[1m Total params: \u001b[0m\u001b[38;5;34m34,826\u001b[0m (136.04 KB)\n"
      ]
     },
     "metadata": {},
     "output_type": "display_data"
    },
    {
     "data": {
      "text/html": [
       "<pre style=\"white-space:pre;overflow-x:auto;line-height:normal;font-family:Menlo,'DejaVu Sans Mono',consolas,'Courier New',monospace\"><span style=\"font-weight: bold\"> Trainable params: </span><span style=\"color: #00af00; text-decoration-color: #00af00\">34,826</span> (136.04 KB)\n",
       "</pre>\n"
      ],
      "text/plain": [
       "\u001b[1m Trainable params: \u001b[0m\u001b[38;5;34m34,826\u001b[0m (136.04 KB)\n"
      ]
     },
     "metadata": {},
     "output_type": "display_data"
    },
    {
     "data": {
      "text/html": [
       "<pre style=\"white-space:pre;overflow-x:auto;line-height:normal;font-family:Menlo,'DejaVu Sans Mono',consolas,'Courier New',monospace\"><span style=\"font-weight: bold\"> Non-trainable params: </span><span style=\"color: #00af00; text-decoration-color: #00af00\">0</span> (0.00 B)\n",
       "</pre>\n"
      ],
      "text/plain": [
       "\u001b[1m Non-trainable params: \u001b[0m\u001b[38;5;34m0\u001b[0m (0.00 B)\n"
      ]
     },
     "metadata": {},
     "output_type": "display_data"
    }
   ],
   "source": [
    "model = keras.Sequential([keras.Input(shape=input_shape),\n",
    "        layers.Conv2D(32, kernel_size=(3, 3), activation=\"relu\"),\n",
    "        layers.MaxPooling2D(pool_size=(2, 2)),\n",
    "        layers.Conv2D(64, kernel_size=(3, 3), activation=\"relu\"),\n",
    "        layers.MaxPooling2D(pool_size=(2, 2)),\n",
    "        layers.Flatten(), layers.Dropout(0.5),\n",
    "        layers.Dense(num_classes, activation=\"softmax\"),])\n",
    "model.summary()"
   ]
  },
  {
   "cell_type": "code",
   "execution_count": 10,
   "id": "95297454",
   "metadata": {
    "slideshow": {
     "slide_type": "subslide"
    }
   },
   "outputs": [
    {
     "name": "stdout",
     "output_type": "stream",
     "text": [
      "Epoch 1/10\n",
      "\u001b[1m422/422\u001b[0m \u001b[32m━━━━━━━━━━━━━━━━━━━━\u001b[0m\u001b[37m\u001b[0m \u001b[1m37s\u001b[0m 83ms/step - accuracy: 0.7643 - loss: 0.7552 - val_accuracy: 0.9797 - val_loss: 0.0790\n",
      "Epoch 2/10\n",
      "\u001b[1m422/422\u001b[0m \u001b[32m━━━━━━━━━━━━━━━━━━━━\u001b[0m\u001b[37m\u001b[0m \u001b[1m36s\u001b[0m 86ms/step - accuracy: 0.9621 - loss: 0.1198 - val_accuracy: 0.9843 - val_loss: 0.0571\n",
      "Epoch 3/10\n",
      "\u001b[1m422/422\u001b[0m \u001b[32m━━━━━━━━━━━━━━━━━━━━\u001b[0m\u001b[37m\u001b[0m \u001b[1m36s\u001b[0m 85ms/step - accuracy: 0.9722 - loss: 0.0917 - val_accuracy: 0.9863 - val_loss: 0.0474\n",
      "Epoch 4/10\n",
      "\u001b[1m422/422\u001b[0m \u001b[32m━━━━━━━━━━━━━━━━━━━━\u001b[0m\u001b[37m\u001b[0m \u001b[1m37s\u001b[0m 87ms/step - accuracy: 0.9776 - loss: 0.0717 - val_accuracy: 0.9897 - val_loss: 0.0402\n",
      "Epoch 5/10\n",
      "\u001b[1m422/422\u001b[0m \u001b[32m━━━━━━━━━━━━━━━━━━━━\u001b[0m\u001b[37m\u001b[0m \u001b[1m38s\u001b[0m 90ms/step - accuracy: 0.9818 - loss: 0.0586 - val_accuracy: 0.9885 - val_loss: 0.0376\n",
      "Epoch 6/10\n",
      "\u001b[1m422/422\u001b[0m \u001b[32m━━━━━━━━━━━━━━━━━━━━\u001b[0m\u001b[37m\u001b[0m \u001b[1m35s\u001b[0m 83ms/step - accuracy: 0.9823 - loss: 0.0561 - val_accuracy: 0.9893 - val_loss: 0.0358\n",
      "Epoch 7/10\n",
      "\u001b[1m422/422\u001b[0m \u001b[32m━━━━━━━━━━━━━━━━━━━━\u001b[0m\u001b[37m\u001b[0m \u001b[1m36s\u001b[0m 86ms/step - accuracy: 0.9847 - loss: 0.0506 - val_accuracy: 0.9902 - val_loss: 0.0335\n",
      "Epoch 8/10\n",
      "\u001b[1m422/422\u001b[0m \u001b[32m━━━━━━━━━━━━━━━━━━━━\u001b[0m\u001b[37m\u001b[0m \u001b[1m36s\u001b[0m 86ms/step - accuracy: 0.9853 - loss: 0.0467 - val_accuracy: 0.9902 - val_loss: 0.0336\n",
      "Epoch 9/10\n",
      "\u001b[1m422/422\u001b[0m \u001b[32m━━━━━━━━━━━━━━━━━━━━\u001b[0m\u001b[37m\u001b[0m \u001b[1m39s\u001b[0m 80ms/step - accuracy: 0.9867 - loss: 0.0422 - val_accuracy: 0.9902 - val_loss: 0.0327\n",
      "Epoch 10/10\n",
      "\u001b[1m422/422\u001b[0m \u001b[32m━━━━━━━━━━━━━━━━━━━━\u001b[0m\u001b[37m\u001b[0m \u001b[1m36s\u001b[0m 85ms/step - accuracy: 0.9867 - loss: 0.0418 - val_accuracy: 0.9910 - val_loss: 0.0324\n"
     ]
    },
    {
     "data": {
      "text/plain": [
       "<keras.src.callbacks.history.History at 0x26fe7259550>"
      ]
     },
     "execution_count": 10,
     "metadata": {},
     "output_type": "execute_result"
    }
   ],
   "source": [
    "batch_size = 128\n",
    "epochs = 10\n",
    "#compila el modelo, definiendo solver, metrica y funcion de costo\n",
    "model.compile(loss=\"categorical_crossentropy\", optimizer=\"adam\", metrics=[\"accuracy\"])\n",
    "#comienza el entrenamiento\n",
    "model.fit(x_train, y_train, batch_size=batch_size, epochs=epochs, validation_split=0.1)"
   ]
  },
  {
   "cell_type": "code",
   "execution_count": 11,
   "id": "78553117",
   "metadata": {
    "slideshow": {
     "slide_type": "subslide"
    }
   },
   "outputs": [
    {
     "name": "stdout",
     "output_type": "stream",
     "text": [
      "Test loss: 0.028945690020918846\n",
      "Test accuracy: 0.9901000261306763\n"
     ]
    }
   ],
   "source": [
    "#evalua el modelo para datos de test\n",
    "score = model.evaluate(x_test, y_test, verbose=0)\n",
    "print(\"Test loss:\", score[0])\n",
    "print(\"Test accuracy:\", score[1])"
   ]
  },
  {
   "cell_type": "code",
   "execution_count": 14,
   "id": "25fd4d4b",
   "metadata": {
    "slideshow": {
     "slide_type": "subslide"
    }
   },
   "outputs": [
    {
     "data": {
      "image/png": "[encoded data removed]",
      "text/plain": [
       "<Figure size 640x480 with 1 Axes>"
      ]
     },
     "metadata": {},
     "output_type": "display_data"
    },
    {
     "name": "stdout",
     "output_type": "stream",
     "text": [
      "**la clase verdadera es:  6\n",
      "\u001b[1m1/1\u001b[0m \u001b[32m━━━━━━━━━━━━━━━━━━━━\u001b[0m\u001b[37m\u001b[0m \u001b[1m0s\u001b[0m 35ms/step\n",
      "**la clase predicha es:  6\n"
     ]
    }
   ],
   "source": [
    "#verifica predicciones para algunos datos\n",
    "idx = 259 #259\n",
    "plt.imshow(x_test[idx], cmap='Greys')\n",
    "plt.show()\n",
    "\n",
    "print('**la clase verdadera es: ', np.argmax(y_test[idx]))\n",
    "\n",
    "prediction = model.predict(np.expand_dims(x_test[idx], 0))\n",
    "print('**la clase predicha es: ', np.argmax(prediction))"
   ]
  },
  {
   "cell_type": "markdown",
   "id": "224a405f",
   "metadata": {
    "slideshow": {
     "slide_type": "subslide"
    }
   },
   "source": [
    "**Pero... ¿funciona realmente en la práctica?**\n",
    "\n",
    "<br><center>\n",
    "    <img src=\"figures/sus-1.png\" width=\"500\"/>\n",
    "</center>\n"
   ]
  },
  {
   "cell_type": "code",
   "execution_count": 23,
   "id": "bd4d81d6",
   "metadata": {
    "slideshow": {
     "slide_type": "subslide"
    }
   },
   "outputs": [],
   "source": [
    "import PIL #modulo PILLOW para trabajar con imagenes \n",
    "\n",
    "im = PIL.Image.open(\"others/20241104_134742.jpg\") #abre la imagen\n",
    "im = im.rotate(-90)\n",
    "im.show() #muestra la imagen en nueva ventana\n",
    "im = im.resize((28, 28)) #redimensiona a 28x28 px\n",
    "im = im.convert(mode=\"L\") #pasa a escala de grises\n",
    "im.show() #muestra la imagen en nueva ventana"
   ]
  },
  {
   "cell_type": "code",
   "execution_count": 24,
   "id": "826f736a",
   "metadata": {
    "slideshow": {
     "slide_type": "subslide"
    }
   },
   "outputs": [],
   "source": [
    "imarr = np.asarray(im) #pasa la imagen a array\n",
    "imarr = np.max(imarr) - imarr #invierte colores en el array\n",
    "imarr = imarr/np.max(imarr) #normaliza en el rango 0-1\n",
    "imarr = np.expand_dims(imarr, -1) #agrega la dimension de la profunidad al final"
   ]
  },
  {
   "cell_type": "code",
   "execution_count": 25,
   "id": "a2a5c845",
   "metadata": {
    "scrolled": false,
    "slideshow": {
     "slide_type": "subslide"
    }
   },
   "outputs": [
    {
     "data": {
      "image/png": "[encoded data removed]",
      "text/plain": [
       "<Figure size 640x480 with 1 Axes>"
      ]
     },
     "metadata": {},
     "output_type": "display_data"
    },
    {
     "name": "stdout",
     "output_type": "stream",
     "text": [
      "\u001b[1m1/1\u001b[0m \u001b[32m━━━━━━━━━━━━━━━━━━━━\u001b[0m\u001b[37m\u001b[0m \u001b[1m0s\u001b[0m 35ms/step\n",
      "**la clase predicha es:  8\n"
     ]
    }
   ],
   "source": [
    "plt.imshow(imarr, cmap='Greys') #grafica la imagen en colores grises\n",
    "plt.show()\n",
    "\n",
    "imarr_one = np.expand_dims(imarr, 0) #crea un grupo de solo 1 imagen\n",
    "myprediction = model.predict(imarr_one) #predice la imagen\n",
    "print('**la clase predicha es: ', np.argmax(myprediction))"
   ]
  },
  {
   "cell_type": "markdown",
   "id": "ee7adca4",
   "metadata": {
    "slideshow": {
     "slide_type": "slide"
    }
   },
   "source": [
    "# Sumario\n",
    "- El aprendizaje profundo se aprovecha de las repetidas composiciones de funciones no-lineales para encontrar patrones de estructura jerarquizada en los datos.\n",
    "- Por su naturaleza, el entrenamiento de los modelos requieren de muchos más datos y tiempo de cálculo.\n",
    "- Las CNN destacan por su habilidad en el ámbito del reconocimiento y análisis de imágenes."
   ]
  }
 ],
 "metadata": {
  "celltoolbar": "Slideshow",
  "kernelspec": {
   "display_name": "Python 3 (ipykernel)",
   "language": "python",
   "name": "python3"
  },
  "language_info": {
   "codemirror_mode": {
    "name": "ipython",
    "version": 3
   },
   "file_extension": ".py",
   "mimetype": "text/x-python",
   "name": "python",
   "nbconvert_exporter": "python",
   "pygments_lexer": "ipython3",
   "version": "3.11.5"
  }
 },
 "nbformat": 4,
 "nbformat_minor": 5
}
