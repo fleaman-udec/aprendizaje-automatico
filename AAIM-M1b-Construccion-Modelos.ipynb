{
 "cells": [
  {
   "cell_type": "markdown",
   "metadata": {
    "slideshow": {
     "slide_type": "slide"
    }
   },
   "source": [
    "# Módulo: Conceptos Fundamentales\n",
    "## Parámetros e hiperparámetros\n",
    "## Construcción, validación y evaluación de modelos"
   ]
  },
  {
   "cell_type": "markdown",
   "metadata": {
    "slideshow": {
     "slide_type": "slide"
    }
   },
   "source": [
    "# Objetivos de la clase\n",
    "- Comprender la diferencia entre los conceptos de parámetro e hiperparámetro\n",
    "- Aprender cómo se construyen, validan y evalúan correctamente los modelos\n",
    "- Conocer técnicas de validación y evaluación de modelos"
   ]
  },
  {
   "cell_type": "markdown",
   "metadata": {
    "slideshow": {
     "slide_type": "slide"
    }
   },
   "source": [
    "# Parámetros VS Hiperparámetros\n"
   ]
  },
  {
   "cell_type": "markdown",
   "metadata": {
    "slideshow": {
     "slide_type": "slide"
    }
   },
   "source": [
    "## Concepto general de parámetro\n",
    "- De manera general, el concepto \"parámetro\" denota factores o límites que afectan la forma en la que algo de hace.\n",
    "- Del punto de vista matemático, un parámetro puede condicionar el desempeño de cierto modelo.\n",
    "- En el aprendizaje automático se diferencia entre parámetro e hiperparámetro.\n",
    "\n",
    "<center>\n",
    "    <img src=\"figures/math-1.png\" width=\"500\" />\n",
    "</center>"
   ]
  },
  {
   "cell_type": "markdown",
   "metadata": {
    "slideshow": {
     "slide_type": "slide"
    }
   },
   "source": [
    "## Diferencia entre parámetros e hiperparámetros\n",
    "\n",
    "<br><center>\n",
    "    <img src=\"figures/param-2.png\" width=\"650\"/>\n",
    "</center>"
   ]
  },
  {
   "cell_type": "markdown",
   "metadata": {
    "slideshow": {
     "slide_type": "slide"
    }
   },
   "source": [
    "## Ejemplo: regresión lineal \n",
    "\n",
    "Problema: tenemos con conjunto de datos X-Y y queremos interpolar una recta para predecir nuevos valores Y dado nuevos valores X\n",
    "<center>\n",
    "    <img src=\"figures/linear-regre.png\" width=\"600\"/>\n",
    "</center>"
   ]
  },
  {
   "cell_type": "markdown",
   "metadata": {
    "slideshow": {
     "slide_type": "subslide"
    }
   },
   "source": [
    "- Sean $(x_{j}, y_{j})$ el conjunto de datos en cuestión\n",
    "\n",
    "- Sean $\\hat{y}_{j}$ los valores predichos por el modelo para los valores originales ${x}_{j}$\n",
    "\n",
    "- El modelo se expresa matemáticamente como: \n",
    "\n",
    "\\begin{align}\n",
    "    \\hat{y}_{j} = m{x}_{j} + c\n",
    "\\end{align}\n",
    "\n",
    "- El error total que genera el modelo al predecir los datos originales se puede expresar:\n",
    "\n",
    "\\begin{align}\n",
    "    E(m,c) = \\frac{1}{n} \\sum_{j=1}^{n} (y_{j} - \\hat{y}_{j})^{2} = \\frac{1}{n} \\sum_{j=1}^{n} (y_{j} - ( m{x}_{j} + c) )^{2}\n",
    "\\end{align}\n",
    "\n",
    "- En este caso $E(m,c)$ se conoce como función de costo (loss function)"
   ]
  },
  {
   "cell_type": "markdown",
   "metadata": {
    "slideshow": {
     "slide_type": "subslide"
    }
   },
   "source": [
    "- Gradiente descendente: función alcanza mínimo local en la dirección en que su gradiente desciende\n",
    "\n",
    "- Se establecen valores iniciales de $m$ y $c$ para luego actualizarlos así: \n",
    "\n",
    "\\begin{align}\n",
    "    m_{k+1} = m_{k} - L \\frac{\\partial E(m,c)}{\\partial m}\n",
    "\\end{align}\n",
    "\n",
    "\\begin{align}\n",
    "    c_{k+1} = c_{k} - L \\frac{\\partial E(m,c)}{\\partial c}\n",
    "\\end{align}\n",
    "\n",
    "- $L$ se relaciona con la velocidad a la que nos acercamos al mínimo local (learning rate)\n",
    "\n",
    "<center>\n",
    "    <img src=\"figures/gradient-1.png\" width=\"400\"/>\n",
    "</center>"
   ]
  },
  {
   "cell_type": "markdown",
   "metadata": {
    "slideshow": {
     "slide_type": "subslide"
    }
   },
   "source": [
    "- Las derivadas parciales con respecto a $m$ y $c$ son:\n",
    "\n",
    "\\begin{align}\n",
    "    D_{m} = \\frac{\\partial E(m,c)}{\\partial m} = \\frac{2}{n} \\sum_{j=0}^{n} (y_{j} - ( m{x}_{j} + c) ) (-x_{j})\n",
    "\\end{align}\n",
    "\n",
    "\\begin{align}\n",
    "    D_{c} = \\frac{\\partial E(m,c)}{\\partial c} = \\frac{2}{n} \\sum_{j=0}^{n} (y_{j} - ( m{x}_{j} + c) ) (-1)\n",
    "\\end{align}\n",
    "\n",
    "- Por simplicidad las volvemos a expresar en términos de $\\hat{y}$:\n",
    "\n",
    "\\begin{align}\n",
    "    D_{m} = \\frac{-2}{n} \\sum_{j=0}^{n} (y_{j} - \\hat{y}_{j} ) (x_{j})\n",
    "\\end{align}\n",
    "\n",
    "\\begin{align}\n",
    "    D_{c} = \\frac{-2}{n} \\sum_{j=0}^{n} (y_{j} - \\hat{y}_{j} )+ c) ) (-1)\n",
    "\\end{align}"
   ]
  },
  {
   "cell_type": "code",
   "execution_count": 2,
   "metadata": {
    "slideshow": {
     "slide_type": "subslide"
    }
   },
   "outputs": [
    {
     "data": {
      "image/png": "[encoded data removed]",
      "text/plain": [
       "<Figure size 432x288 with 1 Axes>"
      ]
     },
     "metadata": {
      "needs_background": "light"
     },
     "output_type": "display_data"
    },
    {
     "data": {
      "text/plain": [
       "(<matplotlib.legend.Legend at 0x2014618efd0>, None)"
      ]
     },
     "execution_count": 2,
     "metadata": {},
     "output_type": "execute_result"
    }
   ],
   "source": [
    "#en esta celda generamos datos al azar para el ejemplo de regresion lineal univariable\n",
    "import matplotlib.pyplot as plt\n",
    "import numpy as np\n",
    "\n",
    "def generate_dataset_simple(beta, n, std_dev): #funcion para  crear datos al azar pseudo-lineales\n",
    "    np.random.seed(23)\n",
    "    x = np.random.rand(n)*100.\n",
    "    e = np.random.randn(n) * std_dev\n",
    "    y = x * beta + e\n",
    "    return x, y\n",
    "\n",
    "beta = 3.8\n",
    "n = 25\n",
    "std_dev=57.\n",
    "x, y = generate_dataset_simple(beta, n, std_dev) #se genera el conjunto de datos\n",
    "plt.scatter(x, y, label='datos') #grafico de dispersion\n",
    "plt.xlabel('torque [Nm]'), plt.ylabel('corriente [A]') #etiquetas de los ejes\n",
    "plt.legend(), plt.show() #mostrar legenda y graficar"
   ]
  },
  {
   "cell_type": "code",
   "execution_count": 3,
   "metadata": {
    "scrolled": true,
    "slideshow": {
     "slide_type": "subslide"
    }
   },
   "outputs": [
    {
     "data": {
      "image/png": "[encoded data removed]",
      "text/plain": [
       "<Figure size 432x288 with 1 Axes>"
      ]
     },
     "metadata": {
      "needs_background": "light"
     },
     "output_type": "display_data"
    },
    {
     "data": {
      "text/plain": [
       "(<matplotlib.legend.Legend at 0x201460ba700>, None)"
      ]
     },
     "execution_count": 3,
     "metadata": {},
     "output_type": "execute_result"
    }
   ],
   "source": [
    "#en esta celda creamos un modelo inicial de regresion lineal univariable del tipo y=mx+c\n",
    "m = 5.7 #valor inicial para m\n",
    "c = 20. #valor inicial para c\n",
    "ypred = m*x + c\n",
    "plt.plot([min(x), max(x)], [min(ypred), max(ypred)], color='red', label='prediccion') #grafico linea\n",
    "plt.scatter(x, y, label='datos')\n",
    "plt.xlabel('torque [Nm]'), plt.ylabel('corriente [A]')\n",
    "plt.legend(), plt.show()"
   ]
  },
  {
   "cell_type": "code",
   "execution_count": 6,
   "metadata": {
    "slideshow": {
     "slide_type": "subslide"
    }
   },
   "outputs": [],
   "source": [
    "#implementamos el algoritmo de gradiente descendente\n",
    "def grad_desc(x, y, L, epochs, m, c):\n",
    "    n = len(x)\n",
    "    for i in range(epochs): \n",
    "        ypred = m*x + c  #prediccion actual de los valores y\n",
    "        Dm = (-2/n) * sum(x * (y - ypred))  #derivada c/r m\n",
    "        Dc = (-2/n) * sum(y - ypred)  #derivada c/r c\n",
    "        m = m - L * Dm  #actualizar m\n",
    "        c = c - L * Dc  #actualizar c\n",
    "    return m, c"
   ]
  },
  {
   "cell_type": "code",
   "execution_count": 7,
   "metadata": {
    "slideshow": {
     "slide_type": "subslide"
    }
   },
   "outputs": [
    {
     "name": "stdout",
     "output_type": "stream",
     "text": [
      "valores m y c =  3.472633388997968 18.760452335856876\n"
     ]
    },
    {
     "data": {
      "image/png": "[encoded data removed]",
      "text/plain": [
       "<Figure size 432x288 with 1 Axes>"
      ]
     },
     "metadata": {
      "needs_background": "light"
     },
     "output_type": "display_data"
    },
    {
     "data": {
      "text/plain": [
       "(<matplotlib.legend.Legend at 0x20146326af0>, None)"
      ]
     },
     "execution_count": 7,
     "metadata": {},
     "output_type": "execute_result"
    }
   ],
   "source": [
    "#usamos el gradiente descendente para mejorar el modelo\n",
    "\n",
    "L = 1.e-4  #velocidad de aprendizaje\n",
    "epochs = 1000  #numero de iteraciones\n",
    "m = 5.7 #valor inicial para m\n",
    "c = 20. #valor inicial para c\n",
    "m, c = grad_desc(x, y, L, epochs, m, c)\n",
    "print('valores m y c = ', m, c) #valores finales de m y c\n",
    "\n",
    "ypred = m*x + c #volvemos a generar la prediccion con los nuevos m y c\n",
    "plt.plot([min(x), max(x)], [min(ypred), max(ypred)], color='red', label='prediccion')\n",
    "plt.scatter(x, y, label='datos')\n",
    "plt.xlabel('torque [Nm]'), plt.ylabel('corriente [A]')\n",
    "plt.legend(), plt.show()"
   ]
  },
  {
   "cell_type": "markdown",
   "metadata": {
    "slideshow": {
     "slide_type": "subslide"
    }
   },
   "source": [
    "**Entonces... ¿cuáles son los parámetros e hiperparámetros en el ejemplo?**\n",
    "\n",
    "<center>\n",
    "    <br> <img src=\"figures/example-gradient-descent.png\" width=\"500\"/>\n",
    "</center>\n"
   ]
  },
  {
   "cell_type": "markdown",
   "metadata": {
    "slideshow": {
     "slide_type": "slide"
    }
   },
   "source": [
    "# Construcción y validación de modelos"
   ]
  },
  {
   "cell_type": "markdown",
   "metadata": {
    "slideshow": {
     "slide_type": "slide"
    }
   },
   "source": [
    "## Primera intuición\n",
    "Enfoque correcto, pero incompleto ya que no hay una etapa de ajuste de hiperparámetros\n",
    "\n",
    "<br>\n",
    "<center>\n",
    "    <img src=\"figures/training-0.png\" width=\"800\"/>\n",
    "</center>\n"
   ]
  },
  {
   "cell_type": "markdown",
   "metadata": {
    "slideshow": {
     "slide_type": "slide"
    }
   },
   "source": [
    "## Enfoque correcto\n",
    "Procedimiento completo para entrenamiento, evaluación y ajuste de hiperparámetros (validación)\n",
    "\n",
    "<br>\n",
    "<center>\n",
    "    <img src=\"figures/training1.png\" width=\"850\"/>\n",
    "</center>\n"
   ]
  },
  {
   "cell_type": "markdown",
   "metadata": {
    "slideshow": {
     "slide_type": "slide"
    }
   },
   "source": [
    "## Algunas técnicas para ajuste de hiperparámetros\n",
    "- Búsqueda de malla (grid search)\n",
    "- Búsqueda aleatoria (random search)\n",
    "- Validación cruzada (cross-validation)"
   ]
  },
  {
   "cell_type": "markdown",
   "metadata": {
    "slideshow": {
     "slide_type": "subslide"
    }
   },
   "source": [
    "### Búsqueda de malla y aleatoria\n",
    "Se realiza en el set de validación\n",
    "\n",
    "<center>\n",
    "<img src=\"figures/grid-random.png\" width=\"800\"/>\n",
    "</center>\n",
    "\n"
   ]
  },
  {
   "cell_type": "markdown",
   "metadata": {
    "slideshow": {
     "slide_type": "subslide"
    }
   },
   "source": [
    "### Validación cruzada (cross-validation)\n",
    "\n",
    "<br><center>\n",
    "    <img src=\"figures/crossvalidation.png\" width=\"700\"/>\n",
    "</center>\n"
   ]
  },
  {
   "cell_type": "markdown",
   "metadata": {
    "slideshow": {
     "slide_type": "slide"
    }
   },
   "source": [
    "# Evaluación de modelos"
   ]
  },
  {
   "cell_type": "markdown",
   "metadata": {
    "slideshow": {
     "slide_type": "slide"
    }
   },
   "source": [
    "## Subajuste y sobreajuste (underfitting and overfitting)\n",
    "\n",
    "Qué tanto se ajusta el modelo a los datos de entrenamiento (error de entrenamiento)\n",
    "\n",
    "<br>\n",
    "<center>\n",
    "<img src=\"figures/biasvariance1.png\" width=\"900\"/>\n",
    "</center>\n"
   ]
  },
  {
   "cell_type": "markdown",
   "metadata": {
    "slideshow": {
     "slide_type": "slide"
    }
   },
   "source": [
    "## Compensación sesgo-varianza (bias-variance tradeoff)\n",
    "\n",
    "<br>\n",
    "<center>\n",
    "    <img src=\"figures/biasvariance2.png\" width=\"400\"/>\n",
    "</center>\n",
    "\n",
    "\n",
    "- Por intentar tener un error de entrenamiento muy bajo (error de sesgo bajo), se corre el riesgo de tener un error de validación (error de varianza) muy alto > Sobreajuste\n",
    "\n",
    "- Al intentar tener una varianza pequeña, se corre el riesgo de que el modelo no se ajuste bien a los datos de entrenamiento > Subajuste"
   ]
  },
  {
   "cell_type": "markdown",
   "metadata": {
    "slideshow": {
     "slide_type": "slide"
    }
   },
   "source": [
    "## Compensación sesgo-varianza según complejidad\n",
    "\n",
    "<br>\n",
    "<center>\n",
    "    <img src=\"figures/biasvariance3.jfif\" width=\"1200\"/>\n",
    "</center>\n"
   ]
  },
  {
   "cell_type": "markdown",
   "metadata": {
    "slideshow": {
     "slide_type": "slide"
    }
   },
   "source": [
    "# Sumario\n",
    "- Un parámetro es un valor interno del modelo que se obtiene en el proceso de entrenamiento.\n",
    "- Un hiperparámetro es un valor externo del modelo que se define con anterioridad al entrenamiento.\n",
    "- Para la construcción de modelos se deben considerar sets de datos para entrenamiento, eventual validación y evaluación.\n",
    "- Hay métodos para ajustar los hiperparámetros como la búsqueda de malla o validación cruzada."
   ]
  }
 ],
 "metadata": {
  "celltoolbar": "Slideshow",
  "kernelspec": {
   "display_name": "Python 3 (ipykernel)",
   "language": "python",
   "name": "python3"
  },
  "language_info": {
   "codemirror_mode": {
    "name": "ipython",
    "version": 3
   },
   "file_extension": ".py",
   "mimetype": "text/x-python",
   "name": "python",
   "nbconvert_exporter": "python",
   "pygments_lexer": "ipython3",
   "version": "3.9.7"
  }
 },
 "nbformat": 4,
 "nbformat_minor": 4
}
