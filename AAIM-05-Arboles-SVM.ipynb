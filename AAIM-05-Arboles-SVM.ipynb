{
 "cells": [
  {
   "cell_type": "markdown",
   "metadata": {
    "slideshow": {
     "slide_type": "slide"
    }
   },
   "source": [
    "# Árboles de Decisión y Máquina de Soporte de Vectores"
   ]
  },
  {
   "cell_type": "markdown",
   "metadata": {
    "slideshow": {
     "slide_type": "slide"
    }
   },
   "source": [
    "# Objetivos\n",
    "- Conocer los fundamentos de los métodos de árbol de decisión y máquina de soporte de vectores (SVM)\n",
    "- Generar modelos SVM para tareas de clasificación sin y con ajuste de hiperparámetros\n",
    "- Aprender nuevas métricas de desempeño para clasificación binaria"
   ]
  },
  {
   "cell_type": "markdown",
   "metadata": {
    "slideshow": {
     "slide_type": "slide"
    }
   },
   "source": [
    "# Árboles de decisión\n"
   ]
  },
  {
   "cell_type": "markdown",
   "metadata": {
    "slideshow": {
     "slide_type": "slide"
    }
   },
   "source": [
    "## Generalidades\n",
    "\n",
    "Modelo para predecir la variable objetivo mediante reglas simples de inferencia (if - then)\n",
    "\n",
    "Tiene una estructura del tipo diagrama de flujo (árbol) en la que cada nodo representa la prueba lógica de algún atributo\n",
    "\n",
    "<center>\n",
    "    <img src=\"figures/decision-tree.png\" width=\"600\"/>\n",
    "</center>\n",
    "\n",
    "Los caminos desde raiz hasta hojas representan las reglas de clasificación (o regresión)"
   ]
  },
  {
   "cell_type": "markdown",
   "metadata": {
    "slideshow": {
     "slide_type": "slide"
    }
   },
   "source": [
    "## Función de costo\n",
    "\n",
    "Usualmente se usa la impureza Gini para medir el desempeño en cada nodo\n",
    "\n",
    "La impureza Gini $G$ se calcula de la siguiente forma, en donde $C$ es la cantidad de clases y $p(i)$ es la probabilidad de aleatoriamente elegir una muestra de la clase $i$\n",
    "\n",
    "\\begin{split}\n",
    "    G = \\sum_{i=1}^{C}p(i) (1-p(i))\n",
    "\\end{split}\n",
    "\n",
    "Este valor representa la probabilidad de clasificar una muestra incorrectamente\n",
    "\n",
    "Un algoritmo se encarga de ir probando valores para los atributos con el objetivo de reducir la impureza de cada rama"
   ]
  },
  {
   "cell_type": "code",
   "execution_count": 1,
   "metadata": {
    "slideshow": {
     "slide_type": "slide"
    }
   },
   "outputs": [
    {
     "data": {
      "text/html": [
       "<div>\n",
       "<style scoped>\n",
       "    .dataframe tbody tr th:only-of-type {\n",
       "        vertical-align: middle;\n",
       "    }\n",
       "\n",
       "    .dataframe tbody tr th {\n",
       "        vertical-align: top;\n",
       "    }\n",
       "\n",
       "    .dataframe thead th {\n",
       "        text-align: right;\n",
       "    }\n",
       "</style>\n",
       "<table border=\"1\" class=\"dataframe\">\n",
       "  <thead>\n",
       "    <tr style=\"text-align: right;\">\n",
       "      <th></th>\n",
       "      <th>target</th>\n",
       "      <th>rpm</th>\n",
       "      <th>torque</th>\n",
       "      <th>corriente</th>\n",
       "    </tr>\n",
       "  </thead>\n",
       "  <tbody>\n",
       "    <tr>\n",
       "      <th>0</th>\n",
       "      <td>0</td>\n",
       "      <td>100</td>\n",
       "      <td>35</td>\n",
       "      <td>1.2</td>\n",
       "    </tr>\n",
       "    <tr>\n",
       "      <th>1</th>\n",
       "      <td>0</td>\n",
       "      <td>120</td>\n",
       "      <td>38</td>\n",
       "      <td>1.2</td>\n",
       "    </tr>\n",
       "    <tr>\n",
       "      <th>2</th>\n",
       "      <td>1</td>\n",
       "      <td>120</td>\n",
       "      <td>21</td>\n",
       "      <td>1.3</td>\n",
       "    </tr>\n",
       "    <tr>\n",
       "      <th>3</th>\n",
       "      <td>0</td>\n",
       "      <td>100</td>\n",
       "      <td>34</td>\n",
       "      <td>1.4</td>\n",
       "    </tr>\n",
       "    <tr>\n",
       "      <th>4</th>\n",
       "      <td>1</td>\n",
       "      <td>110</td>\n",
       "      <td>24</td>\n",
       "      <td>1.1</td>\n",
       "    </tr>\n",
       "    <tr>\n",
       "      <th>5</th>\n",
       "      <td>1</td>\n",
       "      <td>120</td>\n",
       "      <td>37</td>\n",
       "      <td>0.9</td>\n",
       "    </tr>\n",
       "    <tr>\n",
       "      <th>6</th>\n",
       "      <td>0</td>\n",
       "      <td>115</td>\n",
       "      <td>37</td>\n",
       "      <td>1.0</td>\n",
       "    </tr>\n",
       "  </tbody>\n",
       "</table>\n",
       "</div>"
      ],
      "text/plain": [
       "   target  rpm  torque  corriente\n",
       "0       0  100      35        1.2\n",
       "1       0  120      38        1.2\n",
       "2       1  120      21        1.3\n",
       "3       0  100      34        1.4\n",
       "4       1  110      24        1.1\n",
       "5       1  120      37        0.9\n",
       "6       0  115      37        1.0"
      ]
     },
     "metadata": {},
     "output_type": "display_data"
    },
    {
     "name": "stdout",
     "output_type": "stream",
     "text": [
      "impureza gini =  0.4897959183673469\n"
     ]
    }
   ],
   "source": [
    "import pandas as pd\n",
    "rpm = [100, 120, 120, 100, 110, 120, 115]\n",
    "torque = [35, 38, 21, 34, 24, 37, 37]\n",
    "corriente = [1.2, 1.2, 1.3, 1.4, 1.1, 0.9, 1.0]\n",
    "falla = [0, 0, 1, 0, 1, 1, 0]\n",
    "\n",
    "X = {'rpm':rpm, 'torque':torque, 'corriente':corriente}\n",
    "y = falla\n",
    "X = pd.DataFrame.from_dict(X)\n",
    "y = pd.DataFrame(y)\n",
    "\n",
    "X.insert(0, \"target\", y)\n",
    "display(X)\n",
    "\n",
    "#observaciones clase 0 = 4, observaciones clase 1 = 3, total observaciones = 7\n",
    "gini = (4./7.)*(1.-(4./7.)) + (3./7.)*(1.-(3./7.))\n",
    "print('impureza gini = ', gini)"
   ]
  },
  {
   "cell_type": "code",
   "execution_count": 2,
   "metadata": {
    "scrolled": true,
    "slideshow": {
     "slide_type": "subslide"
    }
   },
   "outputs": [
    {
     "name": "stdout",
     "output_type": "stream",
     "text": [
      "[Text(0.4, 0.8333333333333334, 'x[1] <= 29.0\\ngini = 0.49\\nsamples = 7\\nvalue = [4, 3]'), Text(0.2, 0.5, 'gini = 0.0\\nsamples = 2\\nvalue = [0, 2]'), Text(0.30000000000000004, 0.6666666666666667, 'True  '), Text(0.6, 0.5, 'x[2] <= 0.95\\ngini = 0.32\\nsamples = 5\\nvalue = [4, 1]'), Text(0.5, 0.6666666666666667, '  False'), Text(0.4, 0.16666666666666666, 'gini = 0.0\\nsamples = 1\\nvalue = [0, 1]'), Text(0.8, 0.16666666666666666, 'gini = 0.0\\nsamples = 4\\nvalue = [4, 0]')]\n"
     ]
    },
    {
     "data": {
      "image/png": "[encoded data removed]",
      "text/plain": [
       "<Figure size 640x480 with 1 Axes>"
      ]
     },
     "metadata": {},
     "output_type": "display_data"
    }
   ],
   "source": [
    "from sklearn.tree import DecisionTreeClassifier\n",
    "from sklearn import tree\n",
    "import numpy as np\n",
    "\n",
    "X = np.transpose(np.array([rpm, torque, corriente]))\n",
    "y = np.array(falla)\n",
    "\n",
    "clf = DecisionTreeClassifier().fit(X, y)\n",
    "\n",
    "print(tree.plot_tree(clf))"
   ]
  },
  {
   "cell_type": "markdown",
   "metadata": {
    "slideshow": {
     "slide_type": "slide"
    }
   },
   "source": [
    "## Ventajas y desventajas \n",
    "\n",
    "Ventajas\n",
    "- Simple de entender e interpretar\n",
    "- Modelos son fácilmente visualizables\n",
    "- No requiere mayor pre-procesamiento de datos\n",
    "\n",
    "Desventajas\n",
    "- Tienden a sufrir mucho de overfitting\n",
    "- Pueden ser inestables ante pequeñas variaciones en los datos\n",
    "- Predicciones no son continuas ni suaves"
   ]
  },
  {
   "cell_type": "markdown",
   "metadata": {
    "slideshow": {
     "slide_type": "slide"
    }
   },
   "source": [
    "# Máquina de Soporte de Vectores\n",
    "(Support Vector Machine, SVM)"
   ]
  },
  {
   "cell_type": "markdown",
   "metadata": {
    "slideshow": {
     "slide_type": "slide"
    }
   },
   "source": [
    "## Generalidades\n",
    "Se trata de encontrar el hiperplano que maximize la distancia (o márgen) entre datos con distinta clasificación\n",
    "\n",
    "<center>\n",
    "    <img src=\"figures/svm1.png\" width=\"600\"/>\n",
    "</center>\n",
    "\n",
    "Los datos (u observaciones) que justo definen uno de los márgenes se llaman vectores de soporte"
   ]
  },
  {
   "cell_type": "markdown",
   "metadata": {
    "slideshow": {
     "slide_type": "subslide"
    }
   },
   "source": [
    "Si los datos no son linealmente separables, habrán algunas muestras al lado \"incorrecto\" de cada hiperplano\n",
    "\n",
    "<center>\n",
    "    <img src=\"figures/svm2.png\" width=\"600\"/>\n",
    "</center>\n",
    "\n",
    "En este caso el algoritmo se encarga de encontrar los hiperplanos que minimizen estas clasificaciones incorrectas (soft margin)"
   ]
  },
  {
   "cell_type": "markdown",
   "metadata": {
    "slideshow": {
     "slide_type": "subslide"
    }
   },
   "source": [
    "Usando distintas funciones base (kernel), el algoritmo puede adaptarse para márgenes de decisión que no sean necesariamente planos\n",
    "\n",
    "<center>\n",
    "    <img src=\"figures/svm3.png\" width=\"600\"/>\n",
    "</center>\n",
    "\n",
    "También existe una versión del SVM para tareas de regresión"
   ]
  },
  {
   "cell_type": "markdown",
   "metadata": {
    "slideshow": {
     "slide_type": "slide"
    }
   },
   "source": [
    "## Formulación\n",
    "\n",
    "Un hiperplano cualquiera puede ser escrito de la forma:\n",
    "\n",
    "\\begin{split}\n",
    "    w^T x - b = 0\n",
    "\\end{split}\n",
    "\n",
    ", donde $x$ es un punto (vector) perteneciente al plano, $w$ es un vector normal al plano y $\\frac{b}{ ||w|| }$ es la distancia entre el plano y el origen"
   ]
  },
  {
   "cell_type": "markdown",
   "metadata": {
    "slideshow": {
     "slide_type": "subslide"
    }
   },
   "source": [
    "Para establecer los márgenes del modelo, consideraremos los dos hiperplanos:\n",
    "\n",
    "\\begin{split}\n",
    "w^T x - b = +1\n",
    "\\end{split}\n",
    "\n",
    "\\begin{split}\n",
    "w^T x - b = -1\n",
    "\\end{split}\n",
    "\n",
    "<center>\n",
    "    <img src=\"figures/svm-4.png\" width=\"400\"/>\n",
    "</center>\n",
    "\n",
    "Puntos arriba del primer hiperplano serán de la clase +1 (azul) y puntos abajo serán de la clase -1 (verde)"
   ]
  },
  {
   "cell_type": "markdown",
   "metadata": {
    "slideshow": {
     "slide_type": "subslide"
    }
   },
   "source": [
    "Luego podemos escribir las siguientes dos restricciones para los puntos $x_{j}$ de modo que estén al lado correcto de los hiperplanos:\n",
    "\n",
    "\\begin{split}\n",
    "    w^T x_{j} - b \\geq +1 & \\quad \\textrm{if } y_{j} = +1\n",
    "\\end{split}\n",
    "\n",
    "\\begin{split}\n",
    "    w^T x_{j} - b \\leq -1 & \\quad \\textrm{if } y_{j} = -1\n",
    "\\end{split}\n",
    "\n",
    "Estas dos restricciones se pueden resumir de la siguiente forma:\n",
    "\n",
    "\\begin{split}\n",
    "    y_{j} (w^T x_{j} - b) \\geq +1 & \\quad \\textrm{for } 1 \\leq j \\leq m\n",
    "\\end{split}\n",
    "\n",
    "Dado que la distancia entre ambos hiperplanos es $\\frac{2}{ ||w|| }$, para maximizar esta distancia debemos minimizar $||w||$ bajo la restricción anterior."
   ]
  },
  {
   "cell_type": "markdown",
   "metadata": {
    "slideshow": {
     "slide_type": "slide"
    }
   },
   "source": [
    "## Función de costo\n",
    "\n",
    "Si los datos no son linealmente separables, la restricción anterior ($y_{j} (w^T x_{j} - b) \\geq +1$) no se cumplirá necesariamente para cada punto.\n",
    "\n",
    "Así, se introduce la función de costo Hinge para estos casos:\n",
    "\n",
    "\\begin{split}\n",
    "    \\max \\{0, 1 - y_{j} (w^T x_{j} - b) \\}\n",
    "\\end{split}\n",
    "\n",
    "Si no se cumple la restricción, el término de la derecha será mayor que cero (costo asociado). Mientras más lejos esté el punto el costo será mayor. \n",
    "\n",
    "Para puntos bien clasificados el término de la derecha es negativo, por lo que el costo es cero."
   ]
  },
  {
   "cell_type": "markdown",
   "metadata": {
    "slideshow": {
     "slide_type": "subslide"
    }
   },
   "source": [
    "Entonces se define la siguiente función de costo incorporando regularización para encontrar los valores apropiados para los términos $w$ :\n",
    "\n",
    "\\begin{split}\n",
    "S(w) = \\frac{1}{m}  \\sum_{j=1}^{m} \\max \\{0, 1 - y_{j} (w^T x_{j} - b) \\} + \\alpha ||w||^2\n",
    "\\end{split}\n",
    "\n",
    ", donde $m$ es la cantidad de observaciones y $\\alpha$ es la intensidad de regularización"
   ]
  },
  {
   "cell_type": "markdown",
   "metadata": {
    "slideshow": {
     "slide_type": "slide"
    }
   },
   "source": [
    "## SVM en Scikit-Learn\n",
    "\n",
    "https://scikit-learn.org/stable/modules/generated/sklearn.svm.SVC.html#sklearn.svm.SVC\n",
    "\n",
    "https://scikit-learn.org/stable/modules/generated/sklearn.svm.SVR.html#sklearn.svm.SVR"
   ]
  },
  {
   "cell_type": "markdown",
   "metadata": {
    "slideshow": {
     "slide_type": "slide"
    }
   },
   "source": [
    "## Ejemplo \"Iris\"\n",
    "- Visualización del set de datos\n",
    "\n",
    "- Clasificador SVM sin ajuste de hiperparámetros\n",
    "\n",
    "- Cálculo de exactitud de la clasificación\n",
    "\n",
    "<center>\n",
    "    <img src=\"figures/iris.png\" width=\"700\"/>\n",
    "</center>\n",
    "\n",
    "https://scikit-learn.org/dev/datasets/toy_dataset.html#iris-plants-dataset"
   ]
  },
  {
   "cell_type": "code",
   "execution_count": 2,
   "metadata": {
    "slideshow": {
     "slide_type": "subslide"
    }
   },
   "outputs": [
    {
     "data": {
      "image/png": "[encoded data removed]",
      "text/plain": [
       "<Figure size 640x480 with 1 Axes>"
      ]
     },
     "metadata": {},
     "output_type": "display_data"
    }
   ],
   "source": [
    "from sklearn import datasets\n",
    "import matplotlib.pyplot as plt\n",
    "\n",
    "iris = datasets.load_iris()\n",
    "X = iris.data[:, 2:4]  # solo los últimos 2 atributos (largo y ancho del pétalo)\n",
    "y = iris.target\n",
    "\n",
    "plt.scatter(X[:,0][y == 0], X[:,1][y == 0], color='red', label='Clase 0')\n",
    "plt.scatter(X[:,0][y == 1], X[:,1][y == 1], color='blue', label='Clase 1')\n",
    "plt.scatter(X[:,0][y == 2], X[:,1][y == 2], color='green', label='Clase 2')\n",
    "plt.xlabel('Largo pétalo'), plt.ylabel('Ancho pétalo')\n",
    "plt.title('Set de datos'), plt.legend()\n",
    "plt.show()"
   ]
  },
  {
   "cell_type": "code",
   "execution_count": 3,
   "metadata": {
    "slideshow": {
     "slide_type": "subslide"
    }
   },
   "outputs": [
    {
     "data": {
      "image/png": "[encoded data removed]",
      "text/plain": [
       "<Figure size 640x480 with 1 Axes>"
      ]
     },
     "metadata": {},
     "output_type": "display_data"
    }
   ],
   "source": [
    "from sklearn.model_selection import train_test_split\n",
    "X_train, X_test, y_train, y_test = train_test_split(X, y, test_size=0.2, random_state=42, shuffle=True, stratify=y)\n",
    "\n",
    "plt.scatter(X_train[:,0][y_train == 0], X_train[:,1][y_train == 0], color='red', label='Clase 0')\n",
    "plt.scatter(X_train[:,0][y_train == 1], X_train[:,1][y_train == 1], color='blue', label='Clase 1')\n",
    "plt.scatter(X_train[:,0][y_train == 2], X_train[:,1][y_train == 2], color='green', label='Clase 2')\n",
    "plt.scatter(X_test[:,0], X_test[:,1], color='black', label='?')\n",
    "plt.legend(), plt.title('Subsets de entrenamiento y test')\n",
    "plt.xlabel('Largo pétalo'), plt.ylabel('Ancho pétalo')\n",
    "plt.show()"
   ]
  },
  {
   "cell_type": "code",
   "execution_count": 9,
   "metadata": {
    "slideshow": {
     "slide_type": "subslide"
    }
   },
   "outputs": [
    {
     "name": "stdout",
     "output_type": "stream",
     "text": [
      "Clases real =  [0 2 1 1 0 1 0 0 2 1 2 2 2 1 0 0 0 1 1 2 0 2 1 2 2 1 1 0 2 0]\n",
      "Clases pred =  [0 2 1 1 0 1 0 0 2 1 2 2 2 1 0 0 0 1 1 2 0 2 1 2 2 2 1 0 2 0]\n"
     ]
    }
   ],
   "source": [
    "from sklearn.svm import SVC\n",
    "\n",
    "clf = SVC()\n",
    "clf.fit(X_train, y_train)\n",
    "y_test_pred = clf.predict(X_test)\n",
    "\n",
    "print('Clases real = ', y_test)\n",
    "print('Clases pred = ', y_test_pred)\n"
   ]
  },
  {
   "cell_type": "code",
   "execution_count": 10,
   "metadata": {
    "slideshow": {
     "slide_type": "subslide"
    }
   },
   "outputs": [
    {
     "name": "stdout",
     "output_type": "stream",
     "text": [
      "El accuracy de la fase de test es:  0.9666666666666667\n",
      "El accuracy de la fase de entrenamiento es:  0.9666666666666667\n"
     ]
    }
   ],
   "source": [
    "from sklearn.metrics import accuracy_score\n",
    "\n",
    "accuracy_test = accuracy_score(y_test, y_test_pred)\n",
    "print('El accuracy de la fase de test es: ', accuracy_test)\n",
    "\n",
    "y_pred_train = clf.predict(X_train)\n",
    "accuracy_train = accuracy_score(y_train, y_pred_train)\n",
    "print('El accuracy de la fase de entrenamiento es: ', accuracy_train)"
   ]
  },
  {
   "cell_type": "markdown",
   "metadata": {
    "slideshow": {
     "slide_type": "slide"
    }
   },
   "source": [
    "## Otras métricas de clasificación binaria\n",
    "\n",
    "<center>\n",
    "    <img src=\"figures/precisionrecall.png\" width=\"300\"/>\n",
    "</center>\n",
    " "
   ]
  },
  {
   "cell_type": "markdown",
   "metadata": {
    "slideshow": {
     "slide_type": "subslide"
    }
   },
   "source": [
    "\\begin{split}\n",
    "    Accuracy = \\frac{TP+TN}{TP+TN+FP+FN} \n",
    "\\end{split}\n",
    "<br>\n",
    "\n",
    "\\begin{split}\n",
    "    Recall = \\frac{TP}{TP+FN}\n",
    "\\end{split}\n",
    "<br>\n",
    "\n",
    "\\begin{split}\n",
    "    Precision = \\frac{TP}{TP+FP}\n",
    "\\end{split}"
   ]
  },
  {
   "cell_type": "markdown",
   "metadata": {
    "slideshow": {
     "slide_type": "slide"
    }
   },
   "source": [
    "## Ejemplo \"Diagnostic\"\n",
    "- Validación cruzada\n",
    "- Clasificador SVM con ajuste de hiperparámetros\n",
    "- Otras métricas de clasificación binaria\n",
    "\n",
    "<center>\n",
    "    <img src=\"figures/diagnostic.jpg\" width=\"400\"/>\n",
    "</center>\n",
    "\n",
    "https://scikit-learn.org/dev/datasets/toy_dataset.html#breast-cancer-wisconsin-diagnostic-dataset\n"
   ]
  },
  {
   "cell_type": "code",
   "execution_count": 11,
   "metadata": {
    "slideshow": {
     "slide_type": "subslide"
    }
   },
   "outputs": [
    {
     "data": {
      "text/html": [
       "<div>\n",
       "<style scoped>\n",
       "    .dataframe tbody tr th:only-of-type {\n",
       "        vertical-align: middle;\n",
       "    }\n",
       "\n",
       "    .dataframe tbody tr th {\n",
       "        vertical-align: top;\n",
       "    }\n",
       "\n",
       "    .dataframe thead th {\n",
       "        text-align: right;\n",
       "    }\n",
       "</style>\n",
       "<table border=\"1\" class=\"dataframe\">\n",
       "  <thead>\n",
       "    <tr style=\"text-align: right;\">\n",
       "      <th></th>\n",
       "      <th>target</th>\n",
       "      <th>mean radius</th>\n",
       "      <th>mean texture</th>\n",
       "      <th>mean perimeter</th>\n",
       "      <th>mean area</th>\n",
       "      <th>mean smoothness</th>\n",
       "      <th>mean compactness</th>\n",
       "      <th>mean concavity</th>\n",
       "      <th>mean concave points</th>\n",
       "      <th>mean symmetry</th>\n",
       "      <th>...</th>\n",
       "      <th>worst radius</th>\n",
       "      <th>worst texture</th>\n",
       "      <th>worst perimeter</th>\n",
       "      <th>worst area</th>\n",
       "      <th>worst smoothness</th>\n",
       "      <th>worst compactness</th>\n",
       "      <th>worst concavity</th>\n",
       "      <th>worst concave points</th>\n",
       "      <th>worst symmetry</th>\n",
       "      <th>worst fractal dimension</th>\n",
       "    </tr>\n",
       "  </thead>\n",
       "  <tbody>\n",
       "    <tr>\n",
       "      <th>0</th>\n",
       "      <td>0</td>\n",
       "      <td>17.99</td>\n",
       "      <td>10.38</td>\n",
       "      <td>122.80</td>\n",
       "      <td>1001.0</td>\n",
       "      <td>0.11840</td>\n",
       "      <td>0.27760</td>\n",
       "      <td>0.30010</td>\n",
       "      <td>0.14710</td>\n",
       "      <td>0.2419</td>\n",
       "      <td>...</td>\n",
       "      <td>25.380</td>\n",
       "      <td>17.33</td>\n",
       "      <td>184.60</td>\n",
       "      <td>2019.0</td>\n",
       "      <td>0.16220</td>\n",
       "      <td>0.66560</td>\n",
       "      <td>0.7119</td>\n",
       "      <td>0.2654</td>\n",
       "      <td>0.4601</td>\n",
       "      <td>0.11890</td>\n",
       "    </tr>\n",
       "    <tr>\n",
       "      <th>1</th>\n",
       "      <td>0</td>\n",
       "      <td>20.57</td>\n",
       "      <td>17.77</td>\n",
       "      <td>132.90</td>\n",
       "      <td>1326.0</td>\n",
       "      <td>0.08474</td>\n",
       "      <td>0.07864</td>\n",
       "      <td>0.08690</td>\n",
       "      <td>0.07017</td>\n",
       "      <td>0.1812</td>\n",
       "      <td>...</td>\n",
       "      <td>24.990</td>\n",
       "      <td>23.41</td>\n",
       "      <td>158.80</td>\n",
       "      <td>1956.0</td>\n",
       "      <td>0.12380</td>\n",
       "      <td>0.18660</td>\n",
       "      <td>0.2416</td>\n",
       "      <td>0.1860</td>\n",
       "      <td>0.2750</td>\n",
       "      <td>0.08902</td>\n",
       "    </tr>\n",
       "    <tr>\n",
       "      <th>2</th>\n",
       "      <td>0</td>\n",
       "      <td>19.69</td>\n",
       "      <td>21.25</td>\n",
       "      <td>130.00</td>\n",
       "      <td>1203.0</td>\n",
       "      <td>0.10960</td>\n",
       "      <td>0.15990</td>\n",
       "      <td>0.19740</td>\n",
       "      <td>0.12790</td>\n",
       "      <td>0.2069</td>\n",
       "      <td>...</td>\n",
       "      <td>23.570</td>\n",
       "      <td>25.53</td>\n",
       "      <td>152.50</td>\n",
       "      <td>1709.0</td>\n",
       "      <td>0.14440</td>\n",
       "      <td>0.42450</td>\n",
       "      <td>0.4504</td>\n",
       "      <td>0.2430</td>\n",
       "      <td>0.3613</td>\n",
       "      <td>0.08758</td>\n",
       "    </tr>\n",
       "    <tr>\n",
       "      <th>3</th>\n",
       "      <td>0</td>\n",
       "      <td>11.42</td>\n",
       "      <td>20.38</td>\n",
       "      <td>77.58</td>\n",
       "      <td>386.1</td>\n",
       "      <td>0.14250</td>\n",
       "      <td>0.28390</td>\n",
       "      <td>0.24140</td>\n",
       "      <td>0.10520</td>\n",
       "      <td>0.2597</td>\n",
       "      <td>...</td>\n",
       "      <td>14.910</td>\n",
       "      <td>26.50</td>\n",
       "      <td>98.87</td>\n",
       "      <td>567.7</td>\n",
       "      <td>0.20980</td>\n",
       "      <td>0.86630</td>\n",
       "      <td>0.6869</td>\n",
       "      <td>0.2575</td>\n",
       "      <td>0.6638</td>\n",
       "      <td>0.17300</td>\n",
       "    </tr>\n",
       "    <tr>\n",
       "      <th>4</th>\n",
       "      <td>0</td>\n",
       "      <td>20.29</td>\n",
       "      <td>14.34</td>\n",
       "      <td>135.10</td>\n",
       "      <td>1297.0</td>\n",
       "      <td>0.10030</td>\n",
       "      <td>0.13280</td>\n",
       "      <td>0.19800</td>\n",
       "      <td>0.10430</td>\n",
       "      <td>0.1809</td>\n",
       "      <td>...</td>\n",
       "      <td>22.540</td>\n",
       "      <td>16.67</td>\n",
       "      <td>152.20</td>\n",
       "      <td>1575.0</td>\n",
       "      <td>0.13740</td>\n",
       "      <td>0.20500</td>\n",
       "      <td>0.4000</td>\n",
       "      <td>0.1625</td>\n",
       "      <td>0.2364</td>\n",
       "      <td>0.07678</td>\n",
       "    </tr>\n",
       "    <tr>\n",
       "      <th>...</th>\n",
       "      <td>...</td>\n",
       "      <td>...</td>\n",
       "      <td>...</td>\n",
       "      <td>...</td>\n",
       "      <td>...</td>\n",
       "      <td>...</td>\n",
       "      <td>...</td>\n",
       "      <td>...</td>\n",
       "      <td>...</td>\n",
       "      <td>...</td>\n",
       "      <td>...</td>\n",
       "      <td>...</td>\n",
       "      <td>...</td>\n",
       "      <td>...</td>\n",
       "      <td>...</td>\n",
       "      <td>...</td>\n",
       "      <td>...</td>\n",
       "      <td>...</td>\n",
       "      <td>...</td>\n",
       "      <td>...</td>\n",
       "      <td>...</td>\n",
       "    </tr>\n",
       "    <tr>\n",
       "      <th>564</th>\n",
       "      <td>0</td>\n",
       "      <td>21.56</td>\n",
       "      <td>22.39</td>\n",
       "      <td>142.00</td>\n",
       "      <td>1479.0</td>\n",
       "      <td>0.11100</td>\n",
       "      <td>0.11590</td>\n",
       "      <td>0.24390</td>\n",
       "      <td>0.13890</td>\n",
       "      <td>0.1726</td>\n",
       "      <td>...</td>\n",
       "      <td>25.450</td>\n",
       "      <td>26.40</td>\n",
       "      <td>166.10</td>\n",
       "      <td>2027.0</td>\n",
       "      <td>0.14100</td>\n",
       "      <td>0.21130</td>\n",
       "      <td>0.4107</td>\n",
       "      <td>0.2216</td>\n",
       "      <td>0.2060</td>\n",
       "      <td>0.07115</td>\n",
       "    </tr>\n",
       "    <tr>\n",
       "      <th>565</th>\n",
       "      <td>0</td>\n",
       "      <td>20.13</td>\n",
       "      <td>28.25</td>\n",
       "      <td>131.20</td>\n",
       "      <td>1261.0</td>\n",
       "      <td>0.09780</td>\n",
       "      <td>0.10340</td>\n",
       "      <td>0.14400</td>\n",
       "      <td>0.09791</td>\n",
       "      <td>0.1752</td>\n",
       "      <td>...</td>\n",
       "      <td>23.690</td>\n",
       "      <td>38.25</td>\n",
       "      <td>155.00</td>\n",
       "      <td>1731.0</td>\n",
       "      <td>0.11660</td>\n",
       "      <td>0.19220</td>\n",
       "      <td>0.3215</td>\n",
       "      <td>0.1628</td>\n",
       "      <td>0.2572</td>\n",
       "      <td>0.06637</td>\n",
       "    </tr>\n",
       "    <tr>\n",
       "      <th>566</th>\n",
       "      <td>0</td>\n",
       "      <td>16.60</td>\n",
       "      <td>28.08</td>\n",
       "      <td>108.30</td>\n",
       "      <td>858.1</td>\n",
       "      <td>0.08455</td>\n",
       "      <td>0.10230</td>\n",
       "      <td>0.09251</td>\n",
       "      <td>0.05302</td>\n",
       "      <td>0.1590</td>\n",
       "      <td>...</td>\n",
       "      <td>18.980</td>\n",
       "      <td>34.12</td>\n",
       "      <td>126.70</td>\n",
       "      <td>1124.0</td>\n",
       "      <td>0.11390</td>\n",
       "      <td>0.30940</td>\n",
       "      <td>0.3403</td>\n",
       "      <td>0.1418</td>\n",
       "      <td>0.2218</td>\n",
       "      <td>0.07820</td>\n",
       "    </tr>\n",
       "    <tr>\n",
       "      <th>567</th>\n",
       "      <td>0</td>\n",
       "      <td>20.60</td>\n",
       "      <td>29.33</td>\n",
       "      <td>140.10</td>\n",
       "      <td>1265.0</td>\n",
       "      <td>0.11780</td>\n",
       "      <td>0.27700</td>\n",
       "      <td>0.35140</td>\n",
       "      <td>0.15200</td>\n",
       "      <td>0.2397</td>\n",
       "      <td>...</td>\n",
       "      <td>25.740</td>\n",
       "      <td>39.42</td>\n",
       "      <td>184.60</td>\n",
       "      <td>1821.0</td>\n",
       "      <td>0.16500</td>\n",
       "      <td>0.86810</td>\n",
       "      <td>0.9387</td>\n",
       "      <td>0.2650</td>\n",
       "      <td>0.4087</td>\n",
       "      <td>0.12400</td>\n",
       "    </tr>\n",
       "    <tr>\n",
       "      <th>568</th>\n",
       "      <td>1</td>\n",
       "      <td>7.76</td>\n",
       "      <td>24.54</td>\n",
       "      <td>47.92</td>\n",
       "      <td>181.0</td>\n",
       "      <td>0.05263</td>\n",
       "      <td>0.04362</td>\n",
       "      <td>0.00000</td>\n",
       "      <td>0.00000</td>\n",
       "      <td>0.1587</td>\n",
       "      <td>...</td>\n",
       "      <td>9.456</td>\n",
       "      <td>30.37</td>\n",
       "      <td>59.16</td>\n",
       "      <td>268.6</td>\n",
       "      <td>0.08996</td>\n",
       "      <td>0.06444</td>\n",
       "      <td>0.0000</td>\n",
       "      <td>0.0000</td>\n",
       "      <td>0.2871</td>\n",
       "      <td>0.07039</td>\n",
       "    </tr>\n",
       "  </tbody>\n",
       "</table>\n",
       "<p>569 rows × 31 columns</p>\n",
       "</div>"
      ],
      "text/plain": [
       "     target  mean radius  mean texture  mean perimeter  mean area  \\\n",
       "0         0        17.99         10.38          122.80     1001.0   \n",
       "1         0        20.57         17.77          132.90     1326.0   \n",
       "2         0        19.69         21.25          130.00     1203.0   \n",
       "3         0        11.42         20.38           77.58      386.1   \n",
       "4         0        20.29         14.34          135.10     1297.0   \n",
       "..      ...          ...           ...             ...        ...   \n",
       "564       0        21.56         22.39          142.00     1479.0   \n",
       "565       0        20.13         28.25          131.20     1261.0   \n",
       "566       0        16.60         28.08          108.30      858.1   \n",
       "567       0        20.60         29.33          140.10     1265.0   \n",
       "568       1         7.76         24.54           47.92      181.0   \n",
       "\n",
       "     mean smoothness  mean compactness  mean concavity  mean concave points  \\\n",
       "0            0.11840           0.27760         0.30010              0.14710   \n",
       "1            0.08474           0.07864         0.08690              0.07017   \n",
       "2            0.10960           0.15990         0.19740              0.12790   \n",
       "3            0.14250           0.28390         0.24140              0.10520   \n",
       "4            0.10030           0.13280         0.19800              0.10430   \n",
       "..               ...               ...             ...                  ...   \n",
       "564          0.11100           0.11590         0.24390              0.13890   \n",
       "565          0.09780           0.10340         0.14400              0.09791   \n",
       "566          0.08455           0.10230         0.09251              0.05302   \n",
       "567          0.11780           0.27700         0.35140              0.15200   \n",
       "568          0.05263           0.04362         0.00000              0.00000   \n",
       "\n",
       "     mean symmetry  ...  worst radius  worst texture  worst perimeter  \\\n",
       "0           0.2419  ...        25.380          17.33           184.60   \n",
       "1           0.1812  ...        24.990          23.41           158.80   \n",
       "2           0.2069  ...        23.570          25.53           152.50   \n",
       "3           0.2597  ...        14.910          26.50            98.87   \n",
       "4           0.1809  ...        22.540          16.67           152.20   \n",
       "..             ...  ...           ...            ...              ...   \n",
       "564         0.1726  ...        25.450          26.40           166.10   \n",
       "565         0.1752  ...        23.690          38.25           155.00   \n",
       "566         0.1590  ...        18.980          34.12           126.70   \n",
       "567         0.2397  ...        25.740          39.42           184.60   \n",
       "568         0.1587  ...         9.456          30.37            59.16   \n",
       "\n",
       "     worst area  worst smoothness  worst compactness  worst concavity  \\\n",
       "0        2019.0           0.16220            0.66560           0.7119   \n",
       "1        1956.0           0.12380            0.18660           0.2416   \n",
       "2        1709.0           0.14440            0.42450           0.4504   \n",
       "3         567.7           0.20980            0.86630           0.6869   \n",
       "4        1575.0           0.13740            0.20500           0.4000   \n",
       "..          ...               ...                ...              ...   \n",
       "564      2027.0           0.14100            0.21130           0.4107   \n",
       "565      1731.0           0.11660            0.19220           0.3215   \n",
       "566      1124.0           0.11390            0.30940           0.3403   \n",
       "567      1821.0           0.16500            0.86810           0.9387   \n",
       "568       268.6           0.08996            0.06444           0.0000   \n",
       "\n",
       "     worst concave points  worst symmetry  worst fractal dimension  \n",
       "0                  0.2654          0.4601                  0.11890  \n",
       "1                  0.1860          0.2750                  0.08902  \n",
       "2                  0.2430          0.3613                  0.08758  \n",
       "3                  0.2575          0.6638                  0.17300  \n",
       "4                  0.1625          0.2364                  0.07678  \n",
       "..                    ...             ...                      ...  \n",
       "564                0.2216          0.2060                  0.07115  \n",
       "565                0.1628          0.2572                  0.06637  \n",
       "566                0.1418          0.2218                  0.07820  \n",
       "567                0.2650          0.4087                  0.12400  \n",
       "568                0.0000          0.2871                  0.07039  \n",
       "\n",
       "[569 rows x 31 columns]"
      ]
     },
     "metadata": {},
     "output_type": "display_data"
    }
   ],
   "source": [
    "from sklearn import datasets\n",
    "X, y = datasets.load_breast_cancer(return_X_y=True, as_frame=True) #cargamos dataset con atributos \"X\" y target \"y\"\n",
    "X.insert(0, \"target\", y)\n",
    "display(X) #set de datos"
   ]
  },
  {
   "cell_type": "code",
   "execution_count": 12,
   "metadata": {
    "slideshow": {
     "slide_type": "subslide"
    }
   },
   "outputs": [
    {
     "name": "stdout",
     "output_type": "stream",
     "text": [
      "[0.9125     0.9        0.875      0.92405063 0.94936709]\n",
      "promedio accuracy cross-validation =  0.9121835443037976\n"
     ]
    }
   ],
   "source": [
    "from sklearn.model_selection import cross_val_score\n",
    "\n",
    "X, y = datasets.load_breast_cancer(return_X_y=True)\n",
    "X_train, X_test, y_train, y_test = train_test_split(X, y, test_size=0.3, random_state=42, shuffle=True, stratify=y)\n",
    "\n",
    "clf = SVC(kernel='rbf', C=1.0)\n",
    "scores = cross_val_score(clf, X_train, y_train, cv=5, scoring='accuracy')\n",
    "print(scores)\n",
    "print('promedio accuracy cross-validation = ', scores.mean())"
   ]
  },
  {
   "cell_type": "code",
   "execution_count": 15,
   "metadata": {
    "slideshow": {
     "slide_type": "subslide"
    }
   },
   "outputs": [
    {
     "name": "stdout",
     "output_type": "stream",
     "text": [
      "El accuracy en la fase de test es:  0.9415204678362573\n"
     ]
    }
   ],
   "source": [
    "clf = SVC(kernel='linear', C=0.001)\n",
    "clf.fit(X_train, y_train)\n",
    "y_test_predict = clf.predict(X_test)\n",
    "accuracy = accuracy_score(y_test, y_test_predict)\n",
    "print('El accuracy en la fase de test es: ', accuracy)"
   ]
  },
  {
   "cell_type": "code",
   "execution_count": 16,
   "metadata": {
    "slideshow": {
     "slide_type": "subslide"
    }
   },
   "outputs": [
    {
     "name": "stdout",
     "output_type": "stream",
     "text": [
      "                             params  rank_test_score  mean_test_score\n",
      "0   {'C': 0.01, 'kernel': 'linear'}                4         0.957342\n",
      "1      {'C': 0.01, 'kernel': 'rbf'}               15         0.630696\n",
      "2     {'C': 0.01, 'kernel': 'poly'}               14         0.836646\n",
      "3    {'C': 0.1, 'kernel': 'linear'}                1         0.964842\n",
      "4       {'C': 0.1, 'kernel': 'rbf'}               12         0.891994\n",
      "5      {'C': 0.1, 'kernel': 'poly'}               13         0.889462\n",
      "6      {'C': 1, 'kernel': 'linear'}                2         0.962405\n",
      "7         {'C': 1, 'kernel': 'rbf'}                9         0.912184\n",
      "8        {'C': 1, 'kernel': 'poly'}               11         0.909652\n",
      "9     {'C': 10, 'kernel': 'linear'}                3         0.959842\n",
      "10       {'C': 10, 'kernel': 'rbf'}                8         0.914620\n",
      "11      {'C': 10, 'kernel': 'poly'}                7         0.919652\n",
      "12   {'C': 100, 'kernel': 'linear'}                5         0.952310\n",
      "13      {'C': 100, 'kernel': 'rbf'}                6         0.934747\n",
      "14     {'C': 100, 'kernel': 'poly'}               10         0.912120\n"
     ]
    }
   ],
   "source": [
    "from sklearn.model_selection import GridSearchCV\n",
    "parameters = {'kernel':('linear', 'rbf', 'poly'), 'C':[0.01, 0.1, 1, 10, 100]}\n",
    "clf = SVC()\n",
    "xclf = GridSearchCV(clf, parameters, scoring='accuracy', cv=5)\n",
    "xclf.fit(X_train, y_train)\n",
    "sorted(xclf.cv_results_.keys())\n",
    "\n",
    "mydict = {'params':xclf.cv_results_['params'], 'rank_test_score':xclf.cv_results_['rank_test_score'], 'mean_test_score':xclf.cv_results_['mean_test_score']}\n",
    "mydata = pd.DataFrame.from_dict(mydict)\n",
    "print(mydata)"
   ]
  },
  {
   "cell_type": "code",
   "execution_count": 17,
   "metadata": {
    "slideshow": {
     "slide_type": "subslide"
    }
   },
   "outputs": [
    {
     "name": "stdout",
     "output_type": "stream",
     "text": [
      "El accuracy en la fase de test es:  0.9473684210526315\n"
     ]
    }
   ],
   "source": [
    "clf = SVC(C=0.1, kernel='linear')\n",
    "clf.fit(X_train, y_train)\n",
    "y_test_predict = clf.predict(X_test)\n",
    "accuracy = accuracy_score(y_test, y_test_predict)\n",
    "print('El accuracy en la fase de test es: ', accuracy)"
   ]
  },
  {
   "cell_type": "code",
   "execution_count": 18,
   "metadata": {
    "slideshow": {
     "slide_type": "subslide"
    }
   },
   "outputs": [
    {
     "name": "stdout",
     "output_type": "stream",
     "text": [
      "El recall en la fase de test es:  0.9906542056074766\n",
      "El precision en la fase de test es:  0.9298245614035088\n"
     ]
    }
   ],
   "source": [
    "from sklearn.metrics import recall_score\n",
    "from sklearn.metrics import precision_score\n",
    "\n",
    "recall = recall_score(y_test, y_test_predict)\n",
    "print('El recall en la fase de test es: ', recall)\n",
    "\n",
    "precision = precision_score(y_test, y_test_predict)\n",
    "print('El precision en la fase de test es: ', precision)"
   ]
  },
  {
   "cell_type": "markdown",
   "metadata": {
    "slideshow": {
     "slide_type": "slide"
    }
   },
   "source": [
    "**Reflexión: ¿por qué es necesario definir otras medidas de clasificación binaria además del accuracy?**\n",
    "\n",
    "<center>\n",
    "    <img src=\"figures/unbalance.png\" width=\"500\"/>\n",
    "</center>"
   ]
  },
  {
   "cell_type": "markdown",
   "metadata": {
    "slideshow": {
     "slide_type": "slide"
    }
   },
   "source": [
    "# Sumario\n",
    "- Los árboles de decisión usan reglas del tipo if-then para ir dividiendo el set de datos.\n",
    "- El método SVM trabaja con encontrar los hiperplanos que mejor separan distintas clases. También hay un SVM para regresión.\n",
    "- La búsqueda de malla junto a validación cruzada se pueden usar para ajustar hiperparámetros de un modelo.\n",
    "- Para clasificación binaria existen otras métricas de desempeño como el recall (exhaustividad) y la precisión."
   ]
  }
 ],
 "metadata": {
  "celltoolbar": "Slideshow",
  "kernelspec": {
   "display_name": "Python 3 (ipykernel)",
   "language": "python",
   "name": "python3"
  },
  "language_info": {
   "codemirror_mode": {
    "name": "ipython",
    "version": 3
   },
   "file_extension": ".py",
   "mimetype": "text/x-python",
   "name": "python",
   "nbconvert_exporter": "python",
   "pygments_lexer": "ipython3",
   "version": "3.11.5"
  }
 },
 "nbformat": 4,
 "nbformat_minor": 4
}
